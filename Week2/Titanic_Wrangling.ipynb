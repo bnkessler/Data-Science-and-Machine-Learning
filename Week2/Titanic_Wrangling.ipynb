{
 "cells": [
  {
   "cell_type": "markdown",
   "metadata": {
    "id": "QWpPySbzYEIV"
   },
   "source": [
    "# Titanic Wrangling\n",
    "\n",
    "In this practice activity you'll continue to work with the titanic dataset in ways that flex what you've learned about both data wrangling and data visualization."
   ]
  },
  {
   "cell_type": "code",
   "execution_count": 4,
   "metadata": {
    "id": "Nr6w8bVCf_NM",
    "tags": []
   },
   "outputs": [
    {
     "data": {
      "text/html": [
       "<div>\n",
       "<style scoped>\n",
       "    .dataframe tbody tr th:only-of-type {\n",
       "        vertical-align: middle;\n",
       "    }\n",
       "\n",
       "    .dataframe tbody tr th {\n",
       "        vertical-align: top;\n",
       "    }\n",
       "\n",
       "    .dataframe thead th {\n",
       "        text-align: right;\n",
       "    }\n",
       "</style>\n",
       "<table border=\"1\" class=\"dataframe\">\n",
       "  <thead>\n",
       "    <tr style=\"text-align: right;\">\n",
       "      <th></th>\n",
       "      <th>name</th>\n",
       "      <th>gender</th>\n",
       "      <th>age</th>\n",
       "      <th>class</th>\n",
       "      <th>embarked</th>\n",
       "      <th>country</th>\n",
       "      <th>ticketno</th>\n",
       "      <th>fare</th>\n",
       "      <th>survived</th>\n",
       "    </tr>\n",
       "  </thead>\n",
       "  <tbody>\n",
       "    <tr>\n",
       "      <th>0</th>\n",
       "      <td>Abbing, Mr. Anthony</td>\n",
       "      <td>male</td>\n",
       "      <td>42.0</td>\n",
       "      <td>3rd</td>\n",
       "      <td>S</td>\n",
       "      <td>United States</td>\n",
       "      <td>5547.0</td>\n",
       "      <td>7.11</td>\n",
       "      <td>0</td>\n",
       "    </tr>\n",
       "    <tr>\n",
       "      <th>1</th>\n",
       "      <td>Abbott, Mr. Eugene Joseph</td>\n",
       "      <td>male</td>\n",
       "      <td>13.0</td>\n",
       "      <td>3rd</td>\n",
       "      <td>S</td>\n",
       "      <td>United States</td>\n",
       "      <td>2673.0</td>\n",
       "      <td>20.05</td>\n",
       "      <td>0</td>\n",
       "    </tr>\n",
       "    <tr>\n",
       "      <th>2</th>\n",
       "      <td>Abbott, Mr. Rossmore Edward</td>\n",
       "      <td>male</td>\n",
       "      <td>16.0</td>\n",
       "      <td>3rd</td>\n",
       "      <td>S</td>\n",
       "      <td>United States</td>\n",
       "      <td>2673.0</td>\n",
       "      <td>20.05</td>\n",
       "      <td>0</td>\n",
       "    </tr>\n",
       "    <tr>\n",
       "      <th>3</th>\n",
       "      <td>Abbott, Mrs. Rhoda Mary 'Rosa'</td>\n",
       "      <td>female</td>\n",
       "      <td>39.0</td>\n",
       "      <td>3rd</td>\n",
       "      <td>S</td>\n",
       "      <td>England</td>\n",
       "      <td>2673.0</td>\n",
       "      <td>20.05</td>\n",
       "      <td>1</td>\n",
       "    </tr>\n",
       "    <tr>\n",
       "      <th>4</th>\n",
       "      <td>Abelseth, Miss. Karen Marie</td>\n",
       "      <td>female</td>\n",
       "      <td>16.0</td>\n",
       "      <td>3rd</td>\n",
       "      <td>S</td>\n",
       "      <td>Norway</td>\n",
       "      <td>348125.0</td>\n",
       "      <td>7.13</td>\n",
       "      <td>1</td>\n",
       "    </tr>\n",
       "    <tr>\n",
       "      <th>...</th>\n",
       "      <td>...</td>\n",
       "      <td>...</td>\n",
       "      <td>...</td>\n",
       "      <td>...</td>\n",
       "      <td>...</td>\n",
       "      <td>...</td>\n",
       "      <td>...</td>\n",
       "      <td>...</td>\n",
       "      <td>...</td>\n",
       "    </tr>\n",
       "    <tr>\n",
       "      <th>2202</th>\n",
       "      <td>Wynn, Mr. Walter</td>\n",
       "      <td>male</td>\n",
       "      <td>41.0</td>\n",
       "      <td>deck crew</td>\n",
       "      <td>B</td>\n",
       "      <td>England</td>\n",
       "      <td>NaN</td>\n",
       "      <td>NaN</td>\n",
       "      <td>1</td>\n",
       "    </tr>\n",
       "    <tr>\n",
       "      <th>2203</th>\n",
       "      <td>Yearsley, Mr. Harry</td>\n",
       "      <td>male</td>\n",
       "      <td>40.0</td>\n",
       "      <td>victualling crew</td>\n",
       "      <td>S</td>\n",
       "      <td>England</td>\n",
       "      <td>NaN</td>\n",
       "      <td>NaN</td>\n",
       "      <td>1</td>\n",
       "    </tr>\n",
       "    <tr>\n",
       "      <th>2204</th>\n",
       "      <td>Young, Mr. Francis James</td>\n",
       "      <td>male</td>\n",
       "      <td>32.0</td>\n",
       "      <td>engineering crew</td>\n",
       "      <td>S</td>\n",
       "      <td>England</td>\n",
       "      <td>NaN</td>\n",
       "      <td>NaN</td>\n",
       "      <td>0</td>\n",
       "    </tr>\n",
       "    <tr>\n",
       "      <th>2205</th>\n",
       "      <td>Zanetti, Sig. Minio</td>\n",
       "      <td>male</td>\n",
       "      <td>20.0</td>\n",
       "      <td>restaurant staff</td>\n",
       "      <td>S</td>\n",
       "      <td>England</td>\n",
       "      <td>NaN</td>\n",
       "      <td>NaN</td>\n",
       "      <td>0</td>\n",
       "    </tr>\n",
       "    <tr>\n",
       "      <th>2206</th>\n",
       "      <td>Zarracchi, Sig. L.</td>\n",
       "      <td>male</td>\n",
       "      <td>26.0</td>\n",
       "      <td>restaurant staff</td>\n",
       "      <td>S</td>\n",
       "      <td>England</td>\n",
       "      <td>NaN</td>\n",
       "      <td>NaN</td>\n",
       "      <td>0</td>\n",
       "    </tr>\n",
       "  </tbody>\n",
       "</table>\n",
       "<p>2207 rows × 9 columns</p>\n",
       "</div>"
      ],
      "text/plain": [
       "                                name  gender   age  ...  ticketno   fare survived\n",
       "0                Abbing, Mr. Anthony    male  42.0  ...    5547.0   7.11        0\n",
       "1          Abbott, Mr. Eugene Joseph    male  13.0  ...    2673.0  20.05        0\n",
       "2        Abbott, Mr. Rossmore Edward    male  16.0  ...    2673.0  20.05        0\n",
       "3     Abbott, Mrs. Rhoda Mary 'Rosa'  female  39.0  ...    2673.0  20.05        1\n",
       "4        Abelseth, Miss. Karen Marie  female  16.0  ...  348125.0   7.13        1\n",
       "...                              ...     ...   ...  ...       ...    ...      ...\n",
       "2202                Wynn, Mr. Walter    male  41.0  ...       NaN    NaN        1\n",
       "2203             Yearsley, Mr. Harry    male  40.0  ...       NaN    NaN        1\n",
       "2204        Young, Mr. Francis James    male  32.0  ...       NaN    NaN        0\n",
       "2205             Zanetti, Sig. Minio    male  20.0  ...       NaN    NaN        0\n",
       "2206              Zarracchi, Sig. L.    male  26.0  ...       NaN    NaN        0\n",
       "\n",
       "[2207 rows x 9 columns]"
      ]
     },
     "execution_count": 4,
     "metadata": {},
     "output_type": "execute_result"
    }
   ],
   "source": [
    "# Import the titanic dataset here\n",
    "import pandas as pd\n",
    "data = pd.read_csv(\"https://dlsun.github.io/pods/data/titanic.csv\")\n",
    "data"
   ]
  },
  {
   "cell_type": "code",
   "execution_count": 36,
   "metadata": {
    "tags": []
   },
   "outputs": [
    {
     "data": {
      "text/plain": [
       "array(['3rd', '2nd', '1st', 'engineering crew', 'victualling crew',\n",
       "       'restaurant staff', 'deck crew'], dtype=object)"
      ]
     },
     "execution_count": 36,
     "metadata": {},
     "output_type": "execute_result"
    }
   ],
   "source": [
    "pd.unique(data[\"class\"])"
   ]
  },
  {
   "cell_type": "markdown",
   "metadata": {
    "id": "9UgZD6VFYa96"
   },
   "source": [
    "## 1. Filter the data to include passengers only. Calculate the joint distribution (cross-tab) between a passenger's class and where they embarked."
   ]
  },
  {
   "cell_type": "code",
   "execution_count": 25,
   "metadata": {
    "id": "TBthOzDLgBif",
    "tags": []
   },
   "outputs": [
    {
     "data": {
      "text/html": [
       "<div>\n",
       "<style scoped>\n",
       "    .dataframe tbody tr th:only-of-type {\n",
       "        vertical-align: middle;\n",
       "    }\n",
       "\n",
       "    .dataframe tbody tr th {\n",
       "        vertical-align: top;\n",
       "    }\n",
       "\n",
       "    .dataframe thead th {\n",
       "        text-align: right;\n",
       "    }\n",
       "</style>\n",
       "<table border=\"1\" class=\"dataframe\">\n",
       "  <thead>\n",
       "    <tr style=\"text-align: right;\">\n",
       "      <th></th>\n",
       "      <th>name</th>\n",
       "      <th>gender</th>\n",
       "      <th>age</th>\n",
       "      <th>class</th>\n",
       "      <th>embarked</th>\n",
       "      <th>country</th>\n",
       "      <th>ticketno</th>\n",
       "      <th>fare</th>\n",
       "      <th>survived</th>\n",
       "    </tr>\n",
       "  </thead>\n",
       "  <tbody>\n",
       "    <tr>\n",
       "      <th>0</th>\n",
       "      <td>Abbing, Mr. Anthony</td>\n",
       "      <td>male</td>\n",
       "      <td>42.0</td>\n",
       "      <td>3rd</td>\n",
       "      <td>S</td>\n",
       "      <td>United States</td>\n",
       "      <td>5547.0</td>\n",
       "      <td>7.11</td>\n",
       "      <td>0</td>\n",
       "    </tr>\n",
       "    <tr>\n",
       "      <th>1</th>\n",
       "      <td>Abbott, Mr. Eugene Joseph</td>\n",
       "      <td>male</td>\n",
       "      <td>13.0</td>\n",
       "      <td>3rd</td>\n",
       "      <td>S</td>\n",
       "      <td>United States</td>\n",
       "      <td>2673.0</td>\n",
       "      <td>20.05</td>\n",
       "      <td>0</td>\n",
       "    </tr>\n",
       "    <tr>\n",
       "      <th>2</th>\n",
       "      <td>Abbott, Mr. Rossmore Edward</td>\n",
       "      <td>male</td>\n",
       "      <td>16.0</td>\n",
       "      <td>3rd</td>\n",
       "      <td>S</td>\n",
       "      <td>United States</td>\n",
       "      <td>2673.0</td>\n",
       "      <td>20.05</td>\n",
       "      <td>0</td>\n",
       "    </tr>\n",
       "    <tr>\n",
       "      <th>3</th>\n",
       "      <td>Abbott, Mrs. Rhoda Mary 'Rosa'</td>\n",
       "      <td>female</td>\n",
       "      <td>39.0</td>\n",
       "      <td>3rd</td>\n",
       "      <td>S</td>\n",
       "      <td>England</td>\n",
       "      <td>2673.0</td>\n",
       "      <td>20.05</td>\n",
       "      <td>1</td>\n",
       "    </tr>\n",
       "    <tr>\n",
       "      <th>4</th>\n",
       "      <td>Abelseth, Miss. Karen Marie</td>\n",
       "      <td>female</td>\n",
       "      <td>16.0</td>\n",
       "      <td>3rd</td>\n",
       "      <td>S</td>\n",
       "      <td>Norway</td>\n",
       "      <td>348125.0</td>\n",
       "      <td>7.13</td>\n",
       "      <td>1</td>\n",
       "    </tr>\n",
       "  </tbody>\n",
       "</table>\n",
       "</div>"
      ],
      "text/plain": [
       "                             name  gender   age  ...  ticketno   fare survived\n",
       "0             Abbing, Mr. Anthony    male  42.0  ...    5547.0   7.11        0\n",
       "1       Abbott, Mr. Eugene Joseph    male  13.0  ...    2673.0  20.05        0\n",
       "2     Abbott, Mr. Rossmore Edward    male  16.0  ...    2673.0  20.05        0\n",
       "3  Abbott, Mrs. Rhoda Mary 'Rosa'  female  39.0  ...    2673.0  20.05        1\n",
       "4     Abelseth, Miss. Karen Marie  female  16.0  ...  348125.0   7.13        1\n",
       "\n",
       "[5 rows x 9 columns]"
      ]
     },
     "execution_count": 25,
     "metadata": {},
     "output_type": "execute_result"
    }
   ],
   "source": [
    "# Code here\n",
    "p_data = data[data.loc[:, \"class\"].isin([\"3rd\", \"2nd\", \"1st\"])]\n",
    "p_data.head()"
   ]
  },
  {
   "cell_type": "code",
   "execution_count": 37,
   "metadata": {
    "tags": []
   },
   "outputs": [
    {
     "data": {
      "text/html": [
       "<div>\n",
       "<style scoped>\n",
       "    .dataframe tbody tr th:only-of-type {\n",
       "        vertical-align: middle;\n",
       "    }\n",
       "\n",
       "    .dataframe tbody tr th {\n",
       "        vertical-align: top;\n",
       "    }\n",
       "\n",
       "    .dataframe thead th {\n",
       "        text-align: right;\n",
       "    }\n",
       "</style>\n",
       "<table border=\"1\" class=\"dataframe\">\n",
       "  <thead>\n",
       "    <tr style=\"text-align: right;\">\n",
       "      <th>embarked</th>\n",
       "      <th>B</th>\n",
       "      <th>C</th>\n",
       "      <th>Q</th>\n",
       "      <th>S</th>\n",
       "    </tr>\n",
       "    <tr>\n",
       "      <th>class</th>\n",
       "      <th></th>\n",
       "      <th></th>\n",
       "      <th></th>\n",
       "      <th></th>\n",
       "    </tr>\n",
       "  </thead>\n",
       "  <tbody>\n",
       "    <tr>\n",
       "      <th>1st</th>\n",
       "      <td>3</td>\n",
       "      <td>143</td>\n",
       "      <td>3</td>\n",
       "      <td>175</td>\n",
       "    </tr>\n",
       "    <tr>\n",
       "      <th>2nd</th>\n",
       "      <td>6</td>\n",
       "      <td>26</td>\n",
       "      <td>7</td>\n",
       "      <td>245</td>\n",
       "    </tr>\n",
       "    <tr>\n",
       "      <th>3rd</th>\n",
       "      <td>0</td>\n",
       "      <td>102</td>\n",
       "      <td>113</td>\n",
       "      <td>494</td>\n",
       "    </tr>\n",
       "  </tbody>\n",
       "</table>\n",
       "</div>"
      ],
      "text/plain": [
       "embarked  B    C    Q    S\n",
       "class                     \n",
       "1st       3  143    3  175\n",
       "2nd       6   26    7  245\n",
       "3rd       0  102  113  494"
      ]
     },
     "execution_count": 37,
     "metadata": {},
     "output_type": "execute_result"
    }
   ],
   "source": [
    "p_joint = pd.crosstab(p_data[\"class\"], [p_data[\"embarked\"]])\n",
    "p_joint"
   ]
  },
  {
   "cell_type": "markdown",
   "metadata": {
    "id": "3CRaJLSyYm4d"
   },
   "source": [
    "## 2. Using the joint distribution that calculated above, calculate the following:\n",
    "\n",
    "* the conditional distribution of their class given where they embarked\n",
    "* the conditional distribution of where they embarked given their class\n",
    "\n",
    "Use the conditional distributions that you calculate to answer the following quesitons:\n",
    "\n",
    "* What proportion of 3rd class passengers embarked at Southampton?\n",
    "* What proportion of Southampton passengers were in 3rd class?"
   ]
  },
  {
   "cell_type": "code",
   "execution_count": 50,
   "metadata": {
    "id": "TfTGidLIv1k0",
    "tags": []
   },
   "outputs": [
    {
     "name": "stdout",
     "output_type": "stream",
     "text": [
      "embarked         B         C         Q         S\n",
      "class                                           \n",
      "1st       0.009259  0.441358  0.009259  0.540123\n",
      "2nd       0.021127  0.091549  0.024648  0.862676\n",
      "3rd       0.000000  0.143865  0.159379  0.696756 \n",
      " class          1st       2nd       3rd\n",
      "embarked                              \n",
      "B         0.333333  0.666667  0.000000\n",
      "C         0.527675  0.095941  0.376384\n",
      "Q         0.024390  0.056911  0.918699\n",
      "S         0.191466  0.268053  0.540481\n"
     ]
    }
   ],
   "source": [
    "# Code here\n",
    "p_cond_class = pd.crosstab(p_data[\"class\"], p_data[\"embarked\"], normalize=\"index\")\n",
    "p_cond_embark = pd.crosstab(p_data[\"embarked\"], p_data[\"class\"], normalize=\"index\")\n",
    "print(p_cond_class, \"\\n\", p_cond_embark)"
   ]
  },
  {
   "cell_type": "markdown",
   "metadata": {},
   "source": [
    "The proportion of 3rd class passengers that embarked at Southampton is 69.7%.\n",
    "The proportion of Southampton Passengers who were in 3rd class is 54.1%."
   ]
  },
  {
   "cell_type": "markdown",
   "metadata": {
    "id": "pGUQeeh1ZRfz"
   },
   "source": [
    "## 3. Make a visualization showing the distribution of a passenger's class, given where they embarked.\n",
    "\n",
    "Discuss the pros and cons of using this visualization versus the distributions you calculated before, to answer the previous questions."
   ]
  },
  {
   "cell_type": "code",
   "execution_count": 52,
   "metadata": {
    "collapsed": true,
    "id": "PZ18WKJWA-xZ",
    "jupyter": {
     "outputs_hidden": true
    },
    "tags": []
   },
   "outputs": [
    {
     "ename": "PlotnineError",
     "evalue": "\"Could not evaluate the 'x' mapping: 'embarked' (original error: name 'embarked' is not defined)\"",
     "output_type": "error",
     "traceback": [
      "\u001b[0;31m---------------------------------------------------------------------------\u001b[0m",
      "\u001b[0;31mNameError\u001b[0m                                 Traceback (most recent call last)",
      "File \u001b[0;32m~/anaconda3/lib/python3.11/site-packages/plotnine/mapping/evaluation.py:228\u001b[0m, in \u001b[0;36mevaluate\u001b[0;34m(aesthetics, data, env)\u001b[0m\n\u001b[1;32m    227\u001b[0m \u001b[38;5;28;01mtry\u001b[39;00m:\n\u001b[0;32m--> 228\u001b[0m     new_val \u001b[38;5;241m=\u001b[39m env\u001b[38;5;241m.\u001b[39meval(col, inner_namespace\u001b[38;5;241m=\u001b[39mdata)\n\u001b[1;32m    229\u001b[0m \u001b[38;5;28;01mexcept\u001b[39;00m \u001b[38;5;167;01mException\u001b[39;00m \u001b[38;5;28;01mas\u001b[39;00m e:\n",
      "File \u001b[0;32m~/anaconda3/lib/python3.11/site-packages/patsy/eval.py:169\u001b[0m, in \u001b[0;36mEvalEnvironment.eval\u001b[0;34m(self, expr, source_name, inner_namespace)\u001b[0m\n\u001b[1;32m    168\u001b[0m code \u001b[38;5;241m=\u001b[39m \u001b[38;5;28mcompile\u001b[39m(expr, source_name, \u001b[38;5;124m\"\u001b[39m\u001b[38;5;124meval\u001b[39m\u001b[38;5;124m\"\u001b[39m, \u001b[38;5;28mself\u001b[39m\u001b[38;5;241m.\u001b[39mflags, \u001b[38;5;28;01mFalse\u001b[39;00m)\n\u001b[0;32m--> 169\u001b[0m \u001b[38;5;28;01mreturn\u001b[39;00m \u001b[38;5;28meval\u001b[39m(code, {}, VarLookupDict([inner_namespace]\n\u001b[1;32m    170\u001b[0m                                     \u001b[38;5;241m+\u001b[39m \u001b[38;5;28mself\u001b[39m\u001b[38;5;241m.\u001b[39m_namespaces))\n",
      "File \u001b[0;32m<string>:1\u001b[0m\n",
      "\u001b[0;31mNameError\u001b[0m: name 'embarked' is not defined",
      "\nDuring handling of the above exception, another exception occurred:\n",
      "\u001b[0;31mPlotnineError\u001b[0m                             Traceback (most recent call last)",
      "File \u001b[0;32m~/anaconda3/lib/python3.11/site-packages/IPython/core/formatters.py:708\u001b[0m, in \u001b[0;36mPlainTextFormatter.__call__\u001b[0;34m(self, obj)\u001b[0m\n\u001b[1;32m    701\u001b[0m stream \u001b[38;5;241m=\u001b[39m StringIO()\n\u001b[1;32m    702\u001b[0m printer \u001b[38;5;241m=\u001b[39m pretty\u001b[38;5;241m.\u001b[39mRepresentationPrinter(stream, \u001b[38;5;28mself\u001b[39m\u001b[38;5;241m.\u001b[39mverbose,\n\u001b[1;32m    703\u001b[0m     \u001b[38;5;28mself\u001b[39m\u001b[38;5;241m.\u001b[39mmax_width, \u001b[38;5;28mself\u001b[39m\u001b[38;5;241m.\u001b[39mnewline,\n\u001b[1;32m    704\u001b[0m     max_seq_length\u001b[38;5;241m=\u001b[39m\u001b[38;5;28mself\u001b[39m\u001b[38;5;241m.\u001b[39mmax_seq_length,\n\u001b[1;32m    705\u001b[0m     singleton_pprinters\u001b[38;5;241m=\u001b[39m\u001b[38;5;28mself\u001b[39m\u001b[38;5;241m.\u001b[39msingleton_printers,\n\u001b[1;32m    706\u001b[0m     type_pprinters\u001b[38;5;241m=\u001b[39m\u001b[38;5;28mself\u001b[39m\u001b[38;5;241m.\u001b[39mtype_printers,\n\u001b[1;32m    707\u001b[0m     deferred_pprinters\u001b[38;5;241m=\u001b[39m\u001b[38;5;28mself\u001b[39m\u001b[38;5;241m.\u001b[39mdeferred_printers)\n\u001b[0;32m--> 708\u001b[0m printer\u001b[38;5;241m.\u001b[39mpretty(obj)\n\u001b[1;32m    709\u001b[0m printer\u001b[38;5;241m.\u001b[39mflush()\n\u001b[1;32m    710\u001b[0m \u001b[38;5;28;01mreturn\u001b[39;00m stream\u001b[38;5;241m.\u001b[39mgetvalue()\n",
      "File \u001b[0;32m~/anaconda3/lib/python3.11/site-packages/IPython/lib/pretty.py:410\u001b[0m, in \u001b[0;36mRepresentationPrinter.pretty\u001b[0;34m(self, obj)\u001b[0m\n\u001b[1;32m    407\u001b[0m                         \u001b[38;5;28;01mreturn\u001b[39;00m meth(obj, \u001b[38;5;28mself\u001b[39m, cycle)\n\u001b[1;32m    408\u001b[0m                 \u001b[38;5;28;01mif\u001b[39;00m \u001b[38;5;28mcls\u001b[39m \u001b[38;5;129;01mis\u001b[39;00m \u001b[38;5;129;01mnot\u001b[39;00m \u001b[38;5;28mobject\u001b[39m \\\n\u001b[1;32m    409\u001b[0m                         \u001b[38;5;129;01mand\u001b[39;00m \u001b[38;5;28mcallable\u001b[39m(\u001b[38;5;28mcls\u001b[39m\u001b[38;5;241m.\u001b[39m\u001b[38;5;18m__dict__\u001b[39m\u001b[38;5;241m.\u001b[39mget(\u001b[38;5;124m'\u001b[39m\u001b[38;5;124m__repr__\u001b[39m\u001b[38;5;124m'\u001b[39m)):\n\u001b[0;32m--> 410\u001b[0m                     \u001b[38;5;28;01mreturn\u001b[39;00m _repr_pprint(obj, \u001b[38;5;28mself\u001b[39m, cycle)\n\u001b[1;32m    412\u001b[0m     \u001b[38;5;28;01mreturn\u001b[39;00m _default_pprint(obj, \u001b[38;5;28mself\u001b[39m, cycle)\n\u001b[1;32m    413\u001b[0m \u001b[38;5;28;01mfinally\u001b[39;00m:\n",
      "File \u001b[0;32m~/anaconda3/lib/python3.11/site-packages/IPython/lib/pretty.py:778\u001b[0m, in \u001b[0;36m_repr_pprint\u001b[0;34m(obj, p, cycle)\u001b[0m\n\u001b[1;32m    776\u001b[0m \u001b[38;5;250m\u001b[39m\u001b[38;5;124;03m\"\"\"A pprint that just redirects to the normal repr function.\"\"\"\u001b[39;00m\n\u001b[1;32m    777\u001b[0m \u001b[38;5;66;03m# Find newlines and replace them with p.break_()\u001b[39;00m\n\u001b[0;32m--> 778\u001b[0m output \u001b[38;5;241m=\u001b[39m \u001b[38;5;28mrepr\u001b[39m(obj)\n\u001b[1;32m    779\u001b[0m lines \u001b[38;5;241m=\u001b[39m output\u001b[38;5;241m.\u001b[39msplitlines()\n\u001b[1;32m    780\u001b[0m \u001b[38;5;28;01mwith\u001b[39;00m p\u001b[38;5;241m.\u001b[39mgroup():\n",
      "File \u001b[0;32m~/anaconda3/lib/python3.11/site-packages/plotnine/ggplot.py:114\u001b[0m, in \u001b[0;36mggplot.__repr__\u001b[0;34m(self)\u001b[0m\n\u001b[1;32m    110\u001b[0m \u001b[38;5;28;01mdef\u001b[39;00m \u001b[38;5;21m__repr__\u001b[39m(\u001b[38;5;28mself\u001b[39m) \u001b[38;5;241m-\u001b[39m\u001b[38;5;241m>\u001b[39m \u001b[38;5;28mstr\u001b[39m:\n\u001b[1;32m    111\u001b[0m \u001b[38;5;250m    \u001b[39m\u001b[38;5;124;03m\"\"\"\u001b[39;00m\n\u001b[1;32m    112\u001b[0m \u001b[38;5;124;03m    Print/show the plot\u001b[39;00m\n\u001b[1;32m    113\u001b[0m \u001b[38;5;124;03m    \"\"\"\u001b[39;00m\n\u001b[0;32m--> 114\u001b[0m     figure \u001b[38;5;241m=\u001b[39m \u001b[38;5;28mself\u001b[39m\u001b[38;5;241m.\u001b[39mdraw(show\u001b[38;5;241m=\u001b[39m\u001b[38;5;28;01mTrue\u001b[39;00m)\n\u001b[1;32m    116\u001b[0m     dpi \u001b[38;5;241m=\u001b[39m figure\u001b[38;5;241m.\u001b[39mget_dpi()\n\u001b[1;32m    117\u001b[0m     W \u001b[38;5;241m=\u001b[39m \u001b[38;5;28mint\u001b[39m(figure\u001b[38;5;241m.\u001b[39mget_figwidth() \u001b[38;5;241m*\u001b[39m dpi)\n",
      "File \u001b[0;32m~/anaconda3/lib/python3.11/site-packages/plotnine/ggplot.py:224\u001b[0m, in \u001b[0;36mggplot.draw\u001b[0;34m(self, show)\u001b[0m\n\u001b[1;32m    222\u001b[0m \u001b[38;5;28mself\u001b[39m \u001b[38;5;241m=\u001b[39m deepcopy(\u001b[38;5;28mself\u001b[39m)\n\u001b[1;32m    223\u001b[0m \u001b[38;5;28;01mwith\u001b[39;00m plot_context(\u001b[38;5;28mself\u001b[39m, show\u001b[38;5;241m=\u001b[39mshow):\n\u001b[0;32m--> 224\u001b[0m     \u001b[38;5;28mself\u001b[39m\u001b[38;5;241m.\u001b[39m_build()\n\u001b[1;32m    226\u001b[0m     \u001b[38;5;66;03m# setup\u001b[39;00m\n\u001b[1;32m    227\u001b[0m     figure, axs \u001b[38;5;241m=\u001b[39m \u001b[38;5;28mself\u001b[39m\u001b[38;5;241m.\u001b[39m_create_figure()\n",
      "File \u001b[0;32m~/anaconda3/lib/python3.11/site-packages/plotnine/ggplot.py:314\u001b[0m, in \u001b[0;36mggplot._build\u001b[0;34m(self)\u001b[0m\n\u001b[1;32m    310\u001b[0m layout\u001b[38;5;241m.\u001b[39msetup(layers, \u001b[38;5;28mself\u001b[39m)\n\u001b[1;32m    312\u001b[0m \u001b[38;5;66;03m# Compute aesthetics to produce data with generalised\u001b[39;00m\n\u001b[1;32m    313\u001b[0m \u001b[38;5;66;03m# variable names\u001b[39;00m\n\u001b[0;32m--> 314\u001b[0m layers\u001b[38;5;241m.\u001b[39mcompute_aesthetics(\u001b[38;5;28mself\u001b[39m)\n\u001b[1;32m    316\u001b[0m \u001b[38;5;66;03m# Transform data using all scales\u001b[39;00m\n\u001b[1;32m    317\u001b[0m layers\u001b[38;5;241m.\u001b[39mtransform(scales)\n",
      "File \u001b[0;32m~/anaconda3/lib/python3.11/site-packages/plotnine/layer.py:467\u001b[0m, in \u001b[0;36mLayers.compute_aesthetics\u001b[0;34m(self, plot)\u001b[0m\n\u001b[1;32m    465\u001b[0m \u001b[38;5;28;01mdef\u001b[39;00m \u001b[38;5;21mcompute_aesthetics\u001b[39m(\u001b[38;5;28mself\u001b[39m, plot: Ggplot):\n\u001b[1;32m    466\u001b[0m     \u001b[38;5;28;01mfor\u001b[39;00m l \u001b[38;5;129;01min\u001b[39;00m \u001b[38;5;28mself\u001b[39m:\n\u001b[0;32m--> 467\u001b[0m         l\u001b[38;5;241m.\u001b[39mcompute_aesthetics(plot)\n",
      "File \u001b[0;32m~/anaconda3/lib/python3.11/site-packages/plotnine/layer.py:260\u001b[0m, in \u001b[0;36mlayer.compute_aesthetics\u001b[0;34m(self, plot)\u001b[0m\n\u001b[1;32m    253\u001b[0m \u001b[38;5;28;01mdef\u001b[39;00m \u001b[38;5;21mcompute_aesthetics\u001b[39m(\u001b[38;5;28mself\u001b[39m, plot: Ggplot):\n\u001b[1;32m    254\u001b[0m \u001b[38;5;250m    \u001b[39m\u001b[38;5;124;03m\"\"\"\u001b[39;00m\n\u001b[1;32m    255\u001b[0m \u001b[38;5;124;03m    Return a dataframe where the columns match the aesthetic mappings\u001b[39;00m\n\u001b[1;32m    256\u001b[0m \n\u001b[1;32m    257\u001b[0m \u001b[38;5;124;03m    Transformations like 'factor(cyl)' and other\u001b[39;00m\n\u001b[1;32m    258\u001b[0m \u001b[38;5;124;03m    expression evaluation are  made in here\u001b[39;00m\n\u001b[1;32m    259\u001b[0m \u001b[38;5;124;03m    \"\"\"\u001b[39;00m\n\u001b[0;32m--> 260\u001b[0m     evaled \u001b[38;5;241m=\u001b[39m evaluate(\u001b[38;5;28mself\u001b[39m\u001b[38;5;241m.\u001b[39mmapping\u001b[38;5;241m.\u001b[39m_starting, \u001b[38;5;28mself\u001b[39m\u001b[38;5;241m.\u001b[39mdata, plot\u001b[38;5;241m.\u001b[39menvironment)\n\u001b[1;32m    261\u001b[0m     evaled_aes \u001b[38;5;241m=\u001b[39m aes(\u001b[38;5;241m*\u001b[39m\u001b[38;5;241m*\u001b[39m{\u001b[38;5;28mstr\u001b[39m(col): col \u001b[38;5;28;01mfor\u001b[39;00m col \u001b[38;5;129;01min\u001b[39;00m evaled})\n\u001b[1;32m    262\u001b[0m     plot\u001b[38;5;241m.\u001b[39mscales\u001b[38;5;241m.\u001b[39madd_defaults(evaled, evaled_aes)\n",
      "File \u001b[0;32m~/anaconda3/lib/python3.11/site-packages/plotnine/mapping/evaluation.py:230\u001b[0m, in \u001b[0;36mevaluate\u001b[0;34m(aesthetics, data, env)\u001b[0m\n\u001b[1;32m    228\u001b[0m     new_val \u001b[38;5;241m=\u001b[39m env\u001b[38;5;241m.\u001b[39meval(col, inner_namespace\u001b[38;5;241m=\u001b[39mdata)\n\u001b[1;32m    229\u001b[0m \u001b[38;5;28;01mexcept\u001b[39;00m \u001b[38;5;167;01mException\u001b[39;00m \u001b[38;5;28;01mas\u001b[39;00m e:\n\u001b[0;32m--> 230\u001b[0m     \u001b[38;5;28;01mraise\u001b[39;00m PlotnineError(_TPL_EVAL_FAIL\u001b[38;5;241m.\u001b[39mformat(ae, col, \u001b[38;5;28mstr\u001b[39m(e)))\n\u001b[1;32m    232\u001b[0m \u001b[38;5;28;01mtry\u001b[39;00m:\n\u001b[1;32m    233\u001b[0m     evaled[ae] \u001b[38;5;241m=\u001b[39m new_val\n",
      "\u001b[0;31mPlotnineError\u001b[0m: \"Could not evaluate the 'x' mapping: 'embarked' (original error: name 'embarked' is not defined)\""
     ]
    }
   ],
   "source": [
    "# Code here\n",
    "from plotnine import ggplot, aes, geom_bar\n",
    "(ggplot(p_cond_embark, aes(x = \"embarked\", color = \"class\")) +\n",
    "    geom_bar())"
   ]
  }
 ],
 "metadata": {
  "colab": {
   "provenance": []
  },
  "kernelspec": {
   "display_name": "Python 3 (ipykernel)",
   "language": "python",
   "name": "python3"
  },
  "language_info": {
   "codemirror_mode": {
    "name": "ipython",
    "version": 3
   },
   "file_extension": ".py",
   "mimetype": "text/x-python",
   "name": "python",
   "nbconvert_exporter": "python",
   "pygments_lexer": "ipython3",
   "version": "3.11.4"
  }
 },
 "nbformat": 4,
 "nbformat_minor": 4
}
