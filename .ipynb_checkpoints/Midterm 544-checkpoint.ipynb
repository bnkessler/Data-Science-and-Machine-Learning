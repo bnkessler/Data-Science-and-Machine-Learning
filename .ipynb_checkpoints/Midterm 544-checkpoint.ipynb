{
 "cells": [
  {
   "cell_type": "code",
   "execution_count": 22,
   "id": "28783ac7",
   "metadata": {},
   "outputs": [],
   "source": [
    "import csv"
   ]
  },
  {
   "cell_type": "code",
   "execution_count": 5,
   "id": "8f0e7d67",
   "metadata": {},
   "outputs": [],
   "source": [
    "import pandas as pd"
   ]
  },
  {
   "cell_type": "code",
   "execution_count": 14,
   "id": "802a23cc",
   "metadata": {},
   "outputs": [],
   "source": [
    "df = pd.read_csv(\"national_park_trails.csv\")"
   ]
  },
  {
   "cell_type": "code",
   "execution_count": null,
   "id": "02d2e857",
   "metadata": {},
   "outputs": [],
   "source": [
    "#Units are in Meters, Convert to miles\n",
    "#1 meter = .00062 miles"
   ]
  },
  {
   "cell_type": "code",
   "execution_count": 15,
   "id": "6c5185ad",
   "metadata": {},
   "outputs": [
    {
     "data": {
      "text/plain": [
       "<bound method NDFrame.head of       trail_id                                               name  \\\n",
       "0     10020048                            Harding Ice Field Trail   \n",
       "1     10236086                         Mount Healy Overlook Trail   \n",
       "2     10267857                                 Exit Glacier Trail   \n",
       "3     10236076                               Horseshoe Lake Trail   \n",
       "4     10236082                                 Triple Lakes Trail   \n",
       "...        ...                                                ...   \n",
       "3308  10008302               Silversword Loop Via Halemau'u Trail   \n",
       "3309  10236001                                Keonehe'ehe'e Trail   \n",
       "3310  10258707                     Red Hill Overlook Summit Trail   \n",
       "3311  10014989                                        Kaupo Trail   \n",
       "3312  10259465  Ka Lu'u o ka O'o Cinder Cone via Crater and Sl...   \n",
       "\n",
       "                       area_name             city_name state_name  \\\n",
       "0     Kenai Fjords National Park                Seward     Alaska   \n",
       "1           Denali National Park  Denali National Park     Alaska   \n",
       "2     Kenai Fjords National Park                Seward     Alaska   \n",
       "3           Denali National Park  Denali National Park     Alaska   \n",
       "4           Denali National Park  Denali National Park     Alaska   \n",
       "...                          ...                   ...        ...   \n",
       "3308     Haleakala National Park                  Kula       Maui   \n",
       "3309     Haleakala National Park                  Kula       Maui   \n",
       "3310     Haleakala National Park                  Kula       Maui   \n",
       "3311     Haleakala National Park                  Kula       Maui   \n",
       "3312     Haleakala National Park                  Kula       Maui   \n",
       "\n",
       "       country_name                                         _geoloc  \\\n",
       "0     United States            {'lat': 60.18852, 'lng': -149.63156}   \n",
       "1     United States            {'lat': 63.73049, 'lng': -148.91968}   \n",
       "2     United States              {'lat': 60.18879, 'lng': -149.631}   \n",
       "3     United States              {'lat': 63.73661, 'lng': -148.915}   \n",
       "4     United States            {'lat': 63.73319, 'lng': -148.89682}   \n",
       "...             ...                                             ...   \n",
       "3308         Hawaii            {'lat': 20.75275, 'lng': -156.22884}   \n",
       "3309         Hawaii  {'lat': 20.714480000000002, 'lng': -156.25072}   \n",
       "3310         Hawaii            {'lat': 20.71007, 'lng': -156.25357}   \n",
       "3311         Hawaii              {'lat': 20.64981, 'lng': -156.137}   \n",
       "3312         Hawaii            {'lat': 20.71449, 'lng': -156.25085}   \n",
       "\n",
       "      popularity     length  elevation_gain  difficulty_rating    route_type  \\\n",
       "0        24.8931  15610.598       1161.8976                  5  out and back   \n",
       "1        18.0311   6920.162        507.7968                  3  out and back   \n",
       "2        17.7821   2896.812         81.9912                  1  out and back   \n",
       "3        16.2674   3379.614        119.7864                  1          loop   \n",
       "4        12.5935  29772.790       1124.7120                  5  out and back   \n",
       "...          ...        ...             ...                ...           ...   \n",
       "3308      9.3861  20116.750       1105.8144                  5          loop   \n",
       "3309      9.1555  28324.384       1171.9560                  5  out and back   \n",
       "3310      8.5066    321.868          3.9624                  1  out and back   \n",
       "3311      8.3240  19312.080       1670.9136                  5  out and back   \n",
       "3312      2.4176   8368.568        510.8448                  3          loop   \n",
       "\n",
       "      visitor_usage  avg_rating  num_reviews  \\\n",
       "0               3.0         5.0          423   \n",
       "1               1.0         4.5          260   \n",
       "2               3.0         4.5          224   \n",
       "3               2.0         4.5          237   \n",
       "4               1.0         4.5          110   \n",
       "...             ...         ...          ...   \n",
       "3308            2.0         4.5           43   \n",
       "3309            2.0         5.0           22   \n",
       "3310            NaN         4.5           31   \n",
       "3311            1.0         4.0            8   \n",
       "3312            2.0         4.5           45   \n",
       "\n",
       "                                               features  \\\n",
       "0     ['dogs-no', 'forest', 'river', 'views', 'water...   \n",
       "1     ['dogs-no', 'forest', 'views', 'wild-flowers',...   \n",
       "2     ['dogs-no', 'partially-paved', 'views', 'wildl...   \n",
       "3     ['dogs-no', 'forest', 'lake', 'kids', 'views',...   \n",
       "4     ['dogs-no', 'lake', 'views', 'wild-flowers', '...   \n",
       "...                                                 ...   \n",
       "3308               ['dogs-no', 'views', 'wild-flowers']   \n",
       "3309                   ['dogs-no', 'views', 'wildlife']   \n",
       "3310                       ['dogs-no', 'kids', 'views']   \n",
       "3311                   ['dogs-no', 'views', 'wildlife']   \n",
       "3312                                          ['views']   \n",
       "\n",
       "                                             activities units  \n",
       "0     ['birding', 'camping', 'hiking', 'nature-trips...     i  \n",
       "1     ['birding', 'camping', 'hiking', 'nature-trips...     i  \n",
       "2                                 ['hiking', 'walking']     i  \n",
       "3     ['birding', 'hiking', 'nature-trips', 'trail-r...     i  \n",
       "4     ['birding', 'fishing', 'hiking', 'nature-trips...     i  \n",
       "...                                                 ...   ...  \n",
       "3308              ['birding', 'hiking', 'nature-trips']     m  \n",
       "3309               ['backpacking', 'camping', 'hiking']     m  \n",
       "3310                              ['hiking', 'walking']     m  \n",
       "3311                                         ['hiking']     m  \n",
       "3312                                         ['hiking']     m  \n",
       "\n",
       "[3313 rows x 18 columns]>"
      ]
     },
     "execution_count": 15,
     "metadata": {},
     "output_type": "execute_result"
    }
   ],
   "source": [
    "df.head"
   ]
  },
  {
   "cell_type": "code",
   "execution_count": null,
   "id": "8a615c00",
   "metadata": {},
   "outputs": [],
   "source": [
    "read"
   ]
  },
  {
   "cell_type": "markdown",
   "id": "12ea931f",
   "metadata": {},
   "source": [
    "Question 3"
   ]
  },
  {
   "cell_type": "code",
   "execution_count": 21,
   "id": "5c4087ac",
   "metadata": {},
   "outputs": [
    {
     "ename": "SyntaxError",
     "evalue": "invalid syntax (3193131514.py, line 1)",
     "output_type": "error",
     "traceback": [
      "\u001b[0;36m  Cell \u001b[0;32mIn[21], line 1\u001b[0;36m\u001b[0m\n\u001b[0;31m    find\"land\"\u001b[0m\n\u001b[0m        ^\u001b[0m\n\u001b[0;31mSyntaxError\u001b[0m\u001b[0;31m:\u001b[0m invalid syntax\n"
     ]
    }
   ],
   "source": [
    "find \"land\""
   ]
  },
  {
   "cell_type": "code",
   "execution_count": null,
   "id": "d663915e",
   "metadata": {},
   "outputs": [],
   "source": [
    "Question 4"
   ]
  },
  {
   "cell_type": "code",
   "execution_count": 17,
   "id": "1866f0fb",
   "metadata": {},
   "outputs": [
    {
     "ename": "NameError",
     "evalue": "name 'np_trails_new' is not defined",
     "output_type": "error",
     "traceback": [
      "\u001b[0;31m---------------------------------------------------------------------------\u001b[0m",
      "\u001b[0;31mNameError\u001b[0m                                 Traceback (most recent call last)",
      "Cell \u001b[0;32mIn[17], line 1\u001b[0m\n\u001b[0;32m----> 1\u001b[0m np_trails_new\n",
      "\u001b[0;31mNameError\u001b[0m: name 'np_trails_new' is not defined"
     ]
    }
   ],
   "source": [
    "np_trails_new"
   ]
  },
  {
   "cell_type": "code",
   "execution_count": 18,
   "id": "2ab8f89c",
   "metadata": {},
   "outputs": [
    {
     "ename": "ModuleNotFoundError",
     "evalue": "No module named 'plotnine'",
     "output_type": "error",
     "traceback": [
      "\u001b[0;31m---------------------------------------------------------------------------\u001b[0m",
      "\u001b[0;31mModuleNotFoundError\u001b[0m                       Traceback (most recent call last)",
      "Cell \u001b[0;32mIn[18], line 1\u001b[0m\n\u001b[0;32m----> 1\u001b[0m \u001b[38;5;28;01mfrom\u001b[39;00m \u001b[38;5;21;01mplotnine\u001b[39;00m \u001b[38;5;28;01mimport\u001b[39;00m ggplot, aes, geom_density, facet_wrap, ggtitle\n\u001b[1;32m      3\u001b[0m (ggplot(np_trails_new, aes(x\u001b[38;5;241m=\u001b[39m\u001b[38;5;124m\"\u001b[39m\u001b[38;5;124mscore\u001b[39m\u001b[38;5;124m\"\u001b[39m))\n\u001b[1;32m      4\u001b[0m \u001b[38;5;241m+\u001b[39m geom_density()\n\u001b[1;32m      5\u001b[0m \u001b[38;5;241m+\u001b[39m facet_wrap(\u001b[38;5;124m'\u001b[39m\u001b[38;5;124m~ measure\u001b[39m\u001b[38;5;124m'\u001b[39m, scales \u001b[38;5;241m=\u001b[39m \u001b[38;5;124m'\u001b[39m\u001b[38;5;124mfree\u001b[39m\u001b[38;5;124m'\u001b[39m) \n\u001b[1;32m      6\u001b[0m \u001b[38;5;241m+\u001b[39m ggtitle(\u001b[38;5;124m\"\u001b[39m\u001b[38;5;124mOverall distribution of various trail scores in National parks\u001b[39m\u001b[38;5;124m\"\u001b[39m)\n\u001b[1;32m      7\u001b[0m )\n",
      "\u001b[0;31mModuleNotFoundError\u001b[0m: No module named 'plotnine'"
     ]
    }
   ],
   "source": [
    "from plotnine import ggplot, aes, geom_density, facet_wrap, ggtitle\n",
    "\n",
    "(ggplot(np_trails_new, aes(x=\"score\"))\n",
    "+ geom_density()\n",
    "+ facet_wrap('~ measure', scales = 'free') \n",
    "+ ggtitle(\"Overall distribution of various trail scores in National parks\")\n",
    ")"
   ]
  },
  {
   "cell_type": "code",
   "execution_count": null,
   "id": "8328d0b1",
   "metadata": {},
   "outputs": [],
   "source": [
    "Question 5"
   ]
  },
  {
   "cell_type": "code",
   "execution_count": 23,
   "id": "10e0a2e6",
   "metadata": {},
   "outputs": [
    {
     "ename": "SyntaxError",
     "evalue": "invalid syntax (3756883549.py, line 1)",
     "output_type": "error",
     "traceback": [
      "\u001b[0;36m  Cell \u001b[0;32mIn[23], line 1\u001b[0;36m\u001b[0m\n\u001b[0;31m    from plotnine import\u001b[0m\n\u001b[0m                         ^\u001b[0m\n\u001b[0;31mSyntaxError\u001b[0m\u001b[0;31m:\u001b[0m invalid syntax\n"
     ]
    }
   ],
   "source": [
    "from plotnine import \n",
    "from plotnine.scales import\n",
    "\n",
    "(ggplot(ca_parks, aes(x=\"area_name\", y=\"num_reviews\", \"state_name\" = \"California\"))\n",
    "+ geom_box()\n",
    "+ scale 0() \n",
    "+ scale 1200(guide=False)\n",
    "+ ______(\n",
    "  x = \"\",\n",
    "  y = \"num_reviews\",\n",
    "  num_reviews= \"Number of reviews per trail for CA Parks\"\n",
    ")\n",
    "+ avg_rating()\n",
    "+ theme(rainbow=element_text(rotation= vertical, hjust=1)) \n",
    ")"
   ]
  },
  {
   "cell_type": "code",
   "execution_count": null,
   "id": "b875afe8",
   "metadata": {},
   "outputs": [],
   "source": [
    "Question 2.1"
   ]
  },
  {
   "cell_type": "code",
   "execution_count": 25,
   "id": "13684c63",
   "metadata": {},
   "outputs": [
    {
     "ename": "SyntaxError",
     "evalue": "unterminated string literal (detected at line 6) (2681750282.py, line 6)",
     "output_type": "error",
     "traceback": [
      "\u001b[0;36m  Cell \u001b[0;32mIn[25], line 6\u001b[0;36m\u001b[0m\n\u001b[0;31m    area_name = \"Crater Lake National Park\u001b[0m\n\u001b[0m                ^\u001b[0m\n\u001b[0;31mSyntaxError\u001b[0m\u001b[0;31m:\u001b[0m unterminated string literal (detected at line 6)\n"
     ]
    }
   ],
   "source": [
    "def recommend_trails(dataset, national_park_trails.csv):\n",
    "  \n",
    "  if min_elev is None:\n",
    "    min_elev = 0\n",
    "    max_elev = 500\n",
    "    area_name = \"Crater Lake National Park\n",
    "    avg_rating = \"4.5\"\n",
    "    min_rating = 4\n",
    "    route_type = \"loop\"\n",
    "    \n",
    "    \n",
    "  \n",
    "  \n",
    "  return recommend_trails"
   ]
  },
  {
   "cell_type": "code",
   "execution_count": null,
   "id": "e2a2f234",
   "metadata": {},
   "outputs": [],
   "source": [
    "Question 2.2"
   ]
  },
  {
   "cell_type": "code",
   "execution_count": 26,
   "id": "50d5d48d",
   "metadata": {},
   "outputs": [
    {
     "ename": "IndentationError",
     "evalue": "unexpected indent (382660569.py, line 9)",
     "output_type": "error",
     "traceback": [
      "\u001b[0;36m  Cell \u001b[0;32mIn[26], line 9\u001b[0;36m\u001b[0m\n\u001b[0;31m    scrape_month_temp(month = \"july\")\u001b[0m\n\u001b[0m    ^\u001b[0m\n\u001b[0;31mIndentationError\u001b[0m\u001b[0;31m:\u001b[0m unexpected indent\n"
     ]
    }
   ],
   "source": [
    "def scrape_temps(month = None):\n",
    "  \n",
    "  my_url = \"https://www.extremeweatherwatch.com/us-state-averages\"\n",
    "  response = month_July(my_url)\n",
    "  soup = BeautifulSoup( \"html.parser\")\n",
    "\n",
    "    #tempertures in July for hiking\n",
    "    \n",
    "    scrape_month_temp(month = \"july\")\n",
    "  \n",
    "  \n",
    "  \n",
    "  return "
   ]
  },
  {
   "cell_type": "code",
   "execution_count": null,
   "id": "7b772d03",
   "metadata": {},
   "outputs": [],
   "source": [
    "Question 2.3"
   ]
  },
  {
   "cell_type": "code",
   "execution_count": null,
   "id": "69743f73",
   "metadata": {},
   "outputs": [],
   "source": [
    "\n",
    "#1000-3000 meters of elevation (I like mountains, but not too big.)\n",
    "\n",
    "#Rated at least a 4.5 on average\n",
    "\n",
    "#A loop trail (I don’t like to retrace my steps)\n",
    "\n",
    "#Not too cold in the summer, even at the peak\n",
    "\n"
   ]
  },
  {
   "cell_type": "code",
   "execution_count": null,
   "id": "5c695d15",
   "metadata": {},
   "outputs": [],
   "source": [
    "recommend_trails\n",
    "min_elevation_gain = 1000\n",
    "max_elevation_gain = 3000\n",
    "route_type = \"loop\"\n"
   ]
  },
  {
   "cell_type": "code",
   "execution_count": null,
   "id": "bcc7178a",
   "metadata": {},
   "outputs": [],
   "source": [
    "scrape temps = \"warm\" \n",
    "find_months \"May,June,July,August\"\n",
    "read.url (https://www.extremeweatherwatch.com/us-state-averages)\n"
   ]
  },
  {
   "cell_type": "code",
   "execution_count": null,
   "id": "3fb664f1",
   "metadata": {},
   "outputs": [],
   "source": []
  }
 ],
 "metadata": {
  "kernelspec": {
   "display_name": "Python 3 (ipykernel)",
   "language": "python",
   "name": "python3"
  },
  "language_info": {
   "codemirror_mode": {
    "name": "ipython",
    "version": 3
   },
   "file_extension": ".py",
   "mimetype": "text/x-python",
   "name": "python",
   "nbconvert_exporter": "python",
   "pygments_lexer": "ipython3",
   "version": "3.11.4"
  }
 },
 "nbformat": 4,
 "nbformat_minor": 5
}
