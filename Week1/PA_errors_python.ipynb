{
 "cells": [
  {
   "cell_type": "raw",
   "metadata": {
    "id": "y7Qnxk5OrzCr"
   },
   "source": [
    "---\n",
    "title: 'Practice Activity: Basic Syntax'\n",
    "author: \"Ben Kessler\"\n",
    "output: html\n",
    "---"
   ]
  },
  {
   "cell_type": "markdown",
   "metadata": {
    "id": "vMhGRH6brzCs"
   },
   "source": [
    "## Overview\n",
    "\n",
    "In this PA, you will will be creating and manipulating basic objects to uncover a top secret message.\n",
    "\n",
    "### Hint 1\n",
    "\n",
    "As you work through this PA, you will encounter some code that does not work as you want it to.  Don't despair!  Errors (when R is unable to run your code) and bugs (when the code doesn't do what you hoped) are a natural part of coding.  Even the best of the best deal with these problems regularly - learning to track down the issue is a skill that you can learn and practice.\n",
    "\n",
    "Google is your friend!  If an error is confusing, copy it into Google and see what other people are saying.  If you don't know how to do something, search for it.\n",
    "\n",
    "### Hint 2\n",
    "\n",
    "Just because there is no error message doesn't mean everything went smoothly.  You should be regularly printing out your objects, to see they contain the information and format that you expect.\n",
    "\n",
    "For example, if you have an object named `my_thing`, you might first want to simply look at the object by typing its name.\n",
    "\n",
    "However, you might also want to make sure it is the right **object type** and/or the right **object structure**.\n"
   ]
  },
  {
   "cell_type": "code",
   "execution_count": 2,
   "metadata": {
    "id": "Ct8uiwMQrzCt",
    "tags": []
   },
   "outputs": [
    {
     "name": "stdout",
     "output_type": "stream",
     "text": [
      "Test\n"
     ]
    },
    {
     "data": {
      "text/plain": [
       "4"
      ]
     },
     "execution_count": 2,
     "metadata": {},
     "output_type": "execute_result"
    }
   ],
   "source": [
    "my_thing = \"Test\"\n",
    "print(my_thing)\n",
    "type(my_thing)\n",
    "len(my_thing)"
   ]
  },
  {
   "cell_type": "markdown",
   "metadata": {
    "id": "IdlaoAKtrzCu"
   },
   "source": [
    "## Part One: Setup\n",
    "\n",
    "Each of the following code chunks will cause an error and/or do the desired task incorrectly.  Find the mistake, and correct it to complete the intended action.\n",
    "\n",
    "\n",
    "\n",
    "\n",
    "1. Create lists containing the upper case letters, lower case letters, and some punctuation marks.\n"
   ]
  },
  {
   "cell_type": "code",
   "execution_count": 324,
   "metadata": {
    "id": "uZF74ZVgrzCv",
    "tags": []
   },
   "outputs": [],
   "source": [
    "lower_case = [\"a\", \"b\", \"c\", \"d\", \"e\", \"f\", \"g\", \"h\", \"i\", \"j\", \"k\", \"l\", \"m\", \"n\", \"o\", \"p\", \"q\", \"r\", \"s\", \"t\", \"u\", \"v\", \"w\", \"x\", \"y\", \"z\"]\n",
    "\n",
    "upper_case = [\"A\", \"B\", \"C\", \"D\", \"E\", \"F\", \"G\", \"H\" \"I\", \"J\", \"K\", \"L\", \"M\", \"N\", \"O\", \"P\", \"Q\", \"R\", \"S\", \"T\", \"U\", \"V\", \"W\", \"X\", \"Y\", \"Z\"]\n",
    "\n",
    "punctuation = [\".\", \",\", \"!\", \"?\", \"'\", \"\\\"\", \"(\", \")\", \" \", \"-\", \";\", \":\"]"
   ]
  },
  {
   "cell_type": "markdown",
   "metadata": {
    "id": "QpssOJCOrzCw"
   },
   "source": [
    "2. Make one long list containing all the symbols.  Find the length of this list.\n"
   ]
  },
  {
   "cell_type": "code",
   "execution_count": 325,
   "metadata": {
    "id": "1txXu49KrzCx",
    "tags": []
   },
   "outputs": [
    {
     "data": {
      "text/plain": [
       "3"
      ]
     },
     "execution_count": 325,
     "metadata": {},
     "output_type": "execute_result"
    }
   ],
   "source": [
    "all_symbols = [lower_case, upper_case, punctuation]\n",
    "\n",
    "len(all_symbols)"
   ]
  },
  {
   "cell_type": "markdown",
   "metadata": {
    "id": "u2lPbq3trzCx"
   },
   "source": [
    "3. Repeat the previous steps, but instead of using *list* type objects, use **numpy arrays**.  Don't forget to **import** the numpy library!\n"
   ]
  },
  {
   "cell_type": "code",
   "execution_count": 326,
   "metadata": {
    "id": "OCUO55d3rzCy",
    "tags": []
   },
   "outputs": [],
   "source": [
    "import numpy as np\n",
    "\n",
    "lower_case = np.array([\"a\", \"b\", \"c\", \"d\", \"e\", \"f\", \"g\", \"h\", \"i\", \"j\", \"k\", \"l\", \"m\", \"n\", \"o\", \"p\", \"q\", \"r\", \"s\", \"t\", \"u\", \"v\", \"w\", \"x\", \"y\", \"z\"])\n",
    "\n",
    "upper_case = np.array([\"A\", \"B\", \"C\", \"D\", \"E\", \"F\", \"G\", \"H\", \"I\", \"J\", \"K\", \"L\", \"M\", \"N\", \"O\", \"P\", \"Q\", \"R\", \"S\", \"T\", \"U\", \"V\", \"W\", \"X\", \"Y\", \"Z\"])\n",
    "\n",
    "punctuation = np.array([\".\", \",\", \"!\", \"?\", \"'\", \"\\\"\", \"(\", \")\", \" \", \"-\", \";\", \":\"])\n",
    "\n",
    "## Use np.concatenate to combine into long array\n",
    "all_symbols = np.concatenate([lower_case, upper_case, punctuation])"
   ]
  },
  {
   "cell_type": "markdown",
   "metadata": {
    "id": "WTmApRW-rzCz"
   },
   "source": [
    "4. Make a **pandas data frame**, with one column called \"Symbol\" containing the `all_symbols` array.\n"
   ]
  },
  {
   "cell_type": "code",
   "execution_count": 353,
   "metadata": {
    "id": "5nUFn0NUrzC0",
    "tags": []
   },
   "outputs": [],
   "source": [
    "import pandas as pd\n",
    "\n",
    "symbols_df = pd.DataFrame(all_symbols)\n",
    "symbols_df = symbols_df.rename(columns = {0: \"Symbols\"})"
   ]
  },
  {
   "cell_type": "markdown",
   "metadata": {
    "id": "Q0WuXv63rzC1"
   },
   "source": [
    "## Part Two: Decoding the secret message.\n"
   ]
  },
  {
   "cell_type": "code",
   "execution_count": 218,
   "metadata": {
    "id": "qurOHtDTrzC1",
    "tags": []
   },
   "outputs": [],
   "source": [
    "top_secret = pd.read_csv(\"https://www.dropbox.com/s/k72h1zewk4gtqep/PA_Secret_Code?dl=1\", header=None)\n",
    "top_secret = top_secret[0].to_numpy()"
   ]
  },
  {
   "cell_type": "markdown",
   "metadata": {
    "id": "ktwwPEjerzC1"
   },
   "source": [
    "### Hint\n",
    "\n",
    "Recall that basic math operations are **vectorized**.  This means you don't have to repeat the process for each item in a list; you can apply the math to the whole thing at once.\n",
    "\n",
    "### Instructions\n",
    "\n",
    "By altering this top secret set of numbers, you will be able to create a message.  Write your own code to complete the steps below.\n",
    "\n",
    "1. Add 14 to every number.\n",
    "2. Multiply every number by 18, then subtract 257.\n",
    "3. Exponentiate every number.  (That is, do e^[number].  You may have to Google how to do this!)\n",
    "4. Square every number.\n",
    "\n",
    "**Checkpoint:** Headquarters has informed you that at this stage of decoding, there should be 352 numbers in the secret message that are below 17.  Write code to check if this is true for your data.\n",
    "\n",
    "\n",
    "5. Turn your one-dimensional array of numbers into a two-dimensional array (matrix) with 5 columns.\n",
    "6. Separately from your top secret numbers, create an array of all the even numbers between 1 and 382. Name it \"evens\". That is, \"evens\" should contain 2, 4, 6, 8 ..., 382.\n",
    "7. Subtract the \"evens\" vector from the first column of your secret message matrix.\n",
    "8. Subtract 100 from all numbers in the 18-24th rows of the 3rd column.\n",
    "9. Multiply all numbers in the 4th and 5th column by 2.\n",
    "10. Turn your matrix back into a one dimensional array.\n",
    "\n",
    "\n",
    "**Checkpoint:** Headquarters has informed you that at this stage of decoding, all numbers in indices 500 and beyond are below 100.  Write code to check if your numbers fulfill this requirement.\n",
    "\n",
    "11. Take the square root of all numbers in indices 38 to 465.\n",
    "12. Round all numbers to the nearest whole number.\n",
    "13. Replace all instances of the number 39 with 20.\n",
    "\n",
    "**Checkpoint:** Headquarters has informed you that your final message should have 344 even numbers.  Write code to check if your numbers fulfill this requirement.\n",
    "\n",
    "## Part 3: The secret message!\n",
    "\n",
    "Run the following to discover the final message!  Google the first line of this message, if you do not recognize it, to see what it is.\n"
   ]
  },
  {
   "cell_type": "code",
   "execution_count": 219,
   "metadata": {
    "tags": []
   },
   "outputs": [],
   "source": [
    "# Step 1-4\n",
    "top_secret += 14\n",
    "top_secret = top_secret*18 - 257\n",
    "top_secret = np.exp(top_secret)\n",
    "top_secret = top_secret**2"
   ]
  },
  {
   "cell_type": "code",
   "execution_count": 221,
   "metadata": {
    "tags": []
   },
   "outputs": [
    {
     "name": "stdout",
     "output_type": "stream",
     "text": [
      "352\n"
     ]
    }
   ],
   "source": [
    "# Checkpoint 1\n",
    "count = 0\n",
    "for i in top_secret:\n",
    "    if i < 17:\n",
    "        count += 1\n",
    "print(count)"
   ]
  },
  {
   "cell_type": "code",
   "execution_count": 264,
   "metadata": {
    "tags": []
   },
   "outputs": [],
   "source": [
    "top_secret_5 = np.zeros((191, 5))"
   ]
  },
  {
   "cell_type": "code",
   "execution_count": 285,
   "metadata": {
    "tags": []
   },
   "outputs": [],
   "source": [
    "# Step 5\n",
    "top_secret_5[:, 0] = top_secret[0:191]\n",
    "top_secret_5[:, 1] = top_secret[191:382]\n",
    "top_secret_5[:, 2] = top_secret[382:573]\n",
    "top_secret_5[:, 3] = top_secret[573:764]\n",
    "top_secret_5[:, 4] = top_secret[764:995]"
   ]
  },
  {
   "cell_type": "code",
   "execution_count": 281,
   "metadata": {
    "tags": []
   },
   "outputs": [
    {
     "data": {
      "text/plain": [
       "(191, 5)"
      ]
     },
     "execution_count": 281,
     "metadata": {},
     "output_type": "execute_result"
    }
   ],
   "source": [
    "# Step 6\n",
    "evens = [i for i in range(2, 384, 2)]\n",
    "top_secret_5.shape"
   ]
  },
  {
   "cell_type": "code",
   "execution_count": 282,
   "metadata": {
    "tags": []
   },
   "outputs": [],
   "source": [
    "# Step 7-9\n",
    "top_secret_5[:,0] -= evens\n",
    "top_secret_5[17:24, 2] -= 100\n",
    "top_secret_5[:, 3:5] *= 2"
   ]
  },
  {
   "cell_type": "code",
   "execution_count": 310,
   "metadata": {
    "tags": []
   },
   "outputs": [
    {
     "data": {
      "text/plain": [
       "955"
      ]
     },
     "execution_count": 310,
     "metadata": {},
     "output_type": "execute_result"
    }
   ],
   "source": [
    "# Step 10\n",
    "top_secret_1 = []\n",
    "for j in range(5):\n",
    "    for i in top_secret_5[:,j]:\n",
    "        top_secret_1.append(i)\n",
    "len(top_secret_1)"
   ]
  },
  {
   "cell_type": "code",
   "execution_count": 311,
   "metadata": {
    "tags": []
   },
   "outputs": [],
   "source": [
    "# Checkpoint 2\n",
    "for i in range(len(top_secret_1)-500):\n",
    "    if top_secret_1[i+500] > 100:\n",
    "        print(f\"Error Index {i+500} yields value greater than 100\")"
   ]
  },
  {
   "cell_type": "code",
   "execution_count": 312,
   "metadata": {
    "tags": []
   },
   "outputs": [],
   "source": [
    "# Ensuring there are no negative numbers before square root\n",
    "for i in range(len(top_secret_1)):\n",
    "    if top_secret_1[i] < 0:\n",
    "        print(f\"Error Index {i} yields value below 0\")"
   ]
  },
  {
   "cell_type": "code",
   "execution_count": 314,
   "metadata": {
    "tags": []
   },
   "outputs": [],
   "source": [
    "# Step 11\n",
    "top_secret_1[37:465] = np.sqrt(top_secret_1[37:465])"
   ]
  },
  {
   "cell_type": "code",
   "execution_count": 318,
   "metadata": {
    "tags": []
   },
   "outputs": [],
   "source": [
    "# Step 12\n",
    "for i in range(len(top_secret_1)):\n",
    "    top_secret_1[i] = round(top_secret_1[i], 1)"
   ]
  },
  {
   "cell_type": "code",
   "execution_count": 319,
   "metadata": {
    "tags": []
   },
   "outputs": [],
   "source": [
    "# Step 13\n",
    "for i in range(len(top_secret_1)):\n",
    "    if top_secret_1[i] == 39:\n",
    "        top_secret_1[i] = 20"
   ]
  },
  {
   "cell_type": "code",
   "execution_count": 320,
   "metadata": {
    "tags": []
   },
   "outputs": [
    {
     "name": "stdout",
     "output_type": "stream",
     "text": [
      "344\n"
     ]
    }
   ],
   "source": [
    "# Checkpoint 3\n",
    "count = 0\n",
    "for i in top_secret_1:\n",
    "    if i % 2 == 0:\n",
    "        count += 1\n",
    "print(count)"
   ]
  },
  {
   "cell_type": "code",
   "execution_count": 335,
   "metadata": {
    "tags": []
   },
   "outputs": [
    {
     "name": "stdout",
     "output_type": "stream",
     "text": [
      "64.0\n",
      "64.0\n"
     ]
    }
   ],
   "source": [
    "for i in top_secret_1:\n",
    "    if i == 64:\n",
    "        print(i)"
   ]
  },
  {
   "cell_type": "code",
   "execution_count": 339,
   "metadata": {
    "tags": []
   },
   "outputs": [],
   "source": [
    "top_secret_minus = np.zeros(len(top_secret_1))\n",
    "for i in range(len(top_secret_1)):\n",
    "    top_secret_minus[i] = top_secret_1[i] - 1"
   ]
  },
  {
   "cell_type": "code",
   "execution_count": 356,
   "metadata": {
    "id": "HXyEJhXMrzC2"
   },
   "outputs": [
    {
     "data": {
      "text/plain": [
       "'\\'Twas brillig, and the slithy toves   Did gyre and gimble in the wabe: All mimsy were the borogoves,   And the mome raths outgrabe. \"Beware the Jabberwock, my son!   The jaws that bite, the claws that catch! Beware the Jubjub bird, and shun   The frumious Bandersnatch!\" He took his vorpal sword in hand;   Long time the manxome foe he sought- So rested he by the Tumtum tree   And stood awhile in thought. And, as in uffish thought he stood,   The Jabberwock, with eyes of flame, Came whiffling through the tulgey wood,   And burbled as it came! One, two! One, two! And through and through   The vorpal blade went snicker-snack! He left it dead, and with its head   He went galumphing back. \"And hast thou slain the Jabberwock?   Come to my arms, my beamish boy! O frabjous day! Callooh! Callay!\"   He chortled in his joy. \\'Twas brillig, and the slithy toves   Did gyre and gimble in the wabe: All mimsy were the borogoves,   And the mome raths outgrabe.'"
      ]
     },
     "execution_count": 356,
     "metadata": {},
     "output_type": "execute_result"
    }
   ],
   "source": [
    "''.join(map(str, symbols_df.loc[top_secret_minus]['Symbols']))"
   ]
  }
 ],
 "metadata": {
  "colab": {
   "provenance": []
  },
  "kernelspec": {
   "display_name": "Python 3 (ipykernel)",
   "language": "python",
   "name": "python3"
  },
  "language_info": {
   "codemirror_mode": {
    "name": "ipython",
    "version": 3
   },
   "file_extension": ".py",
   "mimetype": "text/x-python",
   "name": "python",
   "nbconvert_exporter": "python",
   "pygments_lexer": "ipython3",
   "version": "3.11.4"
  }
 },
 "nbformat": 4,
 "nbformat_minor": 4
}
