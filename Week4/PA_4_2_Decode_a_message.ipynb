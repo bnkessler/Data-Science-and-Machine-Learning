{
 "cells": [
  {
   "cell_type": "markdown",
   "metadata": {
    "id": "kPj76X_FP2uq"
   },
   "source": [
    "## Setup\n",
    "\n",
    "Run the code below to load the scrambled message:\n"
   ]
  },
  {
   "cell_type": "code",
   "execution_count": 68,
   "metadata": {
    "id": "YwkYMR2qP2ur",
    "tags": []
   },
   "outputs": [],
   "source": [
    "import pandas as pd\n",
    "import re as re\n",
    "\n",
    "message = pd.read_csv(\"https://www.dropbox.com/s/lgpn3vmksk3ssdo/scrambled_message.txt?dl=1\")['Word']"
   ]
  },
  {
   "cell_type": "markdown",
   "metadata": {
    "id": "cI8ZE3LAP2us"
   },
   "source": [
    "In this activity, a \"word\" refers to any set of characters with no white space, even though they are not truly an English word.  That is, even though many of elements of the scrambled message vector are nonsense, and some have punctuation, you can consider each element to be a \"word\".\n",
    "\n",
    "Beware!  The object named `message` is a **pandas Series** of strings.  If you want to use functions that expect a string, rather than a series, remember `.apply()` and `lambda` functions.\n",
    "\n"
   ]
  },
  {
   "cell_type": "markdown",
   "metadata": {
    "id": "dYISAD8uQLAy"
   },
   "source": [
    "\n",
    "## Warm-up exercises\n",
    "\n",
    "1. How many characters are in the scrambled message?\n",
    "2. How many of these characters are white space?\n",
    "3. How many words are in the scrambled message?\n",
    "4. Show all the punctuation marks in the scrambled message.\n",
    "5. Print out, in all capitals, the longest word in the scrambled message.\n",
    "6. Print out every piece of a word that starts with the letter \"m\" and ends with the letter \"z\" in the scrambled message."
   ]
  },
  {
   "cell_type": "code",
   "execution_count": 46,
   "metadata": {
    "id": "6vB1tbjiQNvE",
    "tags": []
   },
   "outputs": [
    {
     "data": {
      "text/plain": [
       "614"
      ]
     },
     "execution_count": 46,
     "metadata": {},
     "output_type": "execute_result"
    }
   ],
   "source": [
    "sum(message.apply(len))"
   ]
  },
  {
   "cell_type": "markdown",
   "metadata": {
    "id": "l3iJnnCJQOh7"
   },
   "source": [
    "\n",
    "\n",
    "## Decode a message\n",
    "\n",
    "Complete the following steps to decode the message.  \n",
    "\n",
    "1. Remove any spaces before or after each word.\n",
    "2. Any time you see the word \"ugh\", with any number of h's, followed by a punctuation mark, delete this.\n",
    "3. No word should be longer than 16 characters. Drop all extra characters beyond 13 off the end of each word.\n",
    "4. Replace all instances of exactly 2 a's with exactly 2 e's.\n",
    "5. Replace all z's with t's.\n",
    "6. Every word that ends in b, change that to a y.  *Hint: look out for punctuation!*\n",
    "7. Every word that starts with k, change that to a v.  *Hint: look out for capitalization!*\n",
    "8. Use `.join()` to recombine all your words into a message.\n",
    "9. Find the movie this quote is from."
   ]
  },
  {
   "cell_type": "code",
   "execution_count": 70,
   "metadata": {
    "id": "RRfjUzxMQQ5j"
   },
   "outputs": [],
   "source": [
    "message = message.apply(str.strip)\n",
    "message = message.replace(r\"ug+h*.\", \"\", regex = True)\n",
    "message = message.apply(lambda x: x[:12])\n",
    "message = message.replace(r\"aa\", \"ee\", regex = True)\n",
    "message = message.replace(r\"z\", \"t\", regex = True)\n",
    "message = message.replace(r\"b$\", \"y\", regex = True)\n",
    "message = message.replace(r\"^K\", \"V\", regex = True)\n",
    "message = message.replace(r\"^k\", \"v\", regex = True)\n",
    "message = \" \".join(message)"
   ]
  },
  {
   "cell_type": "code",
   "execution_count": 71,
   "metadata": {
    "tags": []
   },
   "outputs": [
    {
     "data": {
      "text/plain": [
       "'Voila! In view, a humble vaudevillian veteran, cast vicariously as both victim and villain by the vicissitudes of fate. This visage, no mere veneer of vanity, is a vestige of the vox populi now vacant, vanished. However, this valorous visitation of a bygone vexation stands vivified, and has vowed to vanquish these venal and virulent vermin, van guarding vice and vouchsafing the violently vicious and voracious violation of volition. The only verdict is vengeance; a vendetta, held as a votive not in vain, for the value and veracity of such shall one day vindicate the vigilant and the virtuous. Verily this vichyssoise of verbiage veers most verbose, so let me simply add that its my very good honour to meet you and you may call me V.'"
      ]
     },
     "execution_count": 71,
     "metadata": {},
     "output_type": "execute_result"
    }
   ],
   "source": [
    "message"
   ]
  }
 ],
 "metadata": {
  "colab": {
   "provenance": []
  },
  "kernelspec": {
   "display_name": "Python 3 (ipykernel)",
   "language": "python",
   "name": "python3"
  },
  "language_info": {
   "codemirror_mode": {
    "name": "ipython",
    "version": 3
   },
   "file_extension": ".py",
   "mimetype": "text/x-python",
   "name": "python",
   "nbconvert_exporter": "python",
   "pygments_lexer": "ipython3",
   "version": "3.11.4"
  }
 },
 "nbformat": 4,
 "nbformat_minor": 4
}
