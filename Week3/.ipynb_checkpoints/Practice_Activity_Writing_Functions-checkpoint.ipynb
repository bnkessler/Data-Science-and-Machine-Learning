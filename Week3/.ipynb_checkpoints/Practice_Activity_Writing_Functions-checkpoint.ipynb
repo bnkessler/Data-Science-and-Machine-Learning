{
 "cells": [
  {
   "cell_type": "code",
   "execution_count": 65,
   "metadata": {
    "id": "b69ul3XcoRQv",
    "tags": []
   },
   "outputs": [],
   "source": [
    "import numpy as np\n",
    "import pandas as pd\n",
    "from sys import exit\n",
    "from palmerpenguins import load_penguins\n",
    "from plotnine import ggplot, aes, geom_point, geom_bar"
   ]
  },
  {
   "cell_type": "markdown",
   "metadata": {
    "id": "1Q8_a-5qociG"
   },
   "source": [
    "1. Fill in the necessary code to write a function called `times_seven()`. The function should take a single argument (`x`) and multiply the input by 7.\n",
    "  + This function should check that the argument is numeric.\n",
    "  + This function should also excitedly announce (print) *“I love sevens!”* if the argument to the function is a 7."
   ]
  },
  {
   "cell_type": "code",
   "execution_count": 64,
   "metadata": {
    "id": "l5CW0nuloYzy",
    "tags": []
   },
   "outputs": [],
   "source": [
    "def times_seven(x):\n",
    "\n",
    "    if x is type(str) or x is type(int):\n",
    "        stop(\"Please provide a numeric value\")\n",
    "\n",
    "    if x == 7:\n",
    "        print(\"I love sevens!\")\n",
    "\n",
    "    return x * 7"
   ]
  },
  {
   "cell_type": "markdown",
   "metadata": {
    "id": "nonjYlruotrq"
   },
   "source": [
    "2. Write and run some *unit tests* for your `times_seven` function.  What happens if the input to the function is `[1, 3, 5, 7]`?"
   ]
  },
  {
   "cell_type": "markdown",
   "metadata": {
    "id": "98sLHKBno39e"
   },
   "source": [
    "3. Consider the following function:"
   ]
  },
  {
   "cell_type": "code",
   "execution_count": 66,
   "metadata": {
    "id": "V1xGEwq-o5mh",
    "tags": []
   },
   "outputs": [],
   "source": [
    "def add_or_subtract(first_num, second_num = 2, type = \"add\"):\n",
    "\n",
    "    if (type == \"add\"):\n",
    "        res = first_num + second_num\n",
    "    elif (type == \"subtract\"):\n",
    "        res = first_num - second_num\n",
    "    else:\n",
    "        exit(\"Please choose `add` or `subtract` as the type.\")\n",
    "\n",
    "    return res"
   ]
  },
  {
   "cell_type": "markdown",
   "metadata": {
    "id": "KIzEYgR1pI0K"
   },
   "source": [
    "**Without running the code**, predict if the following will produce:\n",
    "The first line will produce -1.\n",
    "The second line will produce an error defined in a different function because you can't add str and int.\n",
    "The third line will return an error defined by the function `add_or_subtract()`\n",
    "\n",
    "a. 1\n",
    "\n",
    "b. -1\n",
    "\n",
    "c. 30\n",
    "\n",
    "d. An error defined by the function `add_or_subtract()`\n",
    "\n",
    "e. An error defined in a different function, which is called inside the `add_or_subtract()` function"
   ]
  },
  {
   "cell_type": "code",
   "execution_count": 68,
   "metadata": {
    "id": "AKN_fkigpHIS",
    "tags": []
   },
   "outputs": [],
   "source": [
    "add_or_subtract(5, 6, type = \"subtract\")\n",
    "\n",
    "add_or_subtract(\"orange\")\n",
    "\n",
    "add_or_subtract(5, 6, type = \"multiply\")"
   ]
  },
  {
   "cell_type": "markdown",
   "metadata": {
    "id": "Z0_cVjgdpOSr"
   },
   "source": [
    "4. Consider the following code:"
   ]
  },
  {
   "cell_type": "code",
   "execution_count": 73,
   "metadata": {
    "id": "G4ImmGWGpekK",
    "tags": []
   },
   "outputs": [],
   "source": [
    "first_num  = 5\n",
    "second_num = 3\n",
    "\n",
    "result = 8\n",
    "\n",
    "result = add_or_subtract(first_num, second_num = 4)\n",
    "\n",
    "result_2 = add_or_subtract(first_num)"
   ]
  },
  {
   "cell_type": "markdown",
   "metadata": {
    "id": "K0I7k29Qpjfo"
   },
   "source": [
    "\n",
    "In your Global Environment, what is the value of...\n",
    "\n",
    "a. `first_num`\n",
    "\n",
    "5\n",
    "\n",
    "b. `second_num`\n",
    "\n",
    "3\n",
    "\n",
    "c. `result`\n",
    "\n",
    "9\n",
    "\n",
    "d. `result_2`\n",
    "\n",
    "7"
   ]
  }
 ],
 "metadata": {
  "colab": {
   "provenance": []
  },
  "kernelspec": {
   "display_name": "Python 3 (ipykernel)",
   "language": "python",
   "name": "python3"
  },
  "language_info": {
   "codemirror_mode": {
    "name": "ipython",
    "version": 3
   },
   "file_extension": ".py",
   "mimetype": "text/x-python",
   "name": "python",
   "nbconvert_exporter": "python",
   "pygments_lexer": "ipython3",
   "version": "3.11.4"
  }
 },
 "nbformat": 4,
 "nbformat_minor": 4
}
