{
 "cells": [
  {
   "cell_type": "raw",
   "id": "763d1730-76b9-4f9a-83cb-5eee8a737be9",
   "metadata": {},
   "source": [
    "---\n",
    "title: \"Lab 3\"\n",
    "author: \"Ben Kessler\"\n",
    "date: \"10/09/23\"\n",
    "output: html\n",
    "self-contained: true\n",
    "toc: true\n",
    "theme: cosmo\n",
    "echo: true\n",
    "---"
   ]
  },
  {
   "cell_type": "markdown",
   "id": "5ef1eda9-54b7-48a0-830b-92a636258428",
   "metadata": {},
   "source": [
    "## Data Import"
   ]
  },
  {
   "cell_type": "code",
   "execution_count": 2,
   "id": "f778693e-b655-48ab-a310-349b01ad499c",
   "metadata": {
    "tags": []
   },
   "outputs": [
    {
     "data": {
      "text/html": [
       "<div>\n",
       "<style scoped>\n",
       "    .dataframe tbody tr th:only-of-type {\n",
       "        vertical-align: middle;\n",
       "    }\n",
       "\n",
       "    .dataframe tbody tr th {\n",
       "        vertical-align: top;\n",
       "    }\n",
       "\n",
       "    .dataframe thead th {\n",
       "        text-align: right;\n",
       "    }\n",
       "</style>\n",
       "<table border=\"1\" class=\"dataframe\">\n",
       "  <thead>\n",
       "    <tr style=\"text-align: right;\">\n",
       "      <th></th>\n",
       "      <th>Day</th>\n",
       "      <th>Day.in.Words</th>\n",
       "      <th>Gift.Item</th>\n",
       "      <th>Verb</th>\n",
       "      <th>Adjective</th>\n",
       "      <th>Location</th>\n",
       "    </tr>\n",
       "  </thead>\n",
       "  <tbody>\n",
       "    <tr>\n",
       "      <th>0</th>\n",
       "      <td>1</td>\n",
       "      <td>first</td>\n",
       "      <td>partridge</td>\n",
       "      <td>NaN</td>\n",
       "      <td>NaN</td>\n",
       "      <td>in a pear tree</td>\n",
       "    </tr>\n",
       "    <tr>\n",
       "      <th>1</th>\n",
       "      <td>2</td>\n",
       "      <td>second</td>\n",
       "      <td>dove</td>\n",
       "      <td>NaN</td>\n",
       "      <td>turtle</td>\n",
       "      <td>NaN</td>\n",
       "    </tr>\n",
       "    <tr>\n",
       "      <th>2</th>\n",
       "      <td>3</td>\n",
       "      <td>third</td>\n",
       "      <td>hen</td>\n",
       "      <td>NaN</td>\n",
       "      <td>french</td>\n",
       "      <td>NaN</td>\n",
       "    </tr>\n",
       "    <tr>\n",
       "      <th>3</th>\n",
       "      <td>4</td>\n",
       "      <td>fourth</td>\n",
       "      <td>bird</td>\n",
       "      <td>NaN</td>\n",
       "      <td>calling</td>\n",
       "      <td>NaN</td>\n",
       "    </tr>\n",
       "    <tr>\n",
       "      <th>4</th>\n",
       "      <td>5</td>\n",
       "      <td>fifth</td>\n",
       "      <td>ring</td>\n",
       "      <td>NaN</td>\n",
       "      <td>golden</td>\n",
       "      <td>NaN</td>\n",
       "    </tr>\n",
       "    <tr>\n",
       "      <th>5</th>\n",
       "      <td>6</td>\n",
       "      <td>sixth</td>\n",
       "      <td>goose</td>\n",
       "      <td>a-laying</td>\n",
       "      <td>NaN</td>\n",
       "      <td>NaN</td>\n",
       "    </tr>\n",
       "    <tr>\n",
       "      <th>6</th>\n",
       "      <td>7</td>\n",
       "      <td>seventh</td>\n",
       "      <td>swan</td>\n",
       "      <td>a-swimming</td>\n",
       "      <td>NaN</td>\n",
       "      <td>NaN</td>\n",
       "    </tr>\n",
       "    <tr>\n",
       "      <th>7</th>\n",
       "      <td>8</td>\n",
       "      <td>eighth</td>\n",
       "      <td>maid</td>\n",
       "      <td>a-milking</td>\n",
       "      <td>NaN</td>\n",
       "      <td>NaN</td>\n",
       "    </tr>\n",
       "    <tr>\n",
       "      <th>8</th>\n",
       "      <td>9</td>\n",
       "      <td>ninth</td>\n",
       "      <td>lady</td>\n",
       "      <td>dancing</td>\n",
       "      <td>NaN</td>\n",
       "      <td>NaN</td>\n",
       "    </tr>\n",
       "    <tr>\n",
       "      <th>9</th>\n",
       "      <td>10</td>\n",
       "      <td>tenth</td>\n",
       "      <td>lord</td>\n",
       "      <td>a-leaping</td>\n",
       "      <td>NaN</td>\n",
       "      <td>NaN</td>\n",
       "    </tr>\n",
       "    <tr>\n",
       "      <th>10</th>\n",
       "      <td>11</td>\n",
       "      <td>eleventh</td>\n",
       "      <td>piper</td>\n",
       "      <td>piping</td>\n",
       "      <td>NaN</td>\n",
       "      <td>NaN</td>\n",
       "    </tr>\n",
       "    <tr>\n",
       "      <th>11</th>\n",
       "      <td>12</td>\n",
       "      <td>twelfth</td>\n",
       "      <td>drummer</td>\n",
       "      <td>drumming</td>\n",
       "      <td>NaN</td>\n",
       "      <td>NaN</td>\n",
       "    </tr>\n",
       "  </tbody>\n",
       "</table>\n",
       "</div>"
      ],
      "text/plain": [
       "    Day Day.in.Words  Gift.Item        Verb Adjective        Location\n",
       "0     1        first  partridge         NaN       NaN  in a pear tree\n",
       "1     2       second       dove         NaN    turtle             NaN\n",
       "2     3        third        hen         NaN    french             NaN\n",
       "3     4       fourth       bird         NaN   calling             NaN\n",
       "4     5        fifth       ring         NaN    golden             NaN\n",
       "5     6        sixth      goose    a-laying       NaN             NaN\n",
       "6     7      seventh       swan  a-swimming       NaN             NaN\n",
       "7     8       eighth       maid   a-milking       NaN             NaN\n",
       "8     9        ninth       lady     dancing       NaN             NaN\n",
       "9    10        tenth       lord   a-leaping       NaN             NaN\n",
       "10   11     eleventh      piper      piping       NaN             NaN\n",
       "11   12      twelfth    drummer    drumming       NaN             NaN"
      ]
     },
     "execution_count": 2,
     "metadata": {},
     "output_type": "execute_result"
    }
   ],
   "source": [
    "import pandas as pd\n",
    "xmas = pd.read_csv(\"https://www.dropbox.com/scl/fi/qxaslqqp5p08i1650rpc4/xmas.csv?rlkey=erdxi7jbh7pqf9fh4lv4cayp5&dl=1\")\n",
    "xmas"
   ]
  },
  {
   "cell_type": "markdown",
   "id": "5de6cc83-cdc2-4473-bfe1-e40b11671efc",
   "metadata": {},
   "source": [
    "## Create Function Pluralie Gift"
   ]
  },
  {
   "cell_type": "code",
   "execution_count": 182,
   "id": "7e08ea13-530a-4742-9132-d50d85e489f6",
   "metadata": {
    "tags": []
   },
   "outputs": [],
   "source": [
    "def pluralize_gift(words):\n",
    "    \"\"\"\n",
    "        Returns plural of a noun\n",
    "  \n",
    "          Parameters\n",
    "          ----------\n",
    "          words: str or [str]\n",
    "            A noun or [nouns]\n",
    "    \n",
    "          Return\n",
    "          ------\n",
    "          str or [str]\n",
    "            Plural version\n",
    "    \"\"\"   \n",
    "    if type(words) == str:\n",
    "        if \"oo\" in words:\n",
    "            words = words.replace(\"oo\", \"ee\")\n",
    "        elif \"y\" in words:\n",
    "            words = words.replace(\"y\", \"ies\")\n",
    "        else:\n",
    "            words = words + \"s\"\n",
    "        return words\n",
    "    else:\n",
    "        plur = []\n",
    "        for word in words:\n",
    "            if \"oo\" in word:\n",
    "                plur.append(word.replace(\"oo\", \"ee\"))\n",
    "            elif \"y\" in word:\n",
    "                plur.append(word.replace(\"y\", \"ies\"))\n",
    "            else:\n",
    "                plur.append(word + \"s\")\n",
    "\n",
    "    return plur"
   ]
  },
  {
   "cell_type": "markdown",
   "id": "bb8adb34-b0fc-4201-b973-14018039fda5",
   "metadata": {},
   "source": [
    "## Test Function Pluralize Gift"
   ]
  },
  {
   "cell_type": "code",
   "execution_count": 113,
   "id": "1b17c9a2-b66c-461c-857b-e6d19692b2c7",
   "metadata": {
    "tags": []
   },
   "outputs": [
    {
     "data": {
      "text/plain": [
       "['partridges',\n",
       " 'doves',\n",
       " 'hens',\n",
       " 'birds',\n",
       " 'rings',\n",
       " 'geese',\n",
       " 'swans',\n",
       " 'maids',\n",
       " 'ladies',\n",
       " 'lords',\n",
       " 'pipers',\n",
       " 'drummers']"
      ]
     },
     "execution_count": 113,
     "metadata": {},
     "output_type": "execute_result"
    }
   ],
   "source": [
    "# Should work\n",
    "pluralize_gift(\"goose\")\n",
    "\n",
    "# Will work if your function is vectorized! \n",
    "pluralize_gift(xmas['Gift.Item'])"
   ]
  },
  {
   "cell_type": "markdown",
   "id": "8a032689-9d1d-4573-94c1-6f25c019f9ce",
   "metadata": {},
   "source": [
    "## Create Function Make Phrase"
   ]
  },
  {
   "cell_type": "code",
   "execution_count": 217,
   "id": "180b0f54-ea43-4649-98c5-9e714935e845",
   "metadata": {
    "tags": []
   },
   "outputs": [],
   "source": [
    "def make_phrase(num, item, verb, adjective, location):\n",
    "    num_dict = {\n",
    "        1: \"One\",\n",
    "        2: \"Two\",\n",
    "        3: \"Three\",\n",
    "        4: \"Four\",\n",
    "        5: \"Five\",\n",
    "        6: \"Six\",\n",
    "        7: \"Seven\",\n",
    "        8: \"Eight\",\n",
    "        9: \"Nine\",\n",
    "        10: \"Ten\",\n",
    "        11: \"Eleven\",\n",
    "        12: \"Twelve\"\n",
    "    }\n",
    "    \n",
    "    \"\"\"\n",
    "    Function takes a number, the word, the gift item, a verb, an adjective, and/or a location and returns a phrase\n",
    "    \"\"\"\n",
    "  \n",
    "  # Step 1: Replace NAs with blank strings\n",
    "    verb = verb.fillna(\"\")\n",
    "    adjective = adjective.fillna(\"\")\n",
    "    location = location.fillna(\"\")\n",
    "    \n",
    "    verb = verb[num - 1]\n",
    "    adjective = adjective[num - 1]\n",
    "    location = location[num - 1]\n",
    "  \n",
    "  ## Step 2: If the day number is larger than 1, the gift items need pluralized!\n",
    "  ### Hint: call the function you created above!\n",
    "  \n",
    "    if num > 1:\n",
    "        p_item = pluralize_gift(item)\n",
    "    else:\n",
    "        p_item = item\n",
    "  \n",
    "  ## Step 3: Figure out if a gift item starts with a vowel\n",
    "    num_word = num_dict[num]\n",
    "  \n",
    "    if item[0] in [\"a\", \"e\", \"i\", \"o\", \"u\"]:\n",
    "        word = \"an\"\n",
    "    else:\n",
    "        word = \"a\"\n",
    "  \n",
    "  ## Step 4: For the first day, if the gift item starts with a vowel, replace the day with \"an\" and if the gift item does not start with a vowel, replace the day with \"a\" (e.g. a partridge in a pear tree). If it is not the first day, use just the number word (e.g. ten lords a leap)\n",
    "    if num == 1:\n",
    "        num_word = word\n",
    "\n",
    "  ## Step 5: Put all of the pieces together into one string and return!\n",
    "    string = (f\"{num_word}\" + f\" {adjective}\"  + f\" {p_item}\" + f\" {verb} \" + f\" {location}\")\n",
    "    return \" \".join(string.split())"
   ]
  },
  {
   "cell_type": "markdown",
   "id": "0e7bd11a-3a69-462c-978a-82c19b12ca8e",
   "metadata": {},
   "source": [
    "## Test Function Make Phrase"
   ]
  },
  {
   "cell_type": "code",
   "execution_count": 219,
   "id": "df38bbe5-89f0-4fac-a9fa-682405d6a055",
   "metadata": {
    "tags": []
   },
   "outputs": [],
   "source": [
    "make_phrase(num = xmas[\"Day\"][1],\n",
    "            item = xmas[\"Gift.Item\"][1], \n",
    "            verb = xmas[\"Verb\"], \n",
    "            adjective = xmas[\"Adjective\"], \n",
    "            location = xmas[\"Location\"])\n",
    "\n",
    "phrases = []\n",
    "for i in range(len(xmas[\"Day\"])):\n",
    "    phrases.append(make_phrase(\n",
    "        num = xmas[\"Day\"][i],\n",
    "        item = xmas[\"Gift.Item\"][i], \n",
    "        verb = xmas[\"Verb\"], \n",
    "        adjective = xmas[\"Adjective\"], \n",
    "        location = xmas[\"Location\"]\n",
    "    ))\n",
    "print(phrases)"
   ]
  },
  {
   "cell_type": "markdown",
   "id": "7da734b4-f063-405f-847a-acec809e1da1",
   "metadata": {},
   "source": [
    "## Create Function "
   ]
  },
  {
   "cell_type": "code",
   "execution_count": null,
   "id": "62f5d76e-75bb-417a-a4d8-5ca5390d381f",
   "metadata": {},
   "outputs": [],
   "source": []
  },
  {
   "cell_type": "code",
   "execution_count": null,
   "id": "2ea3070e-31e9-4679-9e2c-e014862acba8",
   "metadata": {},
   "outputs": [],
   "source": [
    "day_dict = {\n",
    "        1: \"First\",\n",
    "        2: \"Second\",\n",
    "        3: \"Third\",\n",
    "        4: \"Fourth\",\n",
    "        5: \"Fifth\",\n",
    "        6: \"Sixth\",\n",
    "        7: \"Seventh\",\n",
    "        8: \"Eighth\",\n",
    "        9: \"Ninth\",\n",
    "        10: \"Tenth\",\n",
    "        11: \"Eleventh\",\n",
    "        12: \"Twelfth\"\n",
    "    }"
   ]
  }
 ],
 "metadata": {
  "kernelspec": {
   "display_name": "Python 3 (ipykernel)",
   "language": "python",
   "name": "python3"
  },
  "language_info": {
   "codemirror_mode": {
    "name": "ipython",
    "version": 3
   },
   "file_extension": ".py",
   "mimetype": "text/x-python",
   "name": "python",
   "nbconvert_exporter": "python",
   "pygments_lexer": "ipython3",
   "version": "3.11.4"
  }
 },
 "nbformat": 4,
 "nbformat_minor": 5
}
