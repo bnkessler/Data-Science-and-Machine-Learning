{
 "cells": [
  {
   "cell_type": "raw",
   "id": "763d1730-76b9-4f9a-83cb-5eee8a737be9",
   "metadata": {},
   "source": [
    "---\n",
    "title: \"Lab 3\"\n",
    "author: \"Ben Kessler\"\n",
    "date: \"10/16/23\"\n",
    "output: html\n",
    "self-contained: true\n",
    "toc: true\n",
    "theme: cosmo\n",
    "echo: true\n",
    "---"
   ]
  },
  {
   "cell_type": "markdown",
   "id": "5ef1eda9-54b7-48a0-830b-92a636258428",
   "metadata": {},
   "source": [
    "## Data Import"
   ]
  },
  {
   "cell_type": "code",
   "execution_count": 3,
   "id": "f778693e-b655-48ab-a310-349b01ad499c",
   "metadata": {
    "tags": []
   },
   "outputs": [
    {
     "data": {
      "text/html": [
       "<div>\n",
       "<style scoped>\n",
       "    .dataframe tbody tr th:only-of-type {\n",
       "        vertical-align: middle;\n",
       "    }\n",
       "\n",
       "    .dataframe tbody tr th {\n",
       "        vertical-align: top;\n",
       "    }\n",
       "\n",
       "    .dataframe thead th {\n",
       "        text-align: right;\n",
       "    }\n",
       "</style>\n",
       "<table border=\"1\" class=\"dataframe\">\n",
       "  <thead>\n",
       "    <tr style=\"text-align: right;\">\n",
       "      <th></th>\n",
       "      <th>Day</th>\n",
       "      <th>Day.in.Words</th>\n",
       "      <th>Gift.Item</th>\n",
       "      <th>Verb</th>\n",
       "      <th>Adjective</th>\n",
       "      <th>Location</th>\n",
       "    </tr>\n",
       "  </thead>\n",
       "  <tbody>\n",
       "    <tr>\n",
       "      <th>0</th>\n",
       "      <td>1</td>\n",
       "      <td>first</td>\n",
       "      <td>partridge</td>\n",
       "      <td>NaN</td>\n",
       "      <td>NaN</td>\n",
       "      <td>in a pear tree</td>\n",
       "    </tr>\n",
       "    <tr>\n",
       "      <th>1</th>\n",
       "      <td>2</td>\n",
       "      <td>second</td>\n",
       "      <td>dove</td>\n",
       "      <td>NaN</td>\n",
       "      <td>turtle</td>\n",
       "      <td>NaN</td>\n",
       "    </tr>\n",
       "    <tr>\n",
       "      <th>2</th>\n",
       "      <td>3</td>\n",
       "      <td>third</td>\n",
       "      <td>hen</td>\n",
       "      <td>NaN</td>\n",
       "      <td>french</td>\n",
       "      <td>NaN</td>\n",
       "    </tr>\n",
       "    <tr>\n",
       "      <th>3</th>\n",
       "      <td>4</td>\n",
       "      <td>fourth</td>\n",
       "      <td>bird</td>\n",
       "      <td>NaN</td>\n",
       "      <td>calling</td>\n",
       "      <td>NaN</td>\n",
       "    </tr>\n",
       "    <tr>\n",
       "      <th>4</th>\n",
       "      <td>5</td>\n",
       "      <td>fifth</td>\n",
       "      <td>ring</td>\n",
       "      <td>NaN</td>\n",
       "      <td>golden</td>\n",
       "      <td>NaN</td>\n",
       "    </tr>\n",
       "    <tr>\n",
       "      <th>5</th>\n",
       "      <td>6</td>\n",
       "      <td>sixth</td>\n",
       "      <td>goose</td>\n",
       "      <td>a-laying</td>\n",
       "      <td>NaN</td>\n",
       "      <td>NaN</td>\n",
       "    </tr>\n",
       "    <tr>\n",
       "      <th>6</th>\n",
       "      <td>7</td>\n",
       "      <td>seventh</td>\n",
       "      <td>swan</td>\n",
       "      <td>a-swimming</td>\n",
       "      <td>NaN</td>\n",
       "      <td>NaN</td>\n",
       "    </tr>\n",
       "    <tr>\n",
       "      <th>7</th>\n",
       "      <td>8</td>\n",
       "      <td>eighth</td>\n",
       "      <td>maid</td>\n",
       "      <td>a-milking</td>\n",
       "      <td>NaN</td>\n",
       "      <td>NaN</td>\n",
       "    </tr>\n",
       "    <tr>\n",
       "      <th>8</th>\n",
       "      <td>9</td>\n",
       "      <td>ninth</td>\n",
       "      <td>lady</td>\n",
       "      <td>dancing</td>\n",
       "      <td>NaN</td>\n",
       "      <td>NaN</td>\n",
       "    </tr>\n",
       "    <tr>\n",
       "      <th>9</th>\n",
       "      <td>10</td>\n",
       "      <td>tenth</td>\n",
       "      <td>lord</td>\n",
       "      <td>a-leaping</td>\n",
       "      <td>NaN</td>\n",
       "      <td>NaN</td>\n",
       "    </tr>\n",
       "    <tr>\n",
       "      <th>10</th>\n",
       "      <td>11</td>\n",
       "      <td>eleventh</td>\n",
       "      <td>piper</td>\n",
       "      <td>piping</td>\n",
       "      <td>NaN</td>\n",
       "      <td>NaN</td>\n",
       "    </tr>\n",
       "    <tr>\n",
       "      <th>11</th>\n",
       "      <td>12</td>\n",
       "      <td>twelfth</td>\n",
       "      <td>drummer</td>\n",
       "      <td>drumming</td>\n",
       "      <td>NaN</td>\n",
       "      <td>NaN</td>\n",
       "    </tr>\n",
       "  </tbody>\n",
       "</table>\n",
       "</div>"
      ],
      "text/plain": [
       "    Day Day.in.Words  Gift.Item        Verb Adjective        Location\n",
       "0     1        first  partridge         NaN       NaN  in a pear tree\n",
       "1     2       second       dove         NaN    turtle             NaN\n",
       "2     3        third        hen         NaN    french             NaN\n",
       "3     4       fourth       bird         NaN   calling             NaN\n",
       "4     5        fifth       ring         NaN    golden             NaN\n",
       "5     6        sixth      goose    a-laying       NaN             NaN\n",
       "6     7      seventh       swan  a-swimming       NaN             NaN\n",
       "7     8       eighth       maid   a-milking       NaN             NaN\n",
       "8     9        ninth       lady     dancing       NaN             NaN\n",
       "9    10        tenth       lord   a-leaping       NaN             NaN\n",
       "10   11     eleventh      piper      piping       NaN             NaN\n",
       "11   12      twelfth    drummer    drumming       NaN             NaN"
      ]
     },
     "execution_count": 3,
     "metadata": {},
     "output_type": "execute_result"
    }
   ],
   "source": [
    "import pandas as pd\n",
    "import numpy as np\n",
    "xmas = pd.read_csv(\"https://www.dropbox.com/scl/fi/qxaslqqp5p08i1650rpc4/xmas.csv?rlkey=erdxi7jbh7pqf9fh4lv4cayp5&dl=1\")\n",
    "xmas"
   ]
  },
  {
   "cell_type": "markdown",
   "id": "5de6cc83-cdc2-4473-bfe1-e40b11671efc",
   "metadata": {},
   "source": [
    "## Create Function Pluralize Gift"
   ]
  },
  {
   "cell_type": "code",
   "execution_count": 4,
   "id": "7e08ea13-530a-4742-9132-d50d85e489f6",
   "metadata": {
    "tags": []
   },
   "outputs": [],
   "source": [
    "def pluralize_gift(words):\n",
    "    \"\"\"\n",
    "        Returns plural of a noun\n",
    "  \n",
    "          Parameters\n",
    "          ----------\n",
    "          words: str or [str]\n",
    "            A noun or [nouns]\n",
    "    \n",
    "          Return\n",
    "          ------\n",
    "          str or [str]\n",
    "            Plural version\n",
    "    \"\"\"   \n",
    "    if type(words) == str:\n",
    "        if \"oo\" in words:\n",
    "            words = words.replace(\"oo\", \"ee\")\n",
    "        elif \"y\" in words:\n",
    "            words = words.replace(\"y\", \"ies\")\n",
    "        else:\n",
    "            words = words + \"s\"\n",
    "        return words\n",
    "    else:\n",
    "        plur = []\n",
    "        for word in words:\n",
    "            if \"oo\" in word:\n",
    "                plur.append(word.replace(\"oo\", \"ee\"))\n",
    "            elif \"y\" in word:\n",
    "                plur.append(word.replace(\"y\", \"ies\"))\n",
    "            else:\n",
    "                plur.append(word + \"s\")\n",
    "\n",
    "    return plur"
   ]
  },
  {
   "cell_type": "markdown",
   "id": "bb8adb34-b0fc-4201-b973-14018039fda5",
   "metadata": {},
   "source": [
    "## Test Function Pluralize Gift"
   ]
  },
  {
   "cell_type": "code",
   "execution_count": 5,
   "id": "1b17c9a2-b66c-461c-857b-e6d19692b2c7",
   "metadata": {
    "tags": []
   },
   "outputs": [
    {
     "data": {
      "text/plain": [
       "['partridges',\n",
       " 'doves',\n",
       " 'hens',\n",
       " 'birds',\n",
       " 'rings',\n",
       " 'geese',\n",
       " 'swans',\n",
       " 'maids',\n",
       " 'ladies',\n",
       " 'lords',\n",
       " 'pipers',\n",
       " 'drummers']"
      ]
     },
     "execution_count": 5,
     "metadata": {},
     "output_type": "execute_result"
    }
   ],
   "source": [
    "# Should work\n",
    "pluralize_gift(\"goose\")\n",
    "\n",
    "# Will work if your function is vectorized! \n",
    "pluralize_gift(xmas['Gift.Item'])"
   ]
  },
  {
   "cell_type": "markdown",
   "id": "8a032689-9d1d-4573-94c1-6f25c019f9ce",
   "metadata": {},
   "source": [
    "## Create Function Make Phrase"
   ]
  },
  {
   "cell_type": "code",
   "execution_count": 685,
   "id": "180b0f54-ea43-4649-98c5-9e714935e845",
   "metadata": {
    "tags": []
   },
   "outputs": [],
   "source": [
    "def make_phrase(num, item, verb, adjective, location):\n",
    "    num_dict = {\n",
    "        1: \"One\",\n",
    "        2: \"Two\",\n",
    "        3: \"Three\",\n",
    "        4: \"Four\",\n",
    "        5: \"Five\",\n",
    "        6: \"Six\",\n",
    "        7: \"Seven\",\n",
    "        8: \"Eight\",\n",
    "        9: \"Nine\",\n",
    "        10: \"Ten\",\n",
    "        11: \"Eleven\",\n",
    "        12: \"Twelve\"\n",
    "    }\n",
    "    \n",
    "    \"\"\"\n",
    "    Returns full song phrase\n",
    "    \n",
    "    Parameters\n",
    "    ----------\n",
    "    num: integer [1-12]\n",
    "    item: noun [gift]\n",
    "    verb: verb\n",
    "    adjective: adjective\n",
    "    location: noun [location]\n",
    "    \n",
    "    Return\n",
    "    ------\n",
    "    str\n",
    "    full song phrase\n",
    "    \"\"\"\n",
    "  \n",
    "  # Step 1: Replace NAs with blank strings\n",
    "    if verb is np.NAN: verb = \"\"\n",
    "    if adjective is np.NAN: adjective = \"\"\n",
    "    if location is np.NAN: location = \"\"\n",
    "    \n",
    "    verb = verb\n",
    "    adjective = adjective\n",
    "    location = location\n",
    "  \n",
    "  ## Step 2: If the day number is larger than 1, the gift items need pluralized!\n",
    "  ### Hint: call the function you created above!\n",
    "    \n",
    "    if num > 1:\n",
    "        p_item = pluralize_gift(item)\n",
    "    else:\n",
    "        p_item = item\n",
    "  \n",
    "  ## Step 3: Figure out if a gift item starts with a vowel\n",
    "    # num_word = num_dict[num]\n",
    "    num_word = num_dict[num]\n",
    "  \n",
    "    if item[0] in [\"a\", \"e\", \"i\", \"o\", \"u\"]:\n",
    "        word = \"an\"\n",
    "    else:\n",
    "        word = \"a\"\n",
    "  \n",
    "  ## Step 4: For the first day, if the gift item starts with a vowel, replace the day with \"an\" and if the gift item does not start with a vowel, replace the day with \"a\" (e.g. a partridge in a pear tree). If it is not the first day, use just the number word (e.g. ten lords a leap)\n",
    "    if num == 1:\n",
    "        num_word = word\n",
    "\n",
    "  ## Step 5: Put all of the pieces together into one string and return!\n",
    "    string = num_word + \" \" + adjective + \" \" + p_item + \" \" + verb + \" \" + location\n",
    "    string = \" \".join(string.split())\n",
    "    return string"
   ]
  },
  {
   "cell_type": "markdown",
   "id": "0e7bd11a-3a69-462c-978a-82c19b12ca8e",
   "metadata": {},
   "source": [
    "## Test Function Make Phrase"
   ]
  },
  {
   "cell_type": "code",
   "execution_count": 186,
   "id": "5584acd0-76f2-4a1f-abbb-04f571d914fa",
   "metadata": {
    "tags": []
   },
   "outputs": [
    {
     "data": {
      "text/plain": [
       "'a partridge in a pear tree'"
      ]
     },
     "execution_count": 186,
     "metadata": {},
     "output_type": "execute_result"
    }
   ],
   "source": [
    "make_phrase(num = 1,\n",
    "            day = xmas[\"Day\"][0],\n",
    "            item = xmas[\"Gift.Item\"][0], \n",
    "            verb = xmas[\"Verb\"][0], \n",
    "            adjective = xmas[\"Adjective\"][0], \n",
    "            location = xmas[\"Location\"][0])"
   ]
  },
  {
   "cell_type": "code",
   "execution_count": 198,
   "id": "b21a01f5-3c13-42e2-8e5e-b4f5994afb8a",
   "metadata": {
    "tags": []
   },
   "outputs": [
    {
     "data": {
      "text/plain": [
       "0     a partridge in a pear tree\n",
       "1               Two turtle doves\n",
       "2              Three french hens\n",
       "3             Four calling birds\n",
       "4              Five golden rings\n",
       "5             Six geese a-laying\n",
       "6         Seven swans a-swimming\n",
       "7          Eight maids a-milking\n",
       "8            Nine ladies dancing\n",
       "9            Ten lords a-leaping\n",
       "10          Eleven pipers piping\n",
       "11      Twelve drummers drumming\n",
       "Name: Full.Phrase, dtype: object"
      ]
     },
     "execution_count": 198,
     "metadata": {},
     "output_type": "execute_result"
    }
   ],
   "source": [
    "xmas[\"Full.Phrase\"] = xmas.apply(lambda x: make_phrase(x[\"Day\"], x[\"Gift.Item\"], x[\"Verb\"], x[\"Adjective\"], x[\"Location\"]), axis = 1)\n",
    "xmas[\"Full.Phrase\"]"
   ]
  },
  {
   "cell_type": "markdown",
   "id": "7da734b4-f063-405f-847a-acec809e1da1",
   "metadata": {},
   "source": [
    "## Create Function Sing Day"
   ]
  },
  {
   "cell_type": "code",
   "execution_count": 631,
   "id": "644ff044-8cae-4244-911f-1fb2dbe9394c",
   "metadata": {
    "tags": []
   },
   "outputs": [],
   "source": [
    "def sing_day(dataset, num, phrase_col):\n",
    "    num_dict = {\n",
    "        1: \"first\",\n",
    "        2: \"second\",\n",
    "        3: \"third\",\n",
    "        4: \"fourth\",\n",
    "        5: \"fifth\",\n",
    "        6: \"sixth\",\n",
    "        7: \"seventh\",\n",
    "        8: \"eighth\",\n",
    "        9: \"ninth\",\n",
    "        10: \"tenth\",\n",
    "        11: \"eleventh\",\n",
    "        12: \"twelfth\"\n",
    "    }\n",
    "\n",
    "    \"\"\"\n",
    "    Returns one day of song\n",
    "    \n",
    "    Parameters\n",
    "    ----------\n",
    "    dataset: pandas df\n",
    "    num: integer [1-12]\n",
    "    phrase_col: str\n",
    "    \n",
    "    Return\n",
    "    ------\n",
    "    pandas.Series\n",
    "    \"\"\"\n",
    "\n",
    "    # Step 1: Setup the intro line\n",
    "    intro = \"On the \" + num_dict[num] + \" day of Christmas, my true love sent to me: \\n\"\n",
    "\n",
    "    # Step 2: Sing the gift phrases\n",
    "    # Hint: What order are they gifts sung in each day?\n",
    "    phrases = dataset[phrase_col]\n",
    "    gifts = \"\"\n",
    "    for i in range(num-1, -1, -1):\n",
    "        if i == 1:\n",
    "            gifts = gifts + phrases[i] + \", and \\n\"\n",
    "        elif i == 0:\n",
    "            gifts = gifts + phrases[i] + \". \\n\"\n",
    "        else:\n",
    "            gifts = gifts + phrases[i] + \",\\n\"\n",
    "\n",
    "    # Step 3: Put it all together and return\n",
    "    return intro + gifts + \"\\n\""
   ]
  },
  {
   "cell_type": "markdown",
   "id": "2a50946c-9dbe-4e09-9247-1886960ecb0c",
   "metadata": {},
   "source": [
    "## Test Function Sing Day"
   ]
  },
  {
   "cell_type": "code",
   "execution_count": 678,
   "id": "3bb53727-154f-419d-b246-797e326a39a1",
   "metadata": {
    "collapsed": true,
    "jupyter": {
     "outputs_hidden": true
    },
    "tags": []
   },
   "outputs": [
    {
     "data": {
      "text/html": [
       "<table border=\"1\" class=\"dataframe\">\n",
       "  <thead>\n",
       "    <tr style=\"text-align: right;\">\n",
       "      <th></th>\n",
       "      <th>0</th>\n",
       "    </tr>\n",
       "  </thead>\n",
       "  <tbody>\n",
       "    <tr>\n",
       "      <th>0</th>\n",
       "      <td>On the first day of Christmas, my true love sent to me: <br>a partridge in a pear tree. <br><br></td>\n",
       "    </tr>\n",
       "    <tr>\n",
       "      <th>1</th>\n",
       "      <td>On the second day of Christmas, my true love sent to me: <br>Two turtle doves, and <br>a partridge in a pear tree. <br><br></td>\n",
       "    </tr>\n",
       "    <tr>\n",
       "      <th>2</th>\n",
       "      <td>On the third day of Christmas, my true love sent to me: <br>Three french hens,<br>Two turtle doves, and <br>a partridge in a pear tree. <br><br></td>\n",
       "    </tr>\n",
       "    <tr>\n",
       "      <th>3</th>\n",
       "      <td>On the fourth day of Christmas, my true love sent to me: <br>Four calling birds,<br>Three french hens,<br>Two turtle doves, and <br>a partridge in a pear tree. <br><br></td>\n",
       "    </tr>\n",
       "    <tr>\n",
       "      <th>4</th>\n",
       "      <td>On the fifth day of Christmas, my true love sent to me: <br>Five golden rings,<br>Four calling birds,<br>Three french hens,<br>Two turtle doves, and <br>a partridge in a pear tree. <br><br></td>\n",
       "    </tr>\n",
       "    <tr>\n",
       "      <th>5</th>\n",
       "      <td>On the sixth day of Christmas, my true love sent to me: <br>Six geese a-laying,<br>Five golden rings,<br>Four calling birds,<br>Three french hens,<br>Two turtle doves, and <br>a partridge in a pear tree. <br><br></td>\n",
       "    </tr>\n",
       "    <tr>\n",
       "      <th>6</th>\n",
       "      <td>On the seventh day of Christmas, my true love sent to me: <br>Seven swans a-swimming,<br>Six geese a-laying,<br>Five golden rings,<br>Four calling birds,<br>Three french hens,<br>Two turtle doves, and <br>a partridge in a pear tree. <br><br></td>\n",
       "    </tr>\n",
       "    <tr>\n",
       "      <th>7</th>\n",
       "      <td>On the eighth day of Christmas, my true love sent to me: <br>Eight maids a-milking,<br>Seven swans a-swimming,<br>Six geese a-laying,<br>Five golden rings,<br>Four calling birds,<br>Three french hens,<br>Two turtle doves, and <br>a partridge in a pear tree. <br><br></td>\n",
       "    </tr>\n",
       "    <tr>\n",
       "      <th>8</th>\n",
       "      <td>On the ninth day of Christmas, my true love sent to me: <br>Nine ladies dancing,<br>Eight maids a-milking,<br>Seven swans a-swimming,<br>Six geese a-laying,<br>Five golden rings,<br>Four calling birds,<br>Three french hens,<br>Two turtle doves, and <br>a partridge in a pear tree. <br><br></td>\n",
       "    </tr>\n",
       "    <tr>\n",
       "      <th>9</th>\n",
       "      <td>On the tenth day of Christmas, my true love sent to me: <br>Ten lords a-leaping,<br>Nine ladies dancing,<br>Eight maids a-milking,<br>Seven swans a-swimming,<br>Six geese a-laying,<br>Five golden rings,<br>Four calling birds,<br>Three french hens,<br>Two turtle doves, and <br>a partridge in a pear tree. <br><br></td>\n",
       "    </tr>\n",
       "    <tr>\n",
       "      <th>10</th>\n",
       "      <td>On the eleventh day of Christmas, my true love sent to me: <br>Eleven pipers piping,<br>Ten lords a-leaping,<br>Nine ladies dancing,<br>Eight maids a-milking,<br>Seven swans a-swimming,<br>Six geese a-laying,<br>Five golden rings,<br>Four calling birds,<br>Three french hens,<br>Two turtle doves, and <br>a partridge in a pear tree. <br><br></td>\n",
       "    </tr>\n",
       "    <tr>\n",
       "      <th>11</th>\n",
       "      <td>On the twelfth day of Christmas, my true love sent to me: <br>Twelve drummers drumming,<br>Eleven pipers piping,<br>Ten lords a-leaping,<br>Nine ladies dancing,<br>Eight maids a-milking,<br>Seven swans a-swimming,<br>Six geese a-laying,<br>Five golden rings,<br>Four calling birds,<br>Three french hens,<br>Two turtle doves, and <br>a partridge in a pear tree. <br><br></td>\n",
       "    </tr>\n",
       "  </tbody>\n",
       "</table>"
      ],
      "text/plain": [
       "<IPython.core.display.HTML object>"
      ]
     },
     "metadata": {},
     "output_type": "display_data"
    }
   ],
   "source": [
    "from IPython.display import display, HTML\n",
    "# Credit to https://stackoverflow.com/questions/34322448/pretty-printing-newlines-inside-a-string-in-a-pandas-dataframe\n",
    "# Use the apply method to apply the sing_day function to each row in the DataFrame\n",
    "results = xmas.apply(lambda x: sing_day(xmas, x[\"Day\"], \"Full.Phrase\"), axis=1)\n",
    "\n",
    "def pretty_print(df):\n",
    "    return display(HTML(df.to_html().replace(\"\\\\n\",\"<br>\") ) )\n",
    "\n",
    "pretty_print(results.to_frame())"
   ]
  },
  {
   "cell_type": "markdown",
   "id": "519d0ffe-7f8c-4033-957e-ce78b9cb4068",
   "metadata": {},
   "source": [
    "## Use Your Functions!"
   ]
  },
  {
   "cell_type": "code",
   "execution_count": 681,
   "id": "8cd6f1d6-6838-4769-be0b-6cc5e16c3a2d",
   "metadata": {
    "tags": []
   },
   "outputs": [],
   "source": [
    "xmas2 = pd.read_csv(\"https://www.dropbox.com/scl/fi/p9x9k8xwuzs9rhp582vfy/xmas_2.csv?rlkey=kvc3j3lmyn4opcidsrhcmrof1&dl=1\")"
   ]
  },
  {
   "cell_type": "code",
   "execution_count": 684,
   "id": "4f352bae-792c-4179-8cca-4ed0bc808650",
   "metadata": {
    "tags": []
   },
   "outputs": [
    {
     "data": {
      "text/html": [
       "<table border=\"1\" class=\"dataframe\">\n",
       "  <thead>\n",
       "    <tr style=\"text-align: right;\">\n",
       "      <th></th>\n",
       "      <th>0</th>\n",
       "    </tr>\n",
       "  </thead>\n",
       "  <tbody>\n",
       "    <tr>\n",
       "      <th>0</th>\n",
       "      <td>On the first day of Christmas, my true love sent to me: <br>an email from Cal Poly. <br><br></td>\n",
       "    </tr>\n",
       "    <tr>\n",
       "      <th>1</th>\n",
       "      <td>On the second day of Christmas, my true love sent to me: <br>Two meal points, and <br>an email from Cal Poly. <br><br></td>\n",
       "    </tr>\n",
       "    <tr>\n",
       "      <th>2</th>\n",
       "      <td>On the third day of Christmas, my true love sent to me: <br>Three lost pens,<br>Two meal points, and <br>an email from Cal Poly. <br><br></td>\n",
       "    </tr>\n",
       "    <tr>\n",
       "      <th>3</th>\n",
       "      <td>On the fourth day of Christmas, my true love sent to me: <br>Four course reviews,<br>Three lost pens,<br>Two meal points, and <br>an email from Cal Poly. <br><br></td>\n",
       "    </tr>\n",
       "    <tr>\n",
       "      <th>4</th>\n",
       "      <td>On the fifth day of Christmas, my true love sent to me: <br>Five practice exams,<br>Four course reviews,<br>Three lost pens,<br>Two meal points, and <br>an email from Cal Poly. <br><br></td>\n",
       "    </tr>\n",
       "    <tr>\n",
       "      <th>5</th>\n",
       "      <td>On the sixth day of Christmas, my true love sent to me: <br>Six graders grading,<br>Five practice exams,<br>Four course reviews,<br>Three lost pens,<br>Two meal points, and <br>an email from Cal Poly. <br><br></td>\n",
       "    </tr>\n",
       "    <tr>\n",
       "      <th>6</th>\n",
       "      <td>On the seventh day of Christmas, my true love sent to me: <br>Seven seniors stressing,<br>Six graders grading,<br>Five practice exams,<br>Four course reviews,<br>Three lost pens,<br>Two meal points, and <br>an email from Cal Poly. <br><br></td>\n",
       "    </tr>\n",
       "    <tr>\n",
       "      <th>7</th>\n",
       "      <td>On the eighth day of Christmas, my true love sent to me: <br>Eight moms a-calling,<br>Seven seniors stressing,<br>Six graders grading,<br>Five practice exams,<br>Four course reviews,<br>Three lost pens,<br>Two meal points, and <br>an email from Cal Poly. <br><br></td>\n",
       "    </tr>\n",
       "    <tr>\n",
       "      <th>8</th>\n",
       "      <td>On the ninth day of Christmas, my true love sent to me: <br>Nine parties bumping,<br>Eight moms a-calling,<br>Seven seniors stressing,<br>Six graders grading,<br>Five practice exams,<br>Four course reviews,<br>Three lost pens,<br>Two meal points, and <br>an email from Cal Poly. <br><br></td>\n",
       "    </tr>\n",
       "    <tr>\n",
       "      <th>9</th>\n",
       "      <td>On the tenth day of Christmas, my true love sent to me: <br>Ten loads of laundry,<br>Nine parties bumping,<br>Eight moms a-calling,<br>Seven seniors stressing,<br>Six graders grading,<br>Five practice exams,<br>Four course reviews,<br>Three lost pens,<br>Two meal points, and <br>an email from Cal Poly. <br><br></td>\n",
       "    </tr>\n",
       "    <tr>\n",
       "      <th>10</th>\n",
       "      <td>On the eleventh day of Christmas, my true love sent to me: <br>Eleven friends goodbye-ing,<br>Ten loads of laundry,<br>Nine parties bumping,<br>Eight moms a-calling,<br>Seven seniors stressing,<br>Six graders grading,<br>Five practice exams,<br>Four course reviews,<br>Three lost pens,<br>Two meal points, and <br>an email from Cal Poly. <br><br></td>\n",
       "    </tr>\n",
       "    <tr>\n",
       "      <th>11</th>\n",
       "      <td>On the twelfth day of Christmas, my true love sent to me: <br>Twelve hours sleeping,<br>Eleven friends goodbye-ing,<br>Ten loads of laundry,<br>Nine parties bumping,<br>Eight moms a-calling,<br>Seven seniors stressing,<br>Six graders grading,<br>Five practice exams,<br>Four course reviews,<br>Three lost pens,<br>Two meal points, and <br>an email from Cal Poly. <br><br></td>\n",
       "    </tr>\n",
       "  </tbody>\n",
       "</table>"
      ],
      "text/plain": [
       "<IPython.core.display.HTML object>"
      ]
     },
     "metadata": {},
     "output_type": "display_data"
    }
   ],
   "source": [
    "xmas2[\"Full.Phrase\"] = xmas2.apply(lambda x: make_phrase(x[\"Day\"], x[\"Gift.Item\"], x[\"Verb\"], x[\"Adjective\"], x[\"Location\"]), axis = 1)\n",
    "results = xmas2.apply(lambda x: sing_day(xmas2, x[\"Day\"], \"Full.Phrase\"), axis=1)\n",
    "\n",
    "def pretty_print(df):\n",
    "    return display(HTML(df.to_html().replace(\"\\\\n\",\"<br>\") ) )\n",
    "\n",
    "pretty_print(results.to_frame())"
   ]
  }
 ],
 "metadata": {
  "kernelspec": {
   "display_name": "Python 3 (ipykernel)",
   "language": "python",
   "name": "python3"
  },
  "language_info": {
   "codemirror_mode": {
    "name": "ipython",
    "version": 3
   },
   "file_extension": ".py",
   "mimetype": "text/x-python",
   "name": "python",
   "nbconvert_exporter": "python",
   "pygments_lexer": "ipython3",
   "version": "3.11.4"
  }
 },
 "nbformat": 4,
 "nbformat_minor": 5
}
