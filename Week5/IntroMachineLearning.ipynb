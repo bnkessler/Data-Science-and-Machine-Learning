{
 "cells": [
  {
   "cell_type": "markdown",
   "id": "154accfd-398a-4929-a15b-993ebea48516",
   "metadata": {},
   "source": [
    "## Introduction to Machine Learning"
   ]
  },
  {
   "cell_type": "code",
   "execution_count": 1,
   "id": "9e6fbbc5-5a6c-49c5-a12b-c92f968e2495",
   "metadata": {
    "tags": []
   },
   "outputs": [],
   "source": [
    "import pandas as pd\n",
    "import numpy as np\n",
    "import sklearn"
   ]
  },
  {
   "cell_type": "code",
   "execution_count": 4,
   "id": "f60d1384-db98-4164-b122-337b259e51ce",
   "metadata": {
    "tags": []
   },
   "outputs": [
    {
     "data": {
      "text/html": [
       "<div>\n",
       "<style scoped>\n",
       "    .dataframe tbody tr th:only-of-type {\n",
       "        vertical-align: middle;\n",
       "    }\n",
       "\n",
       "    .dataframe tbody tr th {\n",
       "        vertical-align: top;\n",
       "    }\n",
       "\n",
       "    .dataframe thead th {\n",
       "        text-align: right;\n",
       "    }\n",
       "</style>\n",
       "<table border=\"1\" class=\"dataframe\">\n",
       "  <thead>\n",
       "    <tr style=\"text-align: right;\">\n",
       "      <th></th>\n",
       "      <th>Unnamed: 0</th>\n",
       "      <th>SalePrice</th>\n",
       "      <th>Gr Liv Area</th>\n",
       "      <th>Bedroom AbvGr</th>\n",
       "      <th>Neighborhood_NAmes</th>\n",
       "      <th>Neighborhood_NWAmes</th>\n",
       "    </tr>\n",
       "  </thead>\n",
       "  <tbody>\n",
       "    <tr>\n",
       "      <th>0</th>\n",
       "      <td>1</td>\n",
       "      <td>105000</td>\n",
       "      <td>896</td>\n",
       "      <td>2</td>\n",
       "      <td>True</td>\n",
       "      <td>False</td>\n",
       "    </tr>\n",
       "    <tr>\n",
       "      <th>1</th>\n",
       "      <td>2</td>\n",
       "      <td>172000</td>\n",
       "      <td>1329</td>\n",
       "      <td>3</td>\n",
       "      <td>True</td>\n",
       "      <td>False</td>\n",
       "    </tr>\n",
       "    <tr>\n",
       "      <th>2</th>\n",
       "      <td>3</td>\n",
       "      <td>244000</td>\n",
       "      <td>2110</td>\n",
       "      <td>3</td>\n",
       "      <td>True</td>\n",
       "      <td>False</td>\n",
       "    </tr>\n",
       "    <tr>\n",
       "      <th>3</th>\n",
       "      <td>19</td>\n",
       "      <td>210000</td>\n",
       "      <td>2073</td>\n",
       "      <td>3</td>\n",
       "      <td>False</td>\n",
       "      <td>True</td>\n",
       "    </tr>\n",
       "    <tr>\n",
       "      <th>4</th>\n",
       "      <td>20</td>\n",
       "      <td>190000</td>\n",
       "      <td>1844</td>\n",
       "      <td>3</td>\n",
       "      <td>False</td>\n",
       "      <td>True</td>\n",
       "    </tr>\n",
       "  </tbody>\n",
       "</table>\n",
       "</div>"
      ],
      "text/plain": [
       "   Unnamed: 0  SalePrice  Gr Liv Area  Bedroom AbvGr  Neighborhood_NAmes  \\\n",
       "0           1     105000          896              2                True   \n",
       "1           2     172000         1329              3                True   \n",
       "2           3     244000         2110              3                True   \n",
       "3          19     210000         2073              3               False   \n",
       "4          20     190000         1844              3               False   \n",
       "\n",
       "   Neighborhood_NWAmes  \n",
       "0                False  \n",
       "1                False  \n",
       "2                False  \n",
       "3                 True  \n",
       "4                 True  "
      ]
     },
     "execution_count": 4,
     "metadata": {},
     "output_type": "execute_result"
    }
   ],
   "source": [
    "data = pd.read_csv(\"https://www.dropbox.com/scl/fi/yf8t1x0uvrln93dzi6xd8/housing_small.csv?rlkey=uen32y937kqarrjra0v6jaez4&dl=1\")\n",
    "data.head()"
   ]
  },
  {
   "cell_type": "code",
   "execution_count": 5,
   "id": "61540b6d-9936-4840-9eea-6e54987ee901",
   "metadata": {
    "tags": []
   },
   "outputs": [],
   "source": [
    "y = data['SalePrice']\n",
    "X = data[['Gr Liv Area', 'Bedroom AbvGr', 'Neighborhood_NAmes', 'Neighborhood_NWAmes']]"
   ]
  },
  {
   "cell_type": "code",
   "execution_count": 47,
   "id": "208bf2ca-e6f7-43ee-91b6-f651b14f9c76",
   "metadata": {
    "tags": []
   },
   "outputs": [],
   "source": [
    "from sklearn.neighbors import KNeighborsRegressor\n",
    "from sklearn.tree import DecisionTreeRegressor\n",
    "from sklearn.linear_model import LinearRegression\n",
    "\n",
    "knn = KNeighborsRegressor()\n",
    "lr = LinearRegression()\n",
    "dt = DecisionTreeRegressor()"
   ]
  },
  {
   "cell_type": "code",
   "execution_count": 48,
   "id": "9cece418-e2be-4fcc-adc5-2ee310462dcc",
   "metadata": {
    "tags": []
   },
   "outputs": [],
   "source": [
    "from sklearn.model_selection import train_test_split\n",
    "\n",
    "X_train, X_test, y_train, y_test = train_test_split(X, y, test_size=0.25)"
   ]
  },
  {
   "cell_type": "code",
   "execution_count": 67,
   "id": "fe0fa8ab-d325-4ff7-9fa3-7390c143ba66",
   "metadata": {
    "tags": []
   },
   "outputs": [
    {
     "data": {
      "text/plain": [
       "(74, 25, 74, 25)"
      ]
     },
     "execution_count": 67,
     "metadata": {},
     "output_type": "execute_result"
    }
   ],
   "source": [
    "len(X_train), len(X_test), len(y_train), len(y_test)"
   ]
  },
  {
   "cell_type": "code",
   "execution_count": 58,
   "id": "5a14bb96-cebd-4c83-94b4-3b758503dbad",
   "metadata": {
    "tags": []
   },
   "outputs": [],
   "source": [
    "lr_fit = lr.fit(X_train, y_train)\n",
    "dt_fit = dt.fit(X_train, y_train)\n",
    "knn_fit = knn.fit(X_train, y_train)"
   ]
  },
  {
   "cell_type": "code",
   "execution_count": 27,
   "id": "063b2eb9-901b-47c3-8635-3084bf8a2bff",
   "metadata": {
    "tags": []
   },
   "outputs": [
    {
     "data": {
      "text/plain": [
       "array([    84.59623186, -15568.53789148,  -2351.7764099 ,   2351.7764099 ])"
      ]
     },
     "execution_count": 27,
     "metadata": {},
     "output_type": "execute_result"
    }
   ],
   "source": [
    "lr_fit.coef_"
   ]
  },
  {
   "cell_type": "code",
   "execution_count": 50,
   "id": "aa04bdf6-dc29-496f-af74-d15d1ced437c",
   "metadata": {
    "tags": []
   },
   "outputs": [],
   "source": [
    "y_pred_knn = knn_fit.predict(X_test)\n",
    "y_pred_lr = lr_fit.predict(X_test)\n",
    "y_pred_dt = dt_fit.predict(X_test)"
   ]
  },
  {
   "cell_type": "code",
   "execution_count": 80,
   "id": "d7eb8701-6160-4894-8d93-03d2ea2accfd",
   "metadata": {
    "collapsed": true,
    "jupyter": {
     "outputs_hidden": true
    },
    "tags": []
   },
   "outputs": [
    {
     "data": {
      "text/html": [
       "<div>\n",
       "<style scoped>\n",
       "    .dataframe tbody tr th:only-of-type {\n",
       "        vertical-align: middle;\n",
       "    }\n",
       "\n",
       "    .dataframe tbody tr th {\n",
       "        vertical-align: top;\n",
       "    }\n",
       "\n",
       "    .dataframe thead th {\n",
       "        text-align: right;\n",
       "    }\n",
       "</style>\n",
       "<table border=\"1\" class=\"dataframe\">\n",
       "  <thead>\n",
       "    <tr style=\"text-align: right;\">\n",
       "      <th></th>\n",
       "      <th>y_test</th>\n",
       "      <th>y_predd_knn</th>\n",
       "      <th>y_pred_lr</th>\n",
       "      <th>y_pred_dt</th>\n",
       "    </tr>\n",
       "  </thead>\n",
       "  <tbody>\n",
       "    <tr>\n",
       "      <th>78</th>\n",
       "      <td>187500</td>\n",
       "      <td>140800.0</td>\n",
       "      <td>170118.182579</td>\n",
       "      <td>214000.0</td>\n",
       "    </tr>\n",
       "    <tr>\n",
       "      <th>15</th>\n",
       "      <td>212500</td>\n",
       "      <td>177900.0</td>\n",
       "      <td>202055.070551</td>\n",
       "      <td>190000.0</td>\n",
       "    </tr>\n",
       "    <tr>\n",
       "      <th>68</th>\n",
       "      <td>124500</td>\n",
       "      <td>116500.0</td>\n",
       "      <td>121597.119295</td>\n",
       "      <td>126000.0</td>\n",
       "    </tr>\n",
       "    <tr>\n",
       "      <th>75</th>\n",
       "      <td>154000</td>\n",
       "      <td>187400.0</td>\n",
       "      <td>212719.641040</td>\n",
       "      <td>218500.0</td>\n",
       "    </tr>\n",
       "    <tr>\n",
       "      <th>30</th>\n",
       "      <td>172500</td>\n",
       "      <td>173100.0</td>\n",
       "      <td>171515.859965</td>\n",
       "      <td>159500.0</td>\n",
       "    </tr>\n",
       "    <tr>\n",
       "      <th>23</th>\n",
       "      <td>178900</td>\n",
       "      <td>156200.0</td>\n",
       "      <td>168009.662240</td>\n",
       "      <td>153000.0</td>\n",
       "    </tr>\n",
       "    <tr>\n",
       "      <th>60</th>\n",
       "      <td>132000</td>\n",
       "      <td>138547.6</td>\n",
       "      <td>146210.258994</td>\n",
       "      <td>128950.0</td>\n",
       "    </tr>\n",
       "    <tr>\n",
       "      <th>17</th>\n",
       "      <td>197500</td>\n",
       "      <td>151500.0</td>\n",
       "      <td>163182.008819</td>\n",
       "      <td>152000.0</td>\n",
       "    </tr>\n",
       "    <tr>\n",
       "      <th>31</th>\n",
       "      <td>128000</td>\n",
       "      <td>133300.0</td>\n",
       "      <td>133938.566957</td>\n",
       "      <td>135000.0</td>\n",
       "    </tr>\n",
       "    <tr>\n",
       "      <th>33</th>\n",
       "      <td>132000</td>\n",
       "      <td>150940.0</td>\n",
       "      <td>151018.691508</td>\n",
       "      <td>167500.0</td>\n",
       "    </tr>\n",
       "    <tr>\n",
       "      <th>83</th>\n",
       "      <td>197500</td>\n",
       "      <td>177900.0</td>\n",
       "      <td>198847.293520</td>\n",
       "      <td>218500.0</td>\n",
       "    </tr>\n",
       "    <tr>\n",
       "      <th>94</th>\n",
       "      <td>76500</td>\n",
       "      <td>117400.0</td>\n",
       "      <td>118770.450713</td>\n",
       "      <td>122500.0</td>\n",
       "    </tr>\n",
       "    <tr>\n",
       "      <th>1</th>\n",
       "      <td>172000</td>\n",
       "      <td>157800.0</td>\n",
       "      <td>154213.536410</td>\n",
       "      <td>145000.0</td>\n",
       "    </tr>\n",
       "    <tr>\n",
       "      <th>13</th>\n",
       "      <td>243500</td>\n",
       "      <td>245520.0</td>\n",
       "      <td>246638.292944</td>\n",
       "      <td>278000.0</td>\n",
       "    </tr>\n",
       "    <tr>\n",
       "      <th>48</th>\n",
       "      <td>108000</td>\n",
       "      <td>157800.0</td>\n",
       "      <td>154823.309927</td>\n",
       "      <td>166000.0</td>\n",
       "    </tr>\n",
       "    <tr>\n",
       "      <th>55</th>\n",
       "      <td>144900</td>\n",
       "      <td>135605.0</td>\n",
       "      <td>135691.665820</td>\n",
       "      <td>149900.0</td>\n",
       "    </tr>\n",
       "    <tr>\n",
       "      <th>71</th>\n",
       "      <td>260000</td>\n",
       "      <td>225320.0</td>\n",
       "      <td>235814.813011</td>\n",
       "      <td>218500.0</td>\n",
       "    </tr>\n",
       "    <tr>\n",
       "      <th>35</th>\n",
       "      <td>154300</td>\n",
       "      <td>213520.0</td>\n",
       "      <td>223333.676811</td>\n",
       "      <td>155000.0</td>\n",
       "    </tr>\n",
       "    <tr>\n",
       "      <th>27</th>\n",
       "      <td>84900</td>\n",
       "      <td>176400.0</td>\n",
       "      <td>180261.956082</td>\n",
       "      <td>165500.0</td>\n",
       "    </tr>\n",
       "    <tr>\n",
       "      <th>36</th>\n",
       "      <td>180000</td>\n",
       "      <td>213520.0</td>\n",
       "      <td>221136.179940</td>\n",
       "      <td>197600.0</td>\n",
       "    </tr>\n",
       "    <tr>\n",
       "      <th>24</th>\n",
       "      <td>136300</td>\n",
       "      <td>178000.0</td>\n",
       "      <td>188208.410003</td>\n",
       "      <td>196500.0</td>\n",
       "    </tr>\n",
       "    <tr>\n",
       "      <th>34</th>\n",
       "      <td>178000</td>\n",
       "      <td>162880.0</td>\n",
       "      <td>140347.654954</td>\n",
       "      <td>160000.0</td>\n",
       "    </tr>\n",
       "    <tr>\n",
       "      <th>44</th>\n",
       "      <td>142000</td>\n",
       "      <td>150400.0</td>\n",
       "      <td>143466.278166</td>\n",
       "      <td>148000.0</td>\n",
       "    </tr>\n",
       "    <tr>\n",
       "      <th>59</th>\n",
       "      <td>242000</td>\n",
       "      <td>245520.0</td>\n",
       "      <td>276993.746339</td>\n",
       "      <td>345000.0</td>\n",
       "    </tr>\n",
       "    <tr>\n",
       "      <th>3</th>\n",
       "      <td>210000</td>\n",
       "      <td>187400.0</td>\n",
       "      <td>215927.418072</td>\n",
       "      <td>244000.0</td>\n",
       "    </tr>\n",
       "  </tbody>\n",
       "</table>\n",
       "</div>"
      ],
      "text/plain": [
       "    y_test  y_predd_knn      y_pred_lr  y_pred_dt\n",
       "78  187500     140800.0  170118.182579   214000.0\n",
       "15  212500     177900.0  202055.070551   190000.0\n",
       "68  124500     116500.0  121597.119295   126000.0\n",
       "75  154000     187400.0  212719.641040   218500.0\n",
       "30  172500     173100.0  171515.859965   159500.0\n",
       "23  178900     156200.0  168009.662240   153000.0\n",
       "60  132000     138547.6  146210.258994   128950.0\n",
       "17  197500     151500.0  163182.008819   152000.0\n",
       "31  128000     133300.0  133938.566957   135000.0\n",
       "33  132000     150940.0  151018.691508   167500.0\n",
       "83  197500     177900.0  198847.293520   218500.0\n",
       "94   76500     117400.0  118770.450713   122500.0\n",
       "1   172000     157800.0  154213.536410   145000.0\n",
       "13  243500     245520.0  246638.292944   278000.0\n",
       "48  108000     157800.0  154823.309927   166000.0\n",
       "55  144900     135605.0  135691.665820   149900.0\n",
       "71  260000     225320.0  235814.813011   218500.0\n",
       "35  154300     213520.0  223333.676811   155000.0\n",
       "27   84900     176400.0  180261.956082   165500.0\n",
       "36  180000     213520.0  221136.179940   197600.0\n",
       "24  136300     178000.0  188208.410003   196500.0\n",
       "34  178000     162880.0  140347.654954   160000.0\n",
       "44  142000     150400.0  143466.278166   148000.0\n",
       "59  242000     245520.0  276993.746339   345000.0\n",
       "3   210000     187400.0  215927.418072   244000.0"
      ]
     },
     "execution_count": 80,
     "metadata": {},
     "output_type": "execute_result"
    }
   ],
   "source": [
    "df = pd.DataFrame({\"y_test\": y_test, \"y_predd_knn\": y_pred_knn, \"y_pred_lr\": y_pred_lr, \"y_pred_dt\": y_pred_dt})"
   ]
  },
  {
   "cell_type": "code",
   "execution_count": 95,
   "id": "385fae14-c0f4-4265-8cb9-d316ef160fcd",
   "metadata": {
    "tags": []
   },
   "outputs": [
    {
     "data": {
      "image/png": "[encoded data removed]",
      "text/plain": [
       "<Figure size 640x480 with 1 Axes>"
      ]
     },
     "metadata": {
      "image/png": {
       "height": 480,
       "width": 640
      }
     },
     "output_type": "display_data"
    },
    {
     "data": {
      "text/plain": [
       "<Figure Size: (640 x 480)>"
      ]
     },
     "execution_count": 95,
     "metadata": {},
     "output_type": "execute_result"
    }
   ],
   "source": [
    "from plotnine import ggplot, aes, geom_line, geom_point, scale_color_manual\n",
    "(ggplot(aes(x = y_test)) + \n",
    "    geom_point(aes(y = y_test), color = \"black\") +\n",
    "    geom_point(aes(y = y_pred_knn), color = \"red\") +\n",
    "    geom_point(aes(y = y_pred_lr), color = \"blue\") +\n",
    "    geom_point(aes(y = y_pred_dt), color = \"yellow\")\n",
    ")"
   ]
  },
  {
   "cell_type": "code",
   "execution_count": 52,
   "id": "0cfe7bc0-b820-46a8-94be-59bf8407f160",
   "metadata": {
    "tags": []
   },
   "outputs": [
    {
     "name": "stdout",
     "output_type": "stream",
     "text": [
      "knn: 1168593523.6304002 \n",
      "lr: 1266662633.2600677 \n",
      "dt: 1669710500.0\n"
     ]
    },
    {
     "data": {
      "text/plain": [
       "1168593523.6304002"
      ]
     },
     "execution_count": 52,
     "metadata": {},
     "output_type": "execute_result"
    }
   ],
   "source": [
    "from sklearn.metrics import mean_squared_error\n",
    "\n",
    "mse_knn = mean_squared_error(y_test, y_pred_knn)\n",
    "mse_lr = mean_squared_error(y_test, y_pred_lr)\n",
    "mse_dt = mean_squared_error(y_test, y_pred_dt)\n",
    "\n",
    "print(f\"knn: {mse_knn} \\nlr: {mse_lr} \\ndt: {mse_dt}\")\n",
    "min(mse_knn, mse_lr, mse_dt)"
   ]
  },
  {
   "cell_type": "code",
   "execution_count": 66,
   "id": "909f2161-d036-4867-918c-87fadc42b494",
   "metadata": {
    "tags": []
   },
   "outputs": [
    {
     "data": {
      "text/plain": [
       "array([    74.37717581, -13083.50151923,  -7484.17760684,   7484.17760684])"
      ]
     },
     "execution_count": 66,
     "metadata": {},
     "output_type": "execute_result"
    }
   ],
   "source": [
    "final_model = lr.fit(X, y)\n",
    "final_model.coef_"
   ]
  }
 ],
 "metadata": {
  "kernelspec": {
   "display_name": "Python 3 (ipykernel)",
   "language": "python",
   "name": "python3"
  },
  "language_info": {
   "codemirror_mode": {
    "name": "ipython",
    "version": 3
   },
   "file_extension": ".py",
   "mimetype": "text/x-python",
   "name": "python",
   "nbconvert_exporter": "python",
   "pygments_lexer": "ipython3",
   "version": "3.11.4"
  }
 },
 "nbformat": 4,
 "nbformat_minor": 5
}
