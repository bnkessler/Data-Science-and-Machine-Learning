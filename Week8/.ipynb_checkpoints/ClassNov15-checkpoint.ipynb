{
 "cells": [
  {
   "cell_type": "markdown",
   "id": "1d688f53-b9da-4edf-b977-5886c366a78a",
   "metadata": {},
   "source": [
    "Class Nov 15"
   ]
  },
  {
   "cell_type": "code",
   "execution_count": null,
   "id": "13a30884-f654-485a-9720-7509c9b39817",
   "metadata": {},
   "outputs": [],
   "source": [
    "# Code Here\n",
    "import pandas as pd \n",
    "import numpy as np\n",
    "from palmerpenguins import load_penguins\n",
    "from sklearn.pipeline import Pipeline\n",
    "from sklearn.compose import make_column_selector, ColumnTransformer\n",
    "from sklearn.preprocessing import StandardScaler, OneHotEncoder, PolynomialFeatures\n",
    "from sklearn.linear_model import LogisticRegression\n",
    "from sklearn.neighbors import KNeighborsRegressor\n",
    "from sklearn.tree import DecisionTreeRegressor\n",
    "from sklearn.model_selection import train_test_split, cross_val_score, GridSearchCV\n",
    "from sklearn.metrics import accuracy_score"
   ]
  },
  {
   "cell_type": "code",
   "execution_count": null,
   "id": "2aca24e2-963f-4e3b-b81a-5ab7c7d06628",
   "metadata": {},
   "outputs": [],
   "source": [
    "penguins = load_penguins()\n",
    "penguins = penguins.dropna()\n",
    "penguins.head()"
   ]
  },
  {
   "cell_type": "code",
   "execution_count": null,
   "id": "e9b4395c-c1d4-4356-82e1-9a931ef6dbfc",
   "metadata": {},
   "outputs": [],
   "source": [
    "penguins['gentoo'] = (penguins['species'] == 'Gentoo').astype(int)\n",
    "X = penguins.drop([\"bill_depth_mm\", \"species\", \"gentoo\"], axis = 1)\n",
    "y = penguins[\"gentoo\"]\n",
    "\n",
    "X_train, X_test, y_train, y_test = train_test_split(X, y)"
   ]
  },
  {
   "cell_type": "code",
   "execution_count": null,
   "id": "62f02073-a9b6-45d0-81f1-e96ff4c45e4a",
   "metadata": {},
   "outputs": [],
   "source": [
    "lg = LogisticRegression(solver = \"saga\", max_iter = 1000)\n",
    "enc = OneHotEncoder(drop = \"first\")\n",
    "\n",
    "ct = ColumnTransformer(\n",
    "    [\n",
    "        (\"dummify\", OneHotEncoder(sparse_output = False, handle_unknown='error', drop=\"first\"), make_column_selector(dtype_include=object)),\n",
    "        (\"scaler\", StandardScaler(), make_column_selector(dtype_include=np.number))\n",
    "    ], remainder=\"drop\"\n",
    ")\n",
    "\n",
    "my_pipeline = Pipeline(\n",
    "    [(\"preprocessing\", ct), \n",
    "     (\"model\", lg)]\n",
    ")"
   ]
  },
  {
   "cell_type": "code",
   "execution_count": null,
   "id": "36851320-e12b-455f-b9c6-ed9fd96e8152",
   "metadata": {},
   "outputs": [],
   "source": [
    "alphas = {\n",
    "    \"model__penalty\": ['elasticnet'],\n",
    "    \"model__l1_ratio\": [.0001, .001, .01, .1, 1]\n",
    "}\n",
    "gscv = GridSearchCV(my_pipeline, alphas, cv = 5, scoring='accuracy')\n",
    "gscv_fitted = gscv.fit(X, y)\n",
    "gscv_fitted.cv_results_[\"mean_test_score\"]\n",
    "gscv_fitted.best_estimator_"
   ]
  },
  {
   "cell_type": "code",
   "execution_count": null,
   "id": "560fd511-20c7-491f-976c-b906e6cc0bf1",
   "metadata": {},
   "outputs": [],
   "source": [
    "lg = LogisticRegression(solver = \"saga\", max_iter = 1000, penalty = \"elasticnet\", l1_ratio = .0001)\n",
    "enc = OneHotEncoder(drop = \"first\")\n",
    "\n",
    "ct = ColumnTransformer(\n",
    "    [\n",
    "        (\"dummify\", OneHotEncoder(sparse_output = False, handle_unknown='error', drop=\"first\"), make_column_selector(dtype_include=object)),\n",
    "        (\"scaler\", StandardScaler(), make_column_selector(dtype_include=np.number))\n",
    "    ], remainder=\"drop\"\n",
    ")\n",
    "\n",
    "my_pipeline = Pipeline(\n",
    "    [(\"preprocessing\", ct), \n",
    "     (\"model\", lg)]\n",
    ")\n",
    "\n",
    "fitted_pipeline = my_pipeline.fit(X_train, y_train)\n",
    "\n",
    "y_pred = fitted_pipeline.predict(X_test)\n",
    "\n",
    "accuracy = accuracy_score(y_test, y_pred)\n",
    "print(\"Accuracy:\", accuracy)"
   ]
  }
 ],
 "metadata": {
  "kernelspec": {
   "display_name": "Python 3 (ipykernel)",
   "language": "python",
   "name": "python3"
  },
  "language_info": {
   "codemirror_mode": {
    "name": "ipython",
    "version": 3
   },
   "file_extension": ".py",
   "mimetype": "text/x-python",
   "name": "python",
   "nbconvert_exporter": "python",
   "pygments_lexer": "ipython3",
   "version": "3.11.4"
  }
 },
 "nbformat": 4,
 "nbformat_minor": 5
}
