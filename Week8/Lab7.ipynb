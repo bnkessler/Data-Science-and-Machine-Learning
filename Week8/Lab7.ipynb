{
 "cells": [
  {
   "cell_type": "raw",
   "id": "fa7b7485-29bb-46f1-a7f2-0239a54d49a1",
   "metadata": {},
   "source": [
    "---\n",
    "title: \"Lab 7\"\n",
    "author: \"Ben Kessler\"\n",
    "date: \"11/29/23\"\n",
    "output: html\n",
    "self-contained: true\n",
    "toc: true\n",
    "theme: cosmo\n",
    "echo: true\n",
    "---"
   ]
  },
  {
   "cell_type": "markdown",
   "id": "24b758d2-f59e-4f46-8a48-d512c99cc898",
   "metadata": {},
   "source": [
    "## Lab 7: Heart Attack"
   ]
  },
  {
   "cell_type": "code",
   "execution_count": 247,
   "id": "b7945db5-3128-435c-b070-ead55e3929c9",
   "metadata": {
    "tags": []
   },
   "outputs": [],
   "source": [
    "#| echo: false\n",
    "import pandas as pd\n",
    "import numpy as np\n",
    "from sklearn.pipeline import Pipeline\n",
    "from sklearn.compose import make_column_selector, ColumnTransformer\n",
    "from sklearn.preprocessing import StandardScaler, OneHotEncoder, label_binarize\n",
    "from sklearn.neighbors import KNeighborsClassifier\n",
    "from sklearn.linear_model import LogisticRegression\n",
    "from sklearn.tree import DecisionTreeClassifier\n",
    "from sklearn.model_selection import train_test_split, cross_val_score, GridSearchCV\n",
    "from sklearn.metrics import confusion_matrix, roc_auc_score, roc_curve, recall_score, precision_score, auc, f1_score, cohen_kappa_score"
   ]
  },
  {
   "cell_type": "code",
   "execution_count": 95,
   "id": "f2cc744e-7824-41d7-a714-bd18d9008604",
   "metadata": {
    "tags": []
   },
   "outputs": [
    {
     "data": {
      "text/html": [
       "<div>\n",
       "<style scoped>\n",
       "    .dataframe tbody tr th:only-of-type {\n",
       "        vertical-align: middle;\n",
       "    }\n",
       "\n",
       "    .dataframe tbody tr th {\n",
       "        vertical-align: top;\n",
       "    }\n",
       "\n",
       "    .dataframe thead th {\n",
       "        text-align: right;\n",
       "    }\n",
       "</style>\n",
       "<table border=\"1\" class=\"dataframe\">\n",
       "  <thead>\n",
       "    <tr style=\"text-align: right;\">\n",
       "      <th></th>\n",
       "      <th>age</th>\n",
       "      <th>sex</th>\n",
       "      <th>cp</th>\n",
       "      <th>trtbps</th>\n",
       "      <th>chol</th>\n",
       "      <th>restecg</th>\n",
       "      <th>thalach</th>\n",
       "      <th>output</th>\n",
       "    </tr>\n",
       "  </thead>\n",
       "  <tbody>\n",
       "    <tr>\n",
       "      <th>0</th>\n",
       "      <td>63</td>\n",
       "      <td>1</td>\n",
       "      <td>3</td>\n",
       "      <td>145</td>\n",
       "      <td>233</td>\n",
       "      <td>0</td>\n",
       "      <td>150</td>\n",
       "      <td>1</td>\n",
       "    </tr>\n",
       "    <tr>\n",
       "      <th>1</th>\n",
       "      <td>37</td>\n",
       "      <td>1</td>\n",
       "      <td>2</td>\n",
       "      <td>130</td>\n",
       "      <td>250</td>\n",
       "      <td>1</td>\n",
       "      <td>187</td>\n",
       "      <td>1</td>\n",
       "    </tr>\n",
       "    <tr>\n",
       "      <th>2</th>\n",
       "      <td>56</td>\n",
       "      <td>1</td>\n",
       "      <td>1</td>\n",
       "      <td>120</td>\n",
       "      <td>236</td>\n",
       "      <td>1</td>\n",
       "      <td>178</td>\n",
       "      <td>1</td>\n",
       "    </tr>\n",
       "    <tr>\n",
       "      <th>3</th>\n",
       "      <td>57</td>\n",
       "      <td>0</td>\n",
       "      <td>0</td>\n",
       "      <td>120</td>\n",
       "      <td>354</td>\n",
       "      <td>1</td>\n",
       "      <td>163</td>\n",
       "      <td>1</td>\n",
       "    </tr>\n",
       "    <tr>\n",
       "      <th>4</th>\n",
       "      <td>57</td>\n",
       "      <td>1</td>\n",
       "      <td>0</td>\n",
       "      <td>140</td>\n",
       "      <td>192</td>\n",
       "      <td>1</td>\n",
       "      <td>148</td>\n",
       "      <td>1</td>\n",
       "    </tr>\n",
       "  </tbody>\n",
       "</table>\n",
       "</div>"
      ],
      "text/plain": [
       "   age  sex  cp  trtbps  chol  restecg  thalach  output\n",
       "0   63    1   3     145   233        0      150       1\n",
       "1   37    1   2     130   250        1      187       1\n",
       "2   56    1   1     120   236        1      178       1\n",
       "3   57    0   0     120   354        1      163       1\n",
       "4   57    1   0     140   192        1      148       1"
      ]
     },
     "execution_count": 95,
     "metadata": {},
     "output_type": "execute_result"
    }
   ],
   "source": [
    "data = pd.read_csv(\"https://www.dropbox.com/s/aohbr6yb9ifmc8w/heart_attack.csv?dl=1\")\n",
    "data = data.dropna()\n",
    "data.head()"
   ]
  },
  {
   "cell_type": "code",
   "execution_count": 250,
   "id": "3f8edf8b-0eb5-4b46-a3dc-49147c184e25",
   "metadata": {
    "tags": []
   },
   "outputs": [],
   "source": [
    "X = data.drop(\"output\", axis = 1)\n",
    "y = data[\"output\"]\n",
    "\n",
    "X_train, X_test, y_train, y_test = train_test_split(X, y)"
   ]
  },
  {
   "cell_type": "markdown",
   "id": "48f34d94-5b0f-4e34-97f2-bcd2949d309a",
   "metadata": {},
   "source": [
    "## Part 1: Fitting Models & Part 2: Metrics"
   ]
  },
  {
   "cell_type": "markdown",
   "id": "f20cd5f8-bdb9-4fb9-a64c-2e8f5318859a",
   "metadata": {
    "tags": []
   },
   "source": [
    "#### 1.1 KNN"
   ]
  },
  {
   "cell_type": "code",
   "execution_count": 249,
   "id": "6889f202-14ff-4d3d-bb51-1eeea8a54dfd",
   "metadata": {
    "tags": []
   },
   "outputs": [
    {
     "data": {
      "text/html": [
       "<style>#sk-container-id-23 {color: black;}#sk-container-id-23 pre{padding: 0;}#sk-container-id-23 div.sk-toggleable {background-color: white;}#sk-container-id-23 label.sk-toggleable__label {cursor: pointer;display: block;width: 100%;margin-bottom: 0;padding: 0.3em;box-sizing: border-box;text-align: center;}#sk-container-id-23 label.sk-toggleable__label-arrow:before {content: \"▸\";float: left;margin-right: 0.25em;color: #696969;}#sk-container-id-23 label.sk-toggleable__label-arrow:hover:before {color: black;}#sk-container-id-23 div.sk-estimator:hover label.sk-toggleable__label-arrow:before {color: black;}#sk-container-id-23 div.sk-toggleable__content {max-height: 0;max-width: 0;overflow: hidden;text-align: left;background-color: #f0f8ff;}#sk-container-id-23 div.sk-toggleable__content pre {margin: 0.2em;color: black;border-radius: 0.25em;background-color: #f0f8ff;}#sk-container-id-23 input.sk-toggleable__control:checked~div.sk-toggleable__content {max-height: 200px;max-width: 100%;overflow: auto;}#sk-container-id-23 input.sk-toggleable__control:checked~label.sk-toggleable__label-arrow:before {content: \"▾\";}#sk-container-id-23 div.sk-estimator input.sk-toggleable__control:checked~label.sk-toggleable__label {background-color: #d4ebff;}#sk-container-id-23 div.sk-label input.sk-toggleable__control:checked~label.sk-toggleable__label {background-color: #d4ebff;}#sk-container-id-23 input.sk-hidden--visually {border: 0;clip: rect(1px 1px 1px 1px);clip: rect(1px, 1px, 1px, 1px);height: 1px;margin: -1px;overflow: hidden;padding: 0;position: absolute;width: 1px;}#sk-container-id-23 div.sk-estimator {font-family: monospace;background-color: #f0f8ff;border: 1px dotted black;border-radius: 0.25em;box-sizing: border-box;margin-bottom: 0.5em;}#sk-container-id-23 div.sk-estimator:hover {background-color: #d4ebff;}#sk-container-id-23 div.sk-parallel-item::after {content: \"\";width: 100%;border-bottom: 1px solid gray;flex-grow: 1;}#sk-container-id-23 div.sk-label:hover label.sk-toggleable__label {background-color: #d4ebff;}#sk-container-id-23 div.sk-serial::before {content: \"\";position: absolute;border-left: 1px solid gray;box-sizing: border-box;top: 0;bottom: 0;left: 50%;z-index: 0;}#sk-container-id-23 div.sk-serial {display: flex;flex-direction: column;align-items: center;background-color: white;padding-right: 0.2em;padding-left: 0.2em;position: relative;}#sk-container-id-23 div.sk-item {position: relative;z-index: 1;}#sk-container-id-23 div.sk-parallel {display: flex;align-items: stretch;justify-content: center;background-color: white;position: relative;}#sk-container-id-23 div.sk-item::before, #sk-container-id-23 div.sk-parallel-item::before {content: \"\";position: absolute;border-left: 1px solid gray;box-sizing: border-box;top: 0;bottom: 0;left: 50%;z-index: -1;}#sk-container-id-23 div.sk-parallel-item {display: flex;flex-direction: column;z-index: 1;position: relative;background-color: white;}#sk-container-id-23 div.sk-parallel-item:first-child::after {align-self: flex-end;width: 50%;}#sk-container-id-23 div.sk-parallel-item:last-child::after {align-self: flex-start;width: 50%;}#sk-container-id-23 div.sk-parallel-item:only-child::after {width: 0;}#sk-container-id-23 div.sk-dashed-wrapped {border: 1px dashed gray;margin: 0 0.4em 0.5em 0.4em;box-sizing: border-box;padding-bottom: 0.4em;background-color: white;}#sk-container-id-23 div.sk-label label {font-family: monospace;font-weight: bold;display: inline-block;line-height: 1.2em;}#sk-container-id-23 div.sk-label-container {text-align: center;}#sk-container-id-23 div.sk-container {/* jupyter's `normalize.less` sets `[hidden] { display: none; }` but bootstrap.min.css set `[hidden] { display: none !important; }` so we also need the `!important` here to be able to override the default hidden behavior on the sphinx rendered scikit-learn.org. See: https://github.com/scikit-learn/scikit-learn/issues/21755 */display: inline-block !important;position: relative;}#sk-container-id-23 div.sk-text-repr-fallback {display: none;}</style><div id=\"sk-container-id-23\" class=\"sk-top-container\"><div class=\"sk-text-repr-fallback\"><pre>Pipeline(steps=[(&#x27;preprocessing&#x27;,\n",
       "                 ColumnTransformer(transformers=[(&#x27;dummify&#x27;,\n",
       "                                                  OneHotEncoder(drop=&#x27;first&#x27;,\n",
       "                                                                handle_unknown=&#x27;ignore&#x27;,\n",
       "                                                                sparse_output=False),\n",
       "                                                  [&#x27;sex&#x27;, &#x27;cp&#x27;, &#x27;restecg&#x27;]),\n",
       "                                                 (&#x27;standardize&#x27;,\n",
       "                                                  StandardScaler(),\n",
       "                                                  &lt;sklearn.compose._column_transformer.make_column_selector object at 0x16b0bc8d0&gt;)])),\n",
       "                (&#x27;KNN&#x27;, KNeighborsClassifier(n_neighbors=22))])</pre><b>In a Jupyter environment, please rerun this cell to show the HTML representation or trust the notebook. <br />On GitHub, the HTML representation is unable to render, please try loading this page with nbviewer.org.</b></div><div class=\"sk-container\" hidden><div class=\"sk-item sk-dashed-wrapped\"><div class=\"sk-label-container\"><div class=\"sk-label sk-toggleable\"><input class=\"sk-toggleable__control sk-hidden--visually\" id=\"sk-estimator-id-155\" type=\"checkbox\" ><label for=\"sk-estimator-id-155\" class=\"sk-toggleable__label sk-toggleable__label-arrow\">Pipeline</label><div class=\"sk-toggleable__content\"><pre>Pipeline(steps=[(&#x27;preprocessing&#x27;,\n",
       "                 ColumnTransformer(transformers=[(&#x27;dummify&#x27;,\n",
       "                                                  OneHotEncoder(drop=&#x27;first&#x27;,\n",
       "                                                                handle_unknown=&#x27;ignore&#x27;,\n",
       "                                                                sparse_output=False),\n",
       "                                                  [&#x27;sex&#x27;, &#x27;cp&#x27;, &#x27;restecg&#x27;]),\n",
       "                                                 (&#x27;standardize&#x27;,\n",
       "                                                  StandardScaler(),\n",
       "                                                  &lt;sklearn.compose._column_transformer.make_column_selector object at 0x16b0bc8d0&gt;)])),\n",
       "                (&#x27;KNN&#x27;, KNeighborsClassifier(n_neighbors=22))])</pre></div></div></div><div class=\"sk-serial\"><div class=\"sk-item sk-dashed-wrapped\"><div class=\"sk-label-container\"><div class=\"sk-label sk-toggleable\"><input class=\"sk-toggleable__control sk-hidden--visually\" id=\"sk-estimator-id-156\" type=\"checkbox\" ><label for=\"sk-estimator-id-156\" class=\"sk-toggleable__label sk-toggleable__label-arrow\">preprocessing: ColumnTransformer</label><div class=\"sk-toggleable__content\"><pre>ColumnTransformer(transformers=[(&#x27;dummify&#x27;,\n",
       "                                 OneHotEncoder(drop=&#x27;first&#x27;,\n",
       "                                               handle_unknown=&#x27;ignore&#x27;,\n",
       "                                               sparse_output=False),\n",
       "                                 [&#x27;sex&#x27;, &#x27;cp&#x27;, &#x27;restecg&#x27;]),\n",
       "                                (&#x27;standardize&#x27;, StandardScaler(),\n",
       "                                 &lt;sklearn.compose._column_transformer.make_column_selector object at 0x16b0bc8d0&gt;)])</pre></div></div></div><div class=\"sk-parallel\"><div class=\"sk-parallel-item\"><div class=\"sk-item\"><div class=\"sk-label-container\"><div class=\"sk-label sk-toggleable\"><input class=\"sk-toggleable__control sk-hidden--visually\" id=\"sk-estimator-id-157\" type=\"checkbox\" ><label for=\"sk-estimator-id-157\" class=\"sk-toggleable__label sk-toggleable__label-arrow\">dummify</label><div class=\"sk-toggleable__content\"><pre>[&#x27;sex&#x27;, &#x27;cp&#x27;, &#x27;restecg&#x27;]</pre></div></div></div><div class=\"sk-serial\"><div class=\"sk-item\"><div class=\"sk-estimator sk-toggleable\"><input class=\"sk-toggleable__control sk-hidden--visually\" id=\"sk-estimator-id-158\" type=\"checkbox\" ><label for=\"sk-estimator-id-158\" class=\"sk-toggleable__label sk-toggleable__label-arrow\">OneHotEncoder</label><div class=\"sk-toggleable__content\"><pre>OneHotEncoder(drop=&#x27;first&#x27;, handle_unknown=&#x27;ignore&#x27;, sparse_output=False)</pre></div></div></div></div></div></div><div class=\"sk-parallel-item\"><div class=\"sk-item\"><div class=\"sk-label-container\"><div class=\"sk-label sk-toggleable\"><input class=\"sk-toggleable__control sk-hidden--visually\" id=\"sk-estimator-id-159\" type=\"checkbox\" ><label for=\"sk-estimator-id-159\" class=\"sk-toggleable__label sk-toggleable__label-arrow\">standardize</label><div class=\"sk-toggleable__content\"><pre>&lt;sklearn.compose._column_transformer.make_column_selector object at 0x16b0bc8d0&gt;</pre></div></div></div><div class=\"sk-serial\"><div class=\"sk-item\"><div class=\"sk-estimator sk-toggleable\"><input class=\"sk-toggleable__control sk-hidden--visually\" id=\"sk-estimator-id-160\" type=\"checkbox\" ><label for=\"sk-estimator-id-160\" class=\"sk-toggleable__label sk-toggleable__label-arrow\">StandardScaler</label><div class=\"sk-toggleable__content\"><pre>StandardScaler()</pre></div></div></div></div></div></div></div></div><div class=\"sk-item\"><div class=\"sk-estimator sk-toggleable\"><input class=\"sk-toggleable__control sk-hidden--visually\" id=\"sk-estimator-id-161\" type=\"checkbox\" ><label for=\"sk-estimator-id-161\" class=\"sk-toggleable__label sk-toggleable__label-arrow\">KNeighborsClassifier</label><div class=\"sk-toggleable__content\"><pre>KNeighborsClassifier(n_neighbors=22)</pre></div></div></div></div></div></div></div>"
      ],
      "text/plain": [
       "Pipeline(steps=[('preprocessing',\n",
       "                 ColumnTransformer(transformers=[('dummify',\n",
       "                                                  OneHotEncoder(drop='first',\n",
       "                                                                handle_unknown='ignore',\n",
       "                                                                sparse_output=False),\n",
       "                                                  ['sex', 'cp', 'restecg']),\n",
       "                                                 ('standardize',\n",
       "                                                  StandardScaler(),\n",
       "                                                  <sklearn.compose._column_transformer.make_column_selector object at 0x16b0bc8d0>)])),\n",
       "                ('KNN', KNeighborsClassifier(n_neighbors=22))])"
      ]
     },
     "execution_count": 249,
     "metadata": {},
     "output_type": "execute_result"
    }
   ],
   "source": [
    "ct = ColumnTransformer(\n",
    "    [\n",
    "        (\"dummify\", OneHotEncoder(sparse_output=False, handle_unknown='ignore', drop=\"first\"), [\"sex\", \"cp\", \"restecg\"]),\n",
    "        (\"standardize\", StandardScaler(), make_column_selector(dtype_include=np.number))\n",
    "    ]\n",
    ")\n",
    "\n",
    "my_pipeline = Pipeline(\n",
    "    [\n",
    "        (\"preprocessing\", ct),\n",
    "        (\"KNN\", KNeighborsClassifier())\n",
    "    ]\n",
    ")\n",
    "\n",
    "alphas = {\"KNN__n_neighbors\": list(range(1, 25))}\n",
    "\n",
    "gscv = GridSearchCV(my_pipeline, alphas, cv = 5, scoring='roc_auc')\n",
    "gscv_fitted = gscv.fit(X, y)\n",
    "test_scores = gscv_fitted.cv_results_[\"mean_test_score\"]\n",
    "gscv_fitted.best_estimator_"
   ]
  },
  {
   "cell_type": "code",
   "execution_count": 125,
   "id": "071f6cc1-4f45-4222-a372-0c5904db0a27",
   "metadata": {
    "tags": []
   },
   "outputs": [
    {
     "name": "stdout",
     "output_type": "stream",
     "text": [
      "Average ROC AUC across 25 cross validations: 0.6469249631594459\n",
      "This is a score that is significantly better than random guesses.\n"
     ]
    }
   ],
   "source": [
    "print(f\"Average ROC AUC across 25 cross validations: {np.mean(test_scores)}\\nThis is a score that is significantly better than random guesses.\")"
   ]
  },
  {
   "cell_type": "code",
   "execution_count": 251,
   "id": "a3068acc-9c7b-4241-9ffe-2ac50da852c6",
   "metadata": {
    "tags": []
   },
   "outputs": [],
   "source": [
    "my_pipeline = Pipeline(\n",
    "    [\n",
    "        (\"preprocessing\", ct),\n",
    "        (\"KNN\", KNeighborsClassifier(n_neighbors=22))\n",
    "    ]\n",
    ")\n",
    "\n",
    "fitted_pipeline = my_pipeline.fit(X_train, y_train)\n",
    "\n",
    "y_pred = fitted_pipeline.predict(X_test)\n",
    "\n",
    "cm = confusion_matrix(y_true = y_test, y_pred = y_pred)\n",
    "\n",
    "cm_df = pd.DataFrame(cm, index=['Actual No Risk', 'Actual Risk'], columns=['Predicted No Risk', 'Predicted Risk'])\n",
    "\n",
    "y_prob = fitted_pipeline.predict_proba(X_test)[:, 1]\n",
    "fpr_knn, tpr_knn, thresholds = roc_curve(y_test, y_prob)"
   ]
  },
  {
   "cell_type": "code",
   "execution_count": 97,
   "id": "ca8b3bba-b653-4778-aff6-a6422a4c22d3",
   "metadata": {
    "tags": []
   },
   "outputs": [
    {
     "data": {
      "text/html": [
       "<div>\n",
       "<style scoped>\n",
       "    .dataframe tbody tr th:only-of-type {\n",
       "        vertical-align: middle;\n",
       "    }\n",
       "\n",
       "    .dataframe tbody tr th {\n",
       "        vertical-align: top;\n",
       "    }\n",
       "\n",
       "    .dataframe thead th {\n",
       "        text-align: right;\n",
       "    }\n",
       "</style>\n",
       "<table border=\"1\" class=\"dataframe\">\n",
       "  <thead>\n",
       "    <tr style=\"text-align: right;\">\n",
       "      <th></th>\n",
       "      <th>Predicted No Risk</th>\n",
       "      <th>Predicted Risk</th>\n",
       "    </tr>\n",
       "  </thead>\n",
       "  <tbody>\n",
       "    <tr>\n",
       "      <th>Actual No Risk</th>\n",
       "      <td>24</td>\n",
       "      <td>7</td>\n",
       "    </tr>\n",
       "    <tr>\n",
       "      <th>Actual Risk</th>\n",
       "      <td>9</td>\n",
       "      <td>29</td>\n",
       "    </tr>\n",
       "  </tbody>\n",
       "</table>\n",
       "</div>"
      ],
      "text/plain": [
       "                Predicted No Risk  Predicted Risk\n",
       "Actual No Risk                 24               7\n",
       "Actual Risk                     9              29"
      ]
     },
     "execution_count": 97,
     "metadata": {},
     "output_type": "execute_result"
    }
   ],
   "source": [
    "cm_df"
   ]
  },
  {
   "cell_type": "markdown",
   "id": "28bf1b13-1e16-402c-a394-bea8bd5363d5",
   "metadata": {
    "tags": []
   },
   "source": [
    "#### 2.1 KNN Metrics"
   ]
  },
  {
   "cell_type": "code",
   "execution_count": 253,
   "id": "244ccf8e-d4a9-4028-9066-d712e2fe76c1",
   "metadata": {
    "tags": []
   },
   "outputs": [
    {
     "name": "stdout",
     "output_type": "stream",
     "text": [
      "Recall Score: 0.7368421052631579 \n",
      "Precision Score: 0.717948717948718 \n",
      "Specificity Score: 0.6451612903225806 \n",
      "F1 Score: 0.7272727272727273\n"
     ]
    }
   ],
   "source": [
    "rec = recall_score(y_true = y_test, y_pred = y_pred)\n",
    "prec = precision_score(y_true = y_test, y_pred = y_pred)\n",
    "f1 = f1_score(y_true = y_test, y_pred = y_pred)\n",
    "kappa_knn = cohen_kappa_score(y_test, y_pred)\n",
    "tn, fp, fn, tp = cm.ravel()\n",
    "spec = tn / (tn + fp)\n",
    "print(f\"Recall Score: {rec} \\nPrecision Score: {prec} \\nSpecificity Score: {spec} \\nF1 Score: {f1}\")"
   ]
  },
  {
   "cell_type": "markdown",
   "id": "ed7a1c1d-154a-4749-a110-4516d9be7acb",
   "metadata": {},
   "source": [
    "#### 1.2 Logistic Regression"
   ]
  },
  {
   "cell_type": "code",
   "execution_count": 133,
   "id": "826449cf-7f97-4704-8659-d04e8b111a35",
   "metadata": {
    "tags": []
   },
   "outputs": [
    {
     "data": {
      "text/html": [
       "<style>#sk-container-id-21 {color: black;}#sk-container-id-21 pre{padding: 0;}#sk-container-id-21 div.sk-toggleable {background-color: white;}#sk-container-id-21 label.sk-toggleable__label {cursor: pointer;display: block;width: 100%;margin-bottom: 0;padding: 0.3em;box-sizing: border-box;text-align: center;}#sk-container-id-21 label.sk-toggleable__label-arrow:before {content: \"▸\";float: left;margin-right: 0.25em;color: #696969;}#sk-container-id-21 label.sk-toggleable__label-arrow:hover:before {color: black;}#sk-container-id-21 div.sk-estimator:hover label.sk-toggleable__label-arrow:before {color: black;}#sk-container-id-21 div.sk-toggleable__content {max-height: 0;max-width: 0;overflow: hidden;text-align: left;background-color: #f0f8ff;}#sk-container-id-21 div.sk-toggleable__content pre {margin: 0.2em;color: black;border-radius: 0.25em;background-color: #f0f8ff;}#sk-container-id-21 input.sk-toggleable__control:checked~div.sk-toggleable__content {max-height: 200px;max-width: 100%;overflow: auto;}#sk-container-id-21 input.sk-toggleable__control:checked~label.sk-toggleable__label-arrow:before {content: \"▾\";}#sk-container-id-21 div.sk-estimator input.sk-toggleable__control:checked~label.sk-toggleable__label {background-color: #d4ebff;}#sk-container-id-21 div.sk-label input.sk-toggleable__control:checked~label.sk-toggleable__label {background-color: #d4ebff;}#sk-container-id-21 input.sk-hidden--visually {border: 0;clip: rect(1px 1px 1px 1px);clip: rect(1px, 1px, 1px, 1px);height: 1px;margin: -1px;overflow: hidden;padding: 0;position: absolute;width: 1px;}#sk-container-id-21 div.sk-estimator {font-family: monospace;background-color: #f0f8ff;border: 1px dotted black;border-radius: 0.25em;box-sizing: border-box;margin-bottom: 0.5em;}#sk-container-id-21 div.sk-estimator:hover {background-color: #d4ebff;}#sk-container-id-21 div.sk-parallel-item::after {content: \"\";width: 100%;border-bottom: 1px solid gray;flex-grow: 1;}#sk-container-id-21 div.sk-label:hover label.sk-toggleable__label {background-color: #d4ebff;}#sk-container-id-21 div.sk-serial::before {content: \"\";position: absolute;border-left: 1px solid gray;box-sizing: border-box;top: 0;bottom: 0;left: 50%;z-index: 0;}#sk-container-id-21 div.sk-serial {display: flex;flex-direction: column;align-items: center;background-color: white;padding-right: 0.2em;padding-left: 0.2em;position: relative;}#sk-container-id-21 div.sk-item {position: relative;z-index: 1;}#sk-container-id-21 div.sk-parallel {display: flex;align-items: stretch;justify-content: center;background-color: white;position: relative;}#sk-container-id-21 div.sk-item::before, #sk-container-id-21 div.sk-parallel-item::before {content: \"\";position: absolute;border-left: 1px solid gray;box-sizing: border-box;top: 0;bottom: 0;left: 50%;z-index: -1;}#sk-container-id-21 div.sk-parallel-item {display: flex;flex-direction: column;z-index: 1;position: relative;background-color: white;}#sk-container-id-21 div.sk-parallel-item:first-child::after {align-self: flex-end;width: 50%;}#sk-container-id-21 div.sk-parallel-item:last-child::after {align-self: flex-start;width: 50%;}#sk-container-id-21 div.sk-parallel-item:only-child::after {width: 0;}#sk-container-id-21 div.sk-dashed-wrapped {border: 1px dashed gray;margin: 0 0.4em 0.5em 0.4em;box-sizing: border-box;padding-bottom: 0.4em;background-color: white;}#sk-container-id-21 div.sk-label label {font-family: monospace;font-weight: bold;display: inline-block;line-height: 1.2em;}#sk-container-id-21 div.sk-label-container {text-align: center;}#sk-container-id-21 div.sk-container {/* jupyter's `normalize.less` sets `[hidden] { display: none; }` but bootstrap.min.css set `[hidden] { display: none !important; }` so we also need the `!important` here to be able to override the default hidden behavior on the sphinx rendered scikit-learn.org. See: https://github.com/scikit-learn/scikit-learn/issues/21755 */display: inline-block !important;position: relative;}#sk-container-id-21 div.sk-text-repr-fallback {display: none;}</style><div id=\"sk-container-id-21\" class=\"sk-top-container\"><div class=\"sk-text-repr-fallback\"><pre>Pipeline(steps=[(&#x27;preprocessing&#x27;,\n",
       "                 ColumnTransformer(transformers=[(&#x27;dummify&#x27;,\n",
       "                                                  OneHotEncoder(drop=&#x27;first&#x27;,\n",
       "                                                                handle_unknown=&#x27;ignore&#x27;,\n",
       "                                                                sparse_output=False),\n",
       "                                                  [&#x27;sex&#x27;, &#x27;cp&#x27;, &#x27;restecg&#x27;]),\n",
       "                                                 (&#x27;standardize&#x27;,\n",
       "                                                  StandardScaler(),\n",
       "                                                  &lt;sklearn.compose._column_transformer.make_column_selector object at 0x16abfd310&gt;)])),\n",
       "                (&#x27;Logistic Regression&#x27;,\n",
       "                 LogisticRegression(C=5, l1_ratio=0.001, max_iter=1000,\n",
       "                                    penalty=&#x27;elasticnet&#x27;, solver=&#x27;saga&#x27;))])</pre><b>In a Jupyter environment, please rerun this cell to show the HTML representation or trust the notebook. <br />On GitHub, the HTML representation is unable to render, please try loading this page with nbviewer.org.</b></div><div class=\"sk-container\" hidden><div class=\"sk-item sk-dashed-wrapped\"><div class=\"sk-label-container\"><div class=\"sk-label sk-toggleable\"><input class=\"sk-toggleable__control sk-hidden--visually\" id=\"sk-estimator-id-141\" type=\"checkbox\" ><label for=\"sk-estimator-id-141\" class=\"sk-toggleable__label sk-toggleable__label-arrow\">Pipeline</label><div class=\"sk-toggleable__content\"><pre>Pipeline(steps=[(&#x27;preprocessing&#x27;,\n",
       "                 ColumnTransformer(transformers=[(&#x27;dummify&#x27;,\n",
       "                                                  OneHotEncoder(drop=&#x27;first&#x27;,\n",
       "                                                                handle_unknown=&#x27;ignore&#x27;,\n",
       "                                                                sparse_output=False),\n",
       "                                                  [&#x27;sex&#x27;, &#x27;cp&#x27;, &#x27;restecg&#x27;]),\n",
       "                                                 (&#x27;standardize&#x27;,\n",
       "                                                  StandardScaler(),\n",
       "                                                  &lt;sklearn.compose._column_transformer.make_column_selector object at 0x16abfd310&gt;)])),\n",
       "                (&#x27;Logistic Regression&#x27;,\n",
       "                 LogisticRegression(C=5, l1_ratio=0.001, max_iter=1000,\n",
       "                                    penalty=&#x27;elasticnet&#x27;, solver=&#x27;saga&#x27;))])</pre></div></div></div><div class=\"sk-serial\"><div class=\"sk-item sk-dashed-wrapped\"><div class=\"sk-label-container\"><div class=\"sk-label sk-toggleable\"><input class=\"sk-toggleable__control sk-hidden--visually\" id=\"sk-estimator-id-142\" type=\"checkbox\" ><label for=\"sk-estimator-id-142\" class=\"sk-toggleable__label sk-toggleable__label-arrow\">preprocessing: ColumnTransformer</label><div class=\"sk-toggleable__content\"><pre>ColumnTransformer(transformers=[(&#x27;dummify&#x27;,\n",
       "                                 OneHotEncoder(drop=&#x27;first&#x27;,\n",
       "                                               handle_unknown=&#x27;ignore&#x27;,\n",
       "                                               sparse_output=False),\n",
       "                                 [&#x27;sex&#x27;, &#x27;cp&#x27;, &#x27;restecg&#x27;]),\n",
       "                                (&#x27;standardize&#x27;, StandardScaler(),\n",
       "                                 &lt;sklearn.compose._column_transformer.make_column_selector object at 0x16abfd310&gt;)])</pre></div></div></div><div class=\"sk-parallel\"><div class=\"sk-parallel-item\"><div class=\"sk-item\"><div class=\"sk-label-container\"><div class=\"sk-label sk-toggleable\"><input class=\"sk-toggleable__control sk-hidden--visually\" id=\"sk-estimator-id-143\" type=\"checkbox\" ><label for=\"sk-estimator-id-143\" class=\"sk-toggleable__label sk-toggleable__label-arrow\">dummify</label><div class=\"sk-toggleable__content\"><pre>[&#x27;sex&#x27;, &#x27;cp&#x27;, &#x27;restecg&#x27;]</pre></div></div></div><div class=\"sk-serial\"><div class=\"sk-item\"><div class=\"sk-estimator sk-toggleable\"><input class=\"sk-toggleable__control sk-hidden--visually\" id=\"sk-estimator-id-144\" type=\"checkbox\" ><label for=\"sk-estimator-id-144\" class=\"sk-toggleable__label sk-toggleable__label-arrow\">OneHotEncoder</label><div class=\"sk-toggleable__content\"><pre>OneHotEncoder(drop=&#x27;first&#x27;, handle_unknown=&#x27;ignore&#x27;, sparse_output=False)</pre></div></div></div></div></div></div><div class=\"sk-parallel-item\"><div class=\"sk-item\"><div class=\"sk-label-container\"><div class=\"sk-label sk-toggleable\"><input class=\"sk-toggleable__control sk-hidden--visually\" id=\"sk-estimator-id-145\" type=\"checkbox\" ><label for=\"sk-estimator-id-145\" class=\"sk-toggleable__label sk-toggleable__label-arrow\">standardize</label><div class=\"sk-toggleable__content\"><pre>&lt;sklearn.compose._column_transformer.make_column_selector object at 0x16abfd310&gt;</pre></div></div></div><div class=\"sk-serial\"><div class=\"sk-item\"><div class=\"sk-estimator sk-toggleable\"><input class=\"sk-toggleable__control sk-hidden--visually\" id=\"sk-estimator-id-146\" type=\"checkbox\" ><label for=\"sk-estimator-id-146\" class=\"sk-toggleable__label sk-toggleable__label-arrow\">StandardScaler</label><div class=\"sk-toggleable__content\"><pre>StandardScaler()</pre></div></div></div></div></div></div></div></div><div class=\"sk-item\"><div class=\"sk-estimator sk-toggleable\"><input class=\"sk-toggleable__control sk-hidden--visually\" id=\"sk-estimator-id-147\" type=\"checkbox\" ><label for=\"sk-estimator-id-147\" class=\"sk-toggleable__label sk-toggleable__label-arrow\">LogisticRegression</label><div class=\"sk-toggleable__content\"><pre>LogisticRegression(C=5, l1_ratio=0.001, max_iter=1000, penalty=&#x27;elasticnet&#x27;,\n",
       "                   solver=&#x27;saga&#x27;)</pre></div></div></div></div></div></div></div>"
      ],
      "text/plain": [
       "Pipeline(steps=[('preprocessing',\n",
       "                 ColumnTransformer(transformers=[('dummify',\n",
       "                                                  OneHotEncoder(drop='first',\n",
       "                                                                handle_unknown='ignore',\n",
       "                                                                sparse_output=False),\n",
       "                                                  ['sex', 'cp', 'restecg']),\n",
       "                                                 ('standardize',\n",
       "                                                  StandardScaler(),\n",
       "                                                  <sklearn.compose._column_transformer.make_column_selector object at 0x16abfd310>)])),\n",
       "                ('Logistic Regression',\n",
       "                 LogisticRegression(C=5, l1_ratio=0.001, max_iter=1000,\n",
       "                                    penalty='elasticnet', solver='saga'))])"
      ]
     },
     "execution_count": 133,
     "metadata": {},
     "output_type": "execute_result"
    }
   ],
   "source": [
    "my_pipeline = Pipeline(\n",
    "    [\n",
    "        (\"preprocessing\", ct),\n",
    "        (\"Logistic Regression\", LogisticRegression(solver=\"saga\", max_iter=1000))\n",
    "    ]\n",
    ")\n",
    "\n",
    "alphas = {\n",
    "    \"Logistic Regression__penalty\": [\"elasticnet\"],\n",
    "    \"Logistic Regression__l1_ratio\": [.0001, .001, .01, .1, 1],\n",
    "    \"Logistic Regression__C\": list(range(1, 10))\n",
    "}\n",
    "\n",
    "gscv = GridSearchCV(my_pipeline, alphas, cv = 5, scoring='roc_auc')\n",
    "gscv_fitted = gscv.fit(X, y)\n",
    "test_scores = gscv_fitted.cv_results_[\"mean_test_score\"]\n",
    "gscv_fitted.best_estimator_"
   ]
  },
  {
   "cell_type": "code",
   "execution_count": 134,
   "id": "a7750573-e48f-4e56-add8-a8aae322c236",
   "metadata": {
    "tags": []
   },
   "outputs": [
    {
     "name": "stdout",
     "output_type": "stream",
     "text": [
      "Average ROC AUC across 25 cross validations: 0.8634054582964927\n",
      "This is a score that is significantly better than random guesses.\n"
     ]
    }
   ],
   "source": [
    "print(f\"Average ROC AUC across 25 cross validations: {np.mean(test_scores)}\\nThis is a score that is significantly better than random guesses.\")"
   ]
  },
  {
   "cell_type": "code",
   "execution_count": 254,
   "id": "67d5c118-0780-4e5b-8368-8b7ba032af6f",
   "metadata": {
    "tags": []
   },
   "outputs": [],
   "source": [
    "my_pipeline = Pipeline(\n",
    "    [\n",
    "        (\"preprocessing\", ct),\n",
    "        (\"Logistic Regression\", LogisticRegression(solver=\"saga\", C=5, l1_ratio=.001, penalty = \"elasticnet\", max_iter = 1000))\n",
    "    ]\n",
    ")\n",
    "\n",
    "fitted_pipeline = my_pipeline.fit(X_train, y_train)\n",
    "\n",
    "y_pred = fitted_pipeline.predict(X_test)\n",
    "\n",
    "cm = confusion_matrix(y_true = y_test, y_pred = y_pred)\n",
    "\n",
    "cm_df = pd.DataFrame(cm, index=['Actual No Risk', 'Actual Risk'], columns=['Predicted No Risk', 'Predicted Risk'])\n",
    "\n",
    "y_prob = fitted_pipeline.predict_proba(X_test)[:, 1]\n",
    "fpr_logis, tpr_logis, thresholds = roc_curve(y_test, y_prob)"
   ]
  },
  {
   "cell_type": "code",
   "execution_count": 92,
   "id": "9461304e-1c02-4ca3-ae2a-794787442444",
   "metadata": {
    "tags": []
   },
   "outputs": [
    {
     "data": {
      "text/html": [
       "<div>\n",
       "<style scoped>\n",
       "    .dataframe tbody tr th:only-of-type {\n",
       "        vertical-align: middle;\n",
       "    }\n",
       "\n",
       "    .dataframe tbody tr th {\n",
       "        vertical-align: top;\n",
       "    }\n",
       "\n",
       "    .dataframe thead th {\n",
       "        text-align: right;\n",
       "    }\n",
       "</style>\n",
       "<table border=\"1\" class=\"dataframe\">\n",
       "  <thead>\n",
       "    <tr style=\"text-align: right;\">\n",
       "      <th></th>\n",
       "      <th>Predicted No Risk</th>\n",
       "      <th>Predicted Risk</th>\n",
       "    </tr>\n",
       "  </thead>\n",
       "  <tbody>\n",
       "    <tr>\n",
       "      <th>Actual No Risk</th>\n",
       "      <td>26</td>\n",
       "      <td>5</td>\n",
       "    </tr>\n",
       "    <tr>\n",
       "      <th>Actual Risk</th>\n",
       "      <td>7</td>\n",
       "      <td>31</td>\n",
       "    </tr>\n",
       "  </tbody>\n",
       "</table>\n",
       "</div>"
      ],
      "text/plain": [
       "                Predicted No Risk  Predicted Risk\n",
       "Actual No Risk                 26               5\n",
       "Actual Risk                     7              31"
      ]
     },
     "execution_count": 92,
     "metadata": {},
     "output_type": "execute_result"
    }
   ],
   "source": [
    "cm_df"
   ]
  },
  {
   "cell_type": "code",
   "execution_count": 100,
   "id": "36049376-519d-41a7-aca9-71203109a11c",
   "metadata": {
    "tags": []
   },
   "outputs": [
    {
     "data": {
      "text/plain": [
       "{'trtbps': -0.6128300343465976,\n",
       " 'age': -0.3508237686611326,\n",
       " 'restecg': -0.2551513282898318,\n",
       " 'thalach': -0.19112777677485696,\n",
       " 'chol': 0.42861417012637526,\n",
       " 'cp': 0.617888314032257,\n",
       " 'sex': 1.288210459447763}"
      ]
     },
     "execution_count": 100,
     "metadata": {},
     "output_type": "execute_result"
    }
   ],
   "source": [
    "# Interpret Coefficients \n",
    "coefs = fitted_pipeline.named_steps[\"Logistic Regression\"].coef_[0]\n",
    "coefs = dict(zip(X.columns, coefs))\n",
    "sorted_coef = dict(sorted(coefs.items(), key=lambda item: item[1]))\n",
    "sorted_coef"
   ]
  },
  {
   "cell_type": "markdown",
   "id": "3a27f00e-4371-4167-8d7e-eabff311da47",
   "metadata": {},
   "source": [
    "Examining the coefficients from the logistic regression, we see that the most influential variables for predicting the likelihood of a person experiencing an exercise-induced heart attack are the sex of the person, the type of chest pain, and the resting blood pressure."
   ]
  },
  {
   "cell_type": "markdown",
   "id": "c1a0bca4-7ae8-43da-aca4-b206af481f10",
   "metadata": {},
   "source": [
    "2.2 Logistic Regression Metrics"
   ]
  },
  {
   "cell_type": "code",
   "execution_count": 255,
   "id": "242d110e-5e9e-4b94-bd6e-6f280fdf06b7",
   "metadata": {
    "tags": []
   },
   "outputs": [
    {
     "name": "stdout",
     "output_type": "stream",
     "text": [
      "Recall Score: 0.7631578947368421 \n",
      "Precision Score: 0.7073170731707317 \n",
      "Specificity Score: 0.6129032258064516 \n",
      "F1 Score: 0.7341772151898733\n"
     ]
    }
   ],
   "source": [
    "rec = recall_score(y_true = y_test, y_pred = y_pred)\n",
    "prec = precision_score(y_true = y_test, y_pred = y_pred)\n",
    "f1 = f1_score(y_true = y_test, y_pred = y_pred)\n",
    "kappa_logistic = cohen_kappa_score(y_test, y_pred)\n",
    "tn, fp, fn, tp = cm.ravel()\n",
    "spec = tn / (tn + fp)\n",
    "print(f\"Recall Score: {rec} \\nPrecision Score: {prec} \\nSpecificity Score: {spec} \\nF1 Score: {f1}\")"
   ]
  },
  {
   "cell_type": "markdown",
   "id": "c7783e52-e8bd-4102-b7d0-966d614fb307",
   "metadata": {
    "tags": []
   },
   "source": [
    "#### 1.3 Decision Tree"
   ]
  },
  {
   "cell_type": "code",
   "execution_count": 136,
   "id": "f309d716-cbff-4b95-9711-85d1654adc38",
   "metadata": {
    "tags": []
   },
   "outputs": [
    {
     "data": {
      "text/html": [
       "<style>#sk-container-id-22 {color: black;}#sk-container-id-22 pre{padding: 0;}#sk-container-id-22 div.sk-toggleable {background-color: white;}#sk-container-id-22 label.sk-toggleable__label {cursor: pointer;display: block;width: 100%;margin-bottom: 0;padding: 0.3em;box-sizing: border-box;text-align: center;}#sk-container-id-22 label.sk-toggleable__label-arrow:before {content: \"▸\";float: left;margin-right: 0.25em;color: #696969;}#sk-container-id-22 label.sk-toggleable__label-arrow:hover:before {color: black;}#sk-container-id-22 div.sk-estimator:hover label.sk-toggleable__label-arrow:before {color: black;}#sk-container-id-22 div.sk-toggleable__content {max-height: 0;max-width: 0;overflow: hidden;text-align: left;background-color: #f0f8ff;}#sk-container-id-22 div.sk-toggleable__content pre {margin: 0.2em;color: black;border-radius: 0.25em;background-color: #f0f8ff;}#sk-container-id-22 input.sk-toggleable__control:checked~div.sk-toggleable__content {max-height: 200px;max-width: 100%;overflow: auto;}#sk-container-id-22 input.sk-toggleable__control:checked~label.sk-toggleable__label-arrow:before {content: \"▾\";}#sk-container-id-22 div.sk-estimator input.sk-toggleable__control:checked~label.sk-toggleable__label {background-color: #d4ebff;}#sk-container-id-22 div.sk-label input.sk-toggleable__control:checked~label.sk-toggleable__label {background-color: #d4ebff;}#sk-container-id-22 input.sk-hidden--visually {border: 0;clip: rect(1px 1px 1px 1px);clip: rect(1px, 1px, 1px, 1px);height: 1px;margin: -1px;overflow: hidden;padding: 0;position: absolute;width: 1px;}#sk-container-id-22 div.sk-estimator {font-family: monospace;background-color: #f0f8ff;border: 1px dotted black;border-radius: 0.25em;box-sizing: border-box;margin-bottom: 0.5em;}#sk-container-id-22 div.sk-estimator:hover {background-color: #d4ebff;}#sk-container-id-22 div.sk-parallel-item::after {content: \"\";width: 100%;border-bottom: 1px solid gray;flex-grow: 1;}#sk-container-id-22 div.sk-label:hover label.sk-toggleable__label {background-color: #d4ebff;}#sk-container-id-22 div.sk-serial::before {content: \"\";position: absolute;border-left: 1px solid gray;box-sizing: border-box;top: 0;bottom: 0;left: 50%;z-index: 0;}#sk-container-id-22 div.sk-serial {display: flex;flex-direction: column;align-items: center;background-color: white;padding-right: 0.2em;padding-left: 0.2em;position: relative;}#sk-container-id-22 div.sk-item {position: relative;z-index: 1;}#sk-container-id-22 div.sk-parallel {display: flex;align-items: stretch;justify-content: center;background-color: white;position: relative;}#sk-container-id-22 div.sk-item::before, #sk-container-id-22 div.sk-parallel-item::before {content: \"\";position: absolute;border-left: 1px solid gray;box-sizing: border-box;top: 0;bottom: 0;left: 50%;z-index: -1;}#sk-container-id-22 div.sk-parallel-item {display: flex;flex-direction: column;z-index: 1;position: relative;background-color: white;}#sk-container-id-22 div.sk-parallel-item:first-child::after {align-self: flex-end;width: 50%;}#sk-container-id-22 div.sk-parallel-item:last-child::after {align-self: flex-start;width: 50%;}#sk-container-id-22 div.sk-parallel-item:only-child::after {width: 0;}#sk-container-id-22 div.sk-dashed-wrapped {border: 1px dashed gray;margin: 0 0.4em 0.5em 0.4em;box-sizing: border-box;padding-bottom: 0.4em;background-color: white;}#sk-container-id-22 div.sk-label label {font-family: monospace;font-weight: bold;display: inline-block;line-height: 1.2em;}#sk-container-id-22 div.sk-label-container {text-align: center;}#sk-container-id-22 div.sk-container {/* jupyter's `normalize.less` sets `[hidden] { display: none; }` but bootstrap.min.css set `[hidden] { display: none !important; }` so we also need the `!important` here to be able to override the default hidden behavior on the sphinx rendered scikit-learn.org. See: https://github.com/scikit-learn/scikit-learn/issues/21755 */display: inline-block !important;position: relative;}#sk-container-id-22 div.sk-text-repr-fallback {display: none;}</style><div id=\"sk-container-id-22\" class=\"sk-top-container\"><div class=\"sk-text-repr-fallback\"><pre>Pipeline(steps=[(&#x27;preprocessing&#x27;,\n",
       "                 ColumnTransformer(transformers=[(&#x27;dummify&#x27;,\n",
       "                                                  OneHotEncoder(drop=&#x27;first&#x27;,\n",
       "                                                                handle_unknown=&#x27;ignore&#x27;,\n",
       "                                                                sparse_output=False),\n",
       "                                                  [&#x27;sex&#x27;, &#x27;cp&#x27;, &#x27;restecg&#x27;]),\n",
       "                                                 (&#x27;standardize&#x27;,\n",
       "                                                  StandardScaler(),\n",
       "                                                  &lt;sklearn.compose._column_transformer.make_column_selector object at 0x1691ea690&gt;)])),\n",
       "                (&#x27;Decision Tree&#x27;, DecisionTreeClassifier(ccp_alpha=0.1))])</pre><b>In a Jupyter environment, please rerun this cell to show the HTML representation or trust the notebook. <br />On GitHub, the HTML representation is unable to render, please try loading this page with nbviewer.org.</b></div><div class=\"sk-container\" hidden><div class=\"sk-item sk-dashed-wrapped\"><div class=\"sk-label-container\"><div class=\"sk-label sk-toggleable\"><input class=\"sk-toggleable__control sk-hidden--visually\" id=\"sk-estimator-id-148\" type=\"checkbox\" ><label for=\"sk-estimator-id-148\" class=\"sk-toggleable__label sk-toggleable__label-arrow\">Pipeline</label><div class=\"sk-toggleable__content\"><pre>Pipeline(steps=[(&#x27;preprocessing&#x27;,\n",
       "                 ColumnTransformer(transformers=[(&#x27;dummify&#x27;,\n",
       "                                                  OneHotEncoder(drop=&#x27;first&#x27;,\n",
       "                                                                handle_unknown=&#x27;ignore&#x27;,\n",
       "                                                                sparse_output=False),\n",
       "                                                  [&#x27;sex&#x27;, &#x27;cp&#x27;, &#x27;restecg&#x27;]),\n",
       "                                                 (&#x27;standardize&#x27;,\n",
       "                                                  StandardScaler(),\n",
       "                                                  &lt;sklearn.compose._column_transformer.make_column_selector object at 0x1691ea690&gt;)])),\n",
       "                (&#x27;Decision Tree&#x27;, DecisionTreeClassifier(ccp_alpha=0.1))])</pre></div></div></div><div class=\"sk-serial\"><div class=\"sk-item sk-dashed-wrapped\"><div class=\"sk-label-container\"><div class=\"sk-label sk-toggleable\"><input class=\"sk-toggleable__control sk-hidden--visually\" id=\"sk-estimator-id-149\" type=\"checkbox\" ><label for=\"sk-estimator-id-149\" class=\"sk-toggleable__label sk-toggleable__label-arrow\">preprocessing: ColumnTransformer</label><div class=\"sk-toggleable__content\"><pre>ColumnTransformer(transformers=[(&#x27;dummify&#x27;,\n",
       "                                 OneHotEncoder(drop=&#x27;first&#x27;,\n",
       "                                               handle_unknown=&#x27;ignore&#x27;,\n",
       "                                               sparse_output=False),\n",
       "                                 [&#x27;sex&#x27;, &#x27;cp&#x27;, &#x27;restecg&#x27;]),\n",
       "                                (&#x27;standardize&#x27;, StandardScaler(),\n",
       "                                 &lt;sklearn.compose._column_transformer.make_column_selector object at 0x1691ea690&gt;)])</pre></div></div></div><div class=\"sk-parallel\"><div class=\"sk-parallel-item\"><div class=\"sk-item\"><div class=\"sk-label-container\"><div class=\"sk-label sk-toggleable\"><input class=\"sk-toggleable__control sk-hidden--visually\" id=\"sk-estimator-id-150\" type=\"checkbox\" ><label for=\"sk-estimator-id-150\" class=\"sk-toggleable__label sk-toggleable__label-arrow\">dummify</label><div class=\"sk-toggleable__content\"><pre>[&#x27;sex&#x27;, &#x27;cp&#x27;, &#x27;restecg&#x27;]</pre></div></div></div><div class=\"sk-serial\"><div class=\"sk-item\"><div class=\"sk-estimator sk-toggleable\"><input class=\"sk-toggleable__control sk-hidden--visually\" id=\"sk-estimator-id-151\" type=\"checkbox\" ><label for=\"sk-estimator-id-151\" class=\"sk-toggleable__label sk-toggleable__label-arrow\">OneHotEncoder</label><div class=\"sk-toggleable__content\"><pre>OneHotEncoder(drop=&#x27;first&#x27;, handle_unknown=&#x27;ignore&#x27;, sparse_output=False)</pre></div></div></div></div></div></div><div class=\"sk-parallel-item\"><div class=\"sk-item\"><div class=\"sk-label-container\"><div class=\"sk-label sk-toggleable\"><input class=\"sk-toggleable__control sk-hidden--visually\" id=\"sk-estimator-id-152\" type=\"checkbox\" ><label for=\"sk-estimator-id-152\" class=\"sk-toggleable__label sk-toggleable__label-arrow\">standardize</label><div class=\"sk-toggleable__content\"><pre>&lt;sklearn.compose._column_transformer.make_column_selector object at 0x1691ea690&gt;</pre></div></div></div><div class=\"sk-serial\"><div class=\"sk-item\"><div class=\"sk-estimator sk-toggleable\"><input class=\"sk-toggleable__control sk-hidden--visually\" id=\"sk-estimator-id-153\" type=\"checkbox\" ><label for=\"sk-estimator-id-153\" class=\"sk-toggleable__label sk-toggleable__label-arrow\">StandardScaler</label><div class=\"sk-toggleable__content\"><pre>StandardScaler()</pre></div></div></div></div></div></div></div></div><div class=\"sk-item\"><div class=\"sk-estimator sk-toggleable\"><input class=\"sk-toggleable__control sk-hidden--visually\" id=\"sk-estimator-id-154\" type=\"checkbox\" ><label for=\"sk-estimator-id-154\" class=\"sk-toggleable__label sk-toggleable__label-arrow\">DecisionTreeClassifier</label><div class=\"sk-toggleable__content\"><pre>DecisionTreeClassifier(ccp_alpha=0.1)</pre></div></div></div></div></div></div></div>"
      ],
      "text/plain": [
       "Pipeline(steps=[('preprocessing',\n",
       "                 ColumnTransformer(transformers=[('dummify',\n",
       "                                                  OneHotEncoder(drop='first',\n",
       "                                                                handle_unknown='ignore',\n",
       "                                                                sparse_output=False),\n",
       "                                                  ['sex', 'cp', 'restecg']),\n",
       "                                                 ('standardize',\n",
       "                                                  StandardScaler(),\n",
       "                                                  <sklearn.compose._column_transformer.make_column_selector object at 0x1691ea690>)])),\n",
       "                ('Decision Tree', DecisionTreeClassifier(ccp_alpha=0.1))])"
      ]
     },
     "execution_count": 136,
     "metadata": {},
     "output_type": "execute_result"
    }
   ],
   "source": [
    "my_pipeline = Pipeline(\n",
    "    [\n",
    "        (\"preprocessing\", ct),\n",
    "        (\"Decision Tree\", DecisionTreeClassifier())\n",
    "    ]\n",
    ")\n",
    "\n",
    "alphas = {\"Decision Tree__ccp_alpha\": [.0001, .001, .01, .1, 1, 10]}\n",
    "\n",
    "gscv = GridSearchCV(my_pipeline, alphas, cv = 5, scoring='roc_auc')\n",
    "gscv_fitted = gscv.fit(X, y)\n",
    "test_scores = gscv_fitted.cv_results_[\"mean_test_score\"]\n",
    "gscv_fitted.best_estimator_"
   ]
  },
  {
   "cell_type": "code",
   "execution_count": 138,
   "id": "fa9e5c13-914d-4014-ab6c-5d1c17470e03",
   "metadata": {
    "tags": []
   },
   "outputs": [
    {
     "name": "stdout",
     "output_type": "stream",
     "text": [
      "Average ROC AUC across 25 cross validations: 0.6464015325670497\n",
      "This is a score that is slightly better than random guesses.\n"
     ]
    }
   ],
   "source": [
    "print(f\"Average ROC AUC across 25 cross validations: {np.mean(test_scores)}\\nThis is a score that is slightly better than random guesses.\")"
   ]
  },
  {
   "cell_type": "code",
   "execution_count": 257,
   "id": "889d1c79-d452-4914-81be-802120928dc7",
   "metadata": {
    "tags": []
   },
   "outputs": [],
   "source": [
    "my_pipeline = Pipeline(\n",
    "    [\n",
    "        (\"preprocessing\", ct),\n",
    "        (\"Decision Tree\", DecisionTreeClassifier(ccp_alpha=.1))\n",
    "    ]\n",
    ")\n",
    "\n",
    "fitted_pipeline = my_pipeline.fit(X_train, y_train)\n",
    "\n",
    "y_pred = fitted_pipeline.predict(X_test)\n",
    "\n",
    "cm = confusion_matrix(y_true = y_test, y_pred = y_pred)\n",
    "\n",
    "cm_df = pd.DataFrame(cm, index=['Actual No Risk', 'Actual Risk'], columns=['Predicted No Risk', 'Predicted Risk'])\n",
    "\n",
    "y_prob = fitted_pipeline.predict_proba(X_test)[:, 1]\n",
    "fpr_dt, tpr_dt, thresholds = roc_curve(y_test, y_prob)"
   ]
  },
  {
   "cell_type": "code",
   "execution_count": 112,
   "id": "4fe90dd8-5c54-41ba-bc50-41dc859d2d77",
   "metadata": {
    "tags": []
   },
   "outputs": [
    {
     "data": {
      "text/html": [
       "<div>\n",
       "<style scoped>\n",
       "    .dataframe tbody tr th:only-of-type {\n",
       "        vertical-align: middle;\n",
       "    }\n",
       "\n",
       "    .dataframe tbody tr th {\n",
       "        vertical-align: top;\n",
       "    }\n",
       "\n",
       "    .dataframe thead th {\n",
       "        text-align: right;\n",
       "    }\n",
       "</style>\n",
       "<table border=\"1\" class=\"dataframe\">\n",
       "  <thead>\n",
       "    <tr style=\"text-align: right;\">\n",
       "      <th></th>\n",
       "      <th>Predicted No Risk</th>\n",
       "      <th>Predicted Risk</th>\n",
       "    </tr>\n",
       "  </thead>\n",
       "  <tbody>\n",
       "    <tr>\n",
       "      <th>Actual No Risk</th>\n",
       "      <td>21</td>\n",
       "      <td>10</td>\n",
       "    </tr>\n",
       "    <tr>\n",
       "      <th>Actual Risk</th>\n",
       "      <td>8</td>\n",
       "      <td>30</td>\n",
       "    </tr>\n",
       "  </tbody>\n",
       "</table>\n",
       "</div>"
      ],
      "text/plain": [
       "                Predicted No Risk  Predicted Risk\n",
       "Actual No Risk                 21              10\n",
       "Actual Risk                     8              30"
      ]
     },
     "execution_count": 112,
     "metadata": {},
     "output_type": "execute_result"
    }
   ],
   "source": [
    "cm_df"
   ]
  },
  {
   "cell_type": "markdown",
   "id": "72889db3-88c3-4d28-be3f-4cec9870ce65",
   "metadata": {},
   "source": [
    "2.3 Decision Tree Metrics"
   ]
  },
  {
   "cell_type": "code",
   "execution_count": 258,
   "id": "780c3c0d-ef73-4fae-8b0e-54fd430a5151",
   "metadata": {
    "tags": []
   },
   "outputs": [
    {
     "name": "stdout",
     "output_type": "stream",
     "text": [
      "Recall Score: 0.7368421052631579 \n",
      "Precision Score: 0.6829268292682927 \n",
      "Specificity Score: 0.5806451612903226 \n",
      "F1 Score: 0.7088607594936709\n"
     ]
    }
   ],
   "source": [
    "rec = recall_score(y_true = y_test, y_pred = y_pred)\n",
    "prec = precision_score(y_true = y_test, y_pred = y_pred)\n",
    "f1 = f1_score(y_true = y_test, y_pred = y_pred)\n",
    "kappa_dtree = cohen_kappa_score(y_test, y_pred)\n",
    "tn, fp, fn, tp = cm.ravel()\n",
    "spec = tn / (tn + fp)\n",
    "print(f\"Recall Score: {rec} \\nPrecision Score: {prec} \\nSpecificity Score: {spec} \\nF1 Score: {f1}\")"
   ]
  },
  {
   "cell_type": "markdown",
   "id": "fc495259-a44a-43b3-b4a0-5699e105dead",
   "metadata": {},
   "source": [
    "#### 1.4 Interpretation\n",
    "The most important variables for predicting heart attack risk are the sex of the person, the type of chest pain, the resting blood pressure, cholesterol level, and age."
   ]
  },
  {
   "cell_type": "markdown",
   "id": "2ce58a4c-436a-4156-818c-51be0707d96f",
   "metadata": {
    "tags": []
   },
   "source": [
    "#### 1.5 ROC Curve"
   ]
  },
  {
   "cell_type": "code",
   "execution_count": 193,
   "id": "06cbe657-0d1e-4abe-a6d8-14e91ac6c0bc",
   "metadata": {
    "tags": []
   },
   "outputs": [],
   "source": [
    "fpr = [*fpr_knn, *fpr_logis, *fpr_dt]\n",
    "tpr = [*tpr_knn, *tpr_logis, *tpr_dt]"
   ]
  },
  {
   "cell_type": "code",
   "execution_count": 211,
   "id": "80c60030-52fa-4bf1-bf51-a87640f6f19a",
   "metadata": {
    "tags": []
   },
   "outputs": [],
   "source": [
    "roc_df = pd.DataFrame(\n",
    "    {'False Positive Rate': fpr,\n",
    "     'True Positive Rate': tpr,\n",
    "     \"Model Type\": [\"KNN\" for _ in range(len(fpr_knn))] + [\"Logistic\" for _ in range(len(fpr_logis))] + [\"Decision Tree\" for _ in range(len(fpr_dt))]}\n",
    ")"
   ]
  },
  {
   "cell_type": "code",
   "execution_count": 216,
   "id": "03506df4-6682-4337-98d5-ae7612de955b",
   "metadata": {
    "tags": []
   },
   "outputs": [
    {
     "data": {
      "image/png": "[encoded data removed]",
      "text/plain": [
       "<Figure size 640x480 with 1 Axes>"
      ]
     },
     "metadata": {
      "image/png": {
       "height": 480,
       "width": 640
      }
     },
     "output_type": "display_data"
    },
    {
     "data": {
      "text/plain": [
       "<Figure Size: (640 x 480)>"
      ]
     },
     "execution_count": 216,
     "metadata": {},
     "output_type": "execute_result"
    }
   ],
   "source": [
    "from plotnine import ggplot, aes, geom_line, geom_abline, labs\n",
    "(ggplot(roc_df, aes(x='False Positive Rate', y='True Positive Rate')) +\n",
    " geom_line(aes(color = \"Model Type\"), size = 1) +\n",
    " geom_abline(intercept=0, slope=1, linetype='--', color='blue', size=.5) +\n",
    " labs(title=f'ROC Curve (AUC = {roc_auc:.2f})', x='False Positive Rate', y='True Positive Rate'))"
   ]
  },
  {
   "cell_type": "markdown",
   "id": "2a9cbe7e-e696-4a0a-85fe-695fdafa93e3",
   "metadata": {},
   "source": [
    "## Part 3: Discussion"
   ]
  },
  {
   "cell_type": "markdown",
   "id": "9d584788-d4f3-4a8e-85c5-9cd77912967d",
   "metadata": {},
   "source": [
    "#### Q1\n",
    "The hospital faces severe lawsuits if they deem a patient to be low risk, and that patient later experiences a heart attack."
   ]
  },
  {
   "cell_type": "markdown",
   "id": "043d6779-b9e0-4b18-a23e-d124449721ee",
   "metadata": {},
   "source": [
    "The hospital will want to minimize the chance of a false negatives, therefore they will want to prioritize recall. A higher recall score indicates that the model is better at correctly identifying patients at risk of a heart attack. For this scenario I would recommend model 2, the logistic regression model, as it has the highest recall score of the three models. I would expect a recall score of about .8 for future observations."
   ]
  },
  {
   "cell_type": "markdown",
   "id": "00076749-f4b9-423c-9331-3d0c025b5e4d",
   "metadata": {},
   "source": [
    "#### Q2\n",
    "The hospital is overfull, and wants to only use bed space for patients most in need of monitoring due to heart attack risk."
   ]
  },
  {
   "cell_type": "markdown",
   "id": "20acb72c-0970-4256-af6a-ed40dc133e5d",
   "metadata": {},
   "source": [
    "In this scenario, the hospital is concerned about the usage of space and thus would want to avoid false positives (patients wrongly classified as high risk). Therefore, I would recommend using specificity as the metric for model selection, along with recall score for further selection, as the goal would be to avoid false positives. For this scenario, I would recommend recommend model 2, the logistic regression model, as it has the highest specificity score and the highest recall score of the three models. I would expect a specificity score of about .84 and a recall score of about .8 for future observations. "
   ]
  },
  {
   "cell_type": "markdown",
   "id": "a32eef9a-7837-4d7f-ba2e-03213a9815f9",
   "metadata": {
    "tags": []
   },
   "source": [
    "#### Q3\n",
    "The hospital is studying root causes of heart attacks, and would like to understand which biological measures are associated with heart attack risk."
   ]
  },
  {
   "cell_type": "markdown",
   "id": "d81d04a4-79a8-4c0f-8808-89fa92dd8916",
   "metadata": {},
   "source": [
    "For a study on root causes, interpretability and feature importance are critical. Therefore you would want to use metrics that allow for clear interpretation, like ROC-AUC and precision. Due to the desire of interpretability, the best model will be model 2, the logistic regression model, as the model has interpretable coefficients. Model 2 also has the best precision and ROC-AUC scores. I would expect a precision score of about .86 and a ROC-AUC score of about .86 for future observations."
   ]
  },
  {
   "cell_type": "markdown",
   "id": "c7c512d3-71f9-4aa2-9610-459c21bb7d9e",
   "metadata": {},
   "source": [
    "#### Q4\n",
    "The hospital is training a new batch of doctors, and they would like to compare the diagnoses of these doctors to the predictions given by the algorithm to measure the ability of new doctors to diagnose patients."
   ]
  },
  {
   "cell_type": "markdown",
   "id": "b553be95-5385-459d-96a9-b3cb5d0f1fe2",
   "metadata": {},
   "source": [
    "When testing a new batch of doctors against the model on their ability to diagnose patients, a good metric to use would be F1 score as it measures overall classification performance. The model with the best F1 score is model 2, the logistic regression model. I would expect a F1 score of about .84 for future observations."
   ]
  },
  {
   "cell_type": "markdown",
   "id": "ae7af82c-cdaf-4d46-98ce-66bb622ce6d4",
   "metadata": {},
   "source": [
    "## Part 4: Validation"
   ]
  },
  {
   "cell_type": "markdown",
   "id": "f39a2024-fcdf-4d76-ac10-5a44f192200b",
   "metadata": {},
   "source": [
    "Use each of your final models in Part One Q1-3, predict the target variable in the validation dataset.\n",
    "\n",
    "For each, output a confusion matrix, and report the ROC AUC, the precision, and the recall.\n",
    "\n",
    "Compare these values to the cross-validated estimates you reported in Part One and Part Two. Did our measure of model success turn out to be approximately correct for the validation data?\n"
   ]
  },
  {
   "cell_type": "code",
   "execution_count": 225,
   "id": "77d80396-89a6-4db1-b58d-e574822a5a94",
   "metadata": {
    "tags": []
   },
   "outputs": [
    {
     "data": {
      "text/html": [
       "<div>\n",
       "<style scoped>\n",
       "    .dataframe tbody tr th:only-of-type {\n",
       "        vertical-align: middle;\n",
       "    }\n",
       "\n",
       "    .dataframe tbody tr th {\n",
       "        vertical-align: top;\n",
       "    }\n",
       "\n",
       "    .dataframe thead th {\n",
       "        text-align: right;\n",
       "    }\n",
       "</style>\n",
       "<table border=\"1\" class=\"dataframe\">\n",
       "  <thead>\n",
       "    <tr style=\"text-align: right;\">\n",
       "      <th></th>\n",
       "      <th>age</th>\n",
       "      <th>sex</th>\n",
       "      <th>cp</th>\n",
       "      <th>trtbps</th>\n",
       "      <th>chol</th>\n",
       "      <th>restecg</th>\n",
       "      <th>thalach</th>\n",
       "      <th>output</th>\n",
       "    </tr>\n",
       "  </thead>\n",
       "  <tbody>\n",
       "    <tr>\n",
       "      <th>0</th>\n",
       "      <td>41</td>\n",
       "      <td>0</td>\n",
       "      <td>1</td>\n",
       "      <td>130</td>\n",
       "      <td>204</td>\n",
       "      <td>0</td>\n",
       "      <td>172</td>\n",
       "      <td>1</td>\n",
       "    </tr>\n",
       "    <tr>\n",
       "      <th>1</th>\n",
       "      <td>64</td>\n",
       "      <td>1</td>\n",
       "      <td>3</td>\n",
       "      <td>110</td>\n",
       "      <td>211</td>\n",
       "      <td>0</td>\n",
       "      <td>144</td>\n",
       "      <td>1</td>\n",
       "    </tr>\n",
       "    <tr>\n",
       "      <th>2</th>\n",
       "      <td>59</td>\n",
       "      <td>1</td>\n",
       "      <td>0</td>\n",
       "      <td>135</td>\n",
       "      <td>234</td>\n",
       "      <td>1</td>\n",
       "      <td>161</td>\n",
       "      <td>1</td>\n",
       "    </tr>\n",
       "    <tr>\n",
       "      <th>3</th>\n",
       "      <td>42</td>\n",
       "      <td>1</td>\n",
       "      <td>0</td>\n",
       "      <td>140</td>\n",
       "      <td>226</td>\n",
       "      <td>1</td>\n",
       "      <td>178</td>\n",
       "      <td>1</td>\n",
       "    </tr>\n",
       "    <tr>\n",
       "      <th>4</th>\n",
       "      <td>40</td>\n",
       "      <td>1</td>\n",
       "      <td>3</td>\n",
       "      <td>140</td>\n",
       "      <td>199</td>\n",
       "      <td>1</td>\n",
       "      <td>178</td>\n",
       "      <td>1</td>\n",
       "    </tr>\n",
       "  </tbody>\n",
       "</table>\n",
       "</div>"
      ],
      "text/plain": [
       "   age  sex  cp  trtbps  chol  restecg  thalach  output\n",
       "0   41    0   1     130   204        0      172       1\n",
       "1   64    1   3     110   211        0      144       1\n",
       "2   59    1   0     135   234        1      161       1\n",
       "3   42    1   0     140   226        1      178       1\n",
       "4   40    1   3     140   199        1      178       1"
      ]
     },
     "execution_count": 225,
     "metadata": {},
     "output_type": "execute_result"
    }
   ],
   "source": [
    "data_validation = pd.read_csv(\"https://www.dropbox.com/s/jkwqdiyx6o6oad0/heart_attack_validation.csv?dl=1\")\n",
    "data_validation.head()"
   ]
  },
  {
   "cell_type": "code",
   "execution_count": 226,
   "id": "b6699043-851c-4779-b0cd-a484d33d97e9",
   "metadata": {
    "tags": []
   },
   "outputs": [],
   "source": [
    "X_validation = data_validation.drop(\"output\", axis = 1)\n",
    "y_validation = data_validation[\"output\"]"
   ]
  },
  {
   "cell_type": "code",
   "execution_count": 245,
   "id": "f478b3a3-4455-4cf4-bbbe-a38baab2ca43",
   "metadata": {
    "tags": []
   },
   "outputs": [
    {
     "data": {
      "text/html": [
       "<div>\n",
       "<style scoped>\n",
       "    .dataframe tbody tr th:only-of-type {\n",
       "        vertical-align: middle;\n",
       "    }\n",
       "\n",
       "    .dataframe tbody tr th {\n",
       "        vertical-align: top;\n",
       "    }\n",
       "\n",
       "    .dataframe thead th {\n",
       "        text-align: right;\n",
       "    }\n",
       "</style>\n",
       "<table border=\"1\" class=\"dataframe\">\n",
       "  <thead>\n",
       "    <tr style=\"text-align: right;\">\n",
       "      <th></th>\n",
       "      <th>Predicted No Risk</th>\n",
       "      <th>Predicted Risk</th>\n",
       "    </tr>\n",
       "  </thead>\n",
       "  <tbody>\n",
       "    <tr>\n",
       "      <th>Actual No Risk</th>\n",
       "      <td>10</td>\n",
       "      <td>1</td>\n",
       "    </tr>\n",
       "    <tr>\n",
       "      <th>Actual Risk</th>\n",
       "      <td>7</td>\n",
       "      <td>12</td>\n",
       "    </tr>\n",
       "  </tbody>\n",
       "</table>\n",
       "</div>"
      ],
      "text/plain": [
       "                Predicted No Risk  Predicted Risk\n",
       "Actual No Risk                 10               1\n",
       "Actual Risk                     7              12"
      ]
     },
     "execution_count": 245,
     "metadata": {},
     "output_type": "execute_result"
    }
   ],
   "source": [
    "# KNN\n",
    "my_pipeline = Pipeline(\n",
    "    [\n",
    "        (\"preprocessing\", ct),\n",
    "        (\"KNN\", KNeighborsClassifier(n_neighbors=22))\n",
    "    ]\n",
    ")\n",
    "\n",
    "fitted_pipeline = my_pipeline.fit(X, y)\n",
    "\n",
    "y_pred = fitted_pipeline.predict(X_validation)\n",
    "\n",
    "cm = confusion_matrix(y_true = y_validation, y_pred = y_pred)\n",
    "\n",
    "cm_df = pd.DataFrame(cm, index=['Actual No Risk', 'Actual Risk'], columns=['Predicted No Risk', 'Predicted Risk'])\n",
    "\n",
    "y_prob = fitted_pipeline.predict_proba(X_validation)[:, 1]\n",
    "fpr_knn, tpr_knn, thresholds = roc_curve(y_validation, y_prob)\n",
    "\n",
    "cm_df"
   ]
  },
  {
   "cell_type": "code",
   "execution_count": 246,
   "id": "57cab253-57d0-4b7d-9dbd-ee622c9f5cba",
   "metadata": {
    "tags": []
   },
   "outputs": [
    {
     "name": "stdout",
     "output_type": "stream",
     "text": [
      "Recall Score: 0.631578947368421 \n",
      "Precision Score: 0.9230769230769231 \n",
      "Specificity Score: 0.9090909090909091 \n",
      "F1 Score: 0.7499999999999999 \n",
      "ROC_AUC Score: 0.9186602870813397\n"
     ]
    }
   ],
   "source": [
    "rec = recall_score(y_true = y_validation, y_pred = y_pred)\n",
    "prec = precision_score(y_true = y_validation, y_pred = y_pred)\n",
    "f1 = f1_score(y_true = y_validation, y_pred = y_pred)\n",
    "roc_auc = roc_auc_score(y_true = y_validation, y_score = y_prob)\n",
    "tn, fp, fn, tp = cm.ravel()\n",
    "spec = tn / (tn + fp)\n",
    "print(f\"Recall Score: {rec} \\nPrecision Score: {prec} \\nSpecificity Score: {spec} \\nF1 Score: {f1} \\nROC_AUC Score: {roc_auc}\")"
   ]
  },
  {
   "cell_type": "code",
   "execution_count": 243,
   "id": "23817efc-f543-426e-ae2e-28ff5375e049",
   "metadata": {
    "tags": []
   },
   "outputs": [
    {
     "data": {
      "text/html": [
       "<div>\n",
       "<style scoped>\n",
       "    .dataframe tbody tr th:only-of-type {\n",
       "        vertical-align: middle;\n",
       "    }\n",
       "\n",
       "    .dataframe tbody tr th {\n",
       "        vertical-align: top;\n",
       "    }\n",
       "\n",
       "    .dataframe thead th {\n",
       "        text-align: right;\n",
       "    }\n",
       "</style>\n",
       "<table border=\"1\" class=\"dataframe\">\n",
       "  <thead>\n",
       "    <tr style=\"text-align: right;\">\n",
       "      <th></th>\n",
       "      <th>Predicted No Risk</th>\n",
       "      <th>Predicted Risk</th>\n",
       "    </tr>\n",
       "  </thead>\n",
       "  <tbody>\n",
       "    <tr>\n",
       "      <th>Actual No Risk</th>\n",
       "      <td>8</td>\n",
       "      <td>3</td>\n",
       "    </tr>\n",
       "    <tr>\n",
       "      <th>Actual Risk</th>\n",
       "      <td>5</td>\n",
       "      <td>14</td>\n",
       "    </tr>\n",
       "  </tbody>\n",
       "</table>\n",
       "</div>"
      ],
      "text/plain": [
       "                Predicted No Risk  Predicted Risk\n",
       "Actual No Risk                  8               3\n",
       "Actual Risk                     5              14"
      ]
     },
     "execution_count": 243,
     "metadata": {},
     "output_type": "execute_result"
    }
   ],
   "source": [
    "# Logistic Regression\n",
    "my_pipeline = Pipeline(\n",
    "    [\n",
    "        (\"preprocessing\", ct),\n",
    "        (\"Logistic Regression\", LogisticRegression(solver=\"saga\", C=5, l1_ratio=.001, penalty = \"elasticnet\", max_iter = 1000))\n",
    "    ]\n",
    ")\n",
    "\n",
    "fitted_pipeline = my_pipeline.fit(X, y)\n",
    "\n",
    "y_pred = fitted_pipeline.predict(X_validation)\n",
    "\n",
    "cm = confusion_matrix(y_true = y_validation, y_pred = y_pred)\n",
    "\n",
    "cm_df = pd.DataFrame(cm, index=['Actual No Risk', 'Actual Risk'], columns=['Predicted No Risk', 'Predicted Risk'])\n",
    "\n",
    "y_prob = fitted_pipeline.predict_proba(X_validation)[:, 1]\n",
    "fpr_knn, tpr_knn, thresholds = roc_curve(y_validation, y_prob)\n",
    "\n",
    "cm_df"
   ]
  },
  {
   "cell_type": "code",
   "execution_count": 244,
   "id": "926215d7-5ac9-4b27-b0c2-1d059b50748e",
   "metadata": {
    "tags": []
   },
   "outputs": [
    {
     "name": "stdout",
     "output_type": "stream",
     "text": [
      "Recall Score: 0.7368421052631579 \n",
      "Precision Score: 0.8235294117647058 \n",
      "Specificity Score: 0.7272727272727273 \n",
      "F1 Score: 0.7777777777777778 \n",
      "ROC_AUC Score: 0.8851674641148326\n"
     ]
    }
   ],
   "source": [
    "rec = recall_score(y_true = y_validation, y_pred = y_pred)\n",
    "prec = precision_score(y_true = y_validation, y_pred = y_pred)\n",
    "f1 = f1_score(y_true = y_validation, y_pred = y_pred)\n",
    "roc_auc = roc_auc_score(y_true = y_validation, y_score = y_prob)\n",
    "tn, fp, fn, tp = cm.ravel()\n",
    "spec = tn / (tn + fp)\n",
    "print(f\"Recall Score: {rec} \\nPrecision Score: {prec} \\nSpecificity Score: {spec} \\nF1 Score: {f1} \\nROC_AUC Score: {roc_auc}\")"
   ]
  },
  {
   "cell_type": "code",
   "execution_count": 241,
   "id": "d84bc621-dffa-4f9b-99e2-4f228792a9c2",
   "metadata": {
    "tags": []
   },
   "outputs": [
    {
     "data": {
      "text/html": [
       "<div>\n",
       "<style scoped>\n",
       "    .dataframe tbody tr th:only-of-type {\n",
       "        vertical-align: middle;\n",
       "    }\n",
       "\n",
       "    .dataframe tbody tr th {\n",
       "        vertical-align: top;\n",
       "    }\n",
       "\n",
       "    .dataframe thead th {\n",
       "        text-align: right;\n",
       "    }\n",
       "</style>\n",
       "<table border=\"1\" class=\"dataframe\">\n",
       "  <thead>\n",
       "    <tr style=\"text-align: right;\">\n",
       "      <th></th>\n",
       "      <th>Predicted No Risk</th>\n",
       "      <th>Predicted Risk</th>\n",
       "    </tr>\n",
       "  </thead>\n",
       "  <tbody>\n",
       "    <tr>\n",
       "      <th>Actual No Risk</th>\n",
       "      <td>10</td>\n",
       "      <td>1</td>\n",
       "    </tr>\n",
       "    <tr>\n",
       "      <th>Actual Risk</th>\n",
       "      <td>5</td>\n",
       "      <td>14</td>\n",
       "    </tr>\n",
       "  </tbody>\n",
       "</table>\n",
       "</div>"
      ],
      "text/plain": [
       "                Predicted No Risk  Predicted Risk\n",
       "Actual No Risk                 10               1\n",
       "Actual Risk                     5              14"
      ]
     },
     "execution_count": 241,
     "metadata": {},
     "output_type": "execute_result"
    }
   ],
   "source": [
    "# Decision Tree \n",
    "my_pipeline = Pipeline(\n",
    "    [\n",
    "        (\"preprocessing\", ct),\n",
    "        (\"Decision Tree\", DecisionTreeClassifier(ccp_alpha=.1))\n",
    "    ]\n",
    ")\n",
    "\n",
    "fitted_pipeline = my_pipeline.fit(X, y)\n",
    "\n",
    "y_pred = fitted_pipeline.predict(X_validation)\n",
    "\n",
    "cm = confusion_matrix(y_true = y_validation, y_pred = y_pred)\n",
    "\n",
    "cm_df = pd.DataFrame(cm, index=['Actual No Risk', 'Actual Risk'], columns=['Predicted No Risk', 'Predicted Risk'])\n",
    "\n",
    "y_prob = fitted_pipeline.predict_proba(X_validation)[:, 1]\n",
    "fpr_knn, tpr_knn, thresholds = roc_curve(y_validation, y_prob)\n",
    "\n",
    "cm_df"
   ]
  },
  {
   "cell_type": "code",
   "execution_count": 242,
   "id": "3069e19d-72b5-420a-b814-8a96eb3b1748",
   "metadata": {
    "tags": []
   },
   "outputs": [
    {
     "name": "stdout",
     "output_type": "stream",
     "text": [
      "Recall Score: 0.7368421052631579 \n",
      "Precision Score: 0.9333333333333333 \n",
      "Specificity Score: 0.9090909090909091 \n",
      "F1 Score: 0.8235294117647058 \n",
      "ROC_AUC Score: 0.8229665071770335\n"
     ]
    }
   ],
   "source": [
    "rec = recall_score(y_true = y_validation, y_pred = y_pred)\n",
    "prec = precision_score(y_true = y_validation, y_pred = y_pred)\n",
    "f1 = f1_score(y_true = y_validation, y_pred = y_pred)\n",
    "roc_auc = roc_auc_score(y_true = y_validation, y_score = y_prob)\n",
    "tn, fp, fn, tp = cm.ravel()\n",
    "spec = tn / (tn + fp)\n",
    "print(f\"Recall Score: {rec} \\nPrecision Score: {prec} \\nSpecificity Score: {spec} \\nF1 Score: {f1} \\nROC_AUC Score: {roc_auc}\")"
   ]
  },
  {
   "cell_type": "markdown",
   "id": "cb1113c4-e155-4910-a02a-4816ce6164b2",
   "metadata": {},
   "source": [
    "Comparing the models to the cross validated metrics, I found that for KNN all of the metrics except the recall score and F1 score are significantly better than expected from earlier in the cross validation metrics. For the logistic regression model, I found that all of the metrics except for ROC AUC are worse than expeceted from earlier in the cross validation metrics, with ROC AUC being very similar to the predicted value. Finally, for the Decision Tree model, I found that the recall score is worse while all of the other metrics are significantly better than expected from the cross validation metrics."
   ]
  },
  {
   "cell_type": "markdown",
   "id": "23211c5d-cad0-4055-8ae0-92085d0dc866",
   "metadata": {},
   "source": [
    "## Part 5: Cohen's Kappa"
   ]
  },
  {
   "cell_type": "code",
   "execution_count": 259,
   "id": "340c67d2-3e0a-43e1-b0bc-fad2e9e31c8f",
   "metadata": {
    "tags": []
   },
   "outputs": [
    {
     "name": "stdout",
     "output_type": "stream",
     "text": [
      "Cohen's Kappa Scores \n",
      "KNN: 0.3831417624521072 \n",
      "Logistic Regression: 0.37944325481798724 \n",
      "Decision Tree: 0.3203426124197003\n"
     ]
    }
   ],
   "source": [
    "print(f\"Cohen's Kappa Scores \\nKNN: {kappa_knn} \\nLogistic Regression: {kappa_logistic} \\nDecision Tree: {kappa_dtree}\")"
   ]
  },
  {
   "cell_type": "markdown",
   "id": "8391e83e-bde3-4a3a-a7ca-e40d7a3be8e6",
   "metadata": {},
   "source": [
    "Cohen's Kappa is useful as a measure of model success in situations where the distribution of classes is imbalanced. In imbalanced datasets, accuracy by itself may not be a good indicator of model performance. Cohen's Kappa considers the agreement beyond chance and adjusts for the class distribution, providing a more robust measure of performance. Another scenario where Cohen's Kappa might be beneficial is assessing the performance of models in tasks involving people, such as medical diagnosis or sentiment analysis, where different people might have varying levels of agreement. This is because Cohen's Kappa accounts for the possibility of agreement occurring by chance, making it is a good metric for evaluating the reliability of classification tasks involving different raters. Examining the values calculated for Cohen's Kappa for my three models does change slightly when using Cohen's Kappa. This is because Cohen's Kappa suggests that the KNN model is slightly better than the logistic regression model. This is backed up by the validation metrics, but is not what I predicted earlier in the lab. I believe this makes sense because we are using medical diagnosis risk data which is an area where people may have different levels of agreement on a diagnosis."
   ]
  }
 ],
 "metadata": {
  "kernelspec": {
   "display_name": "Python 3 (ipykernel)",
   "language": "python",
   "name": "python3"
  },
  "language_info": {
   "codemirror_mode": {
    "name": "ipython",
    "version": 3
   },
   "file_extension": ".py",
   "mimetype": "text/x-python",
   "name": "python",
   "nbconvert_exporter": "python",
   "pygments_lexer": "ipython3",
   "version": "3.11.4"
  }
 },
 "nbformat": 4,
 "nbformat_minor": 5
}
